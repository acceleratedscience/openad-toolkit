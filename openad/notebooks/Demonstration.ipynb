{
 "cells": [
  {
   "cell_type": "code",
   "execution_count": null,
   "id": "cfd86401-463d-4ba2-92ba-d4764ef72ee4",
   "metadata": {
    "tags": []
   },
   "outputs": [],
   "source": [
    "%reload_ext openad.notebooks.styles"
   ]
  },
  {
   "cell_type": "markdown",
   "id": "327fb1db-8afc-4d72-b3fb-8074d1ecf4e4",
   "metadata": {
    "tags": []
   },
   "source": [
    "<!-- Header banner -->\n",
    "<div class=\"banner\"><div>OpenAD Demonstration</div><b>OpenAD<span>Tutorial</span></b></div>"
   ]
  },
  {
   "cell_type": "markdown",
   "id": "4d6fe33c-36e1-40bd-b8e1-434017a704eb",
   "metadata": {
    "tags": []
   },
   "source": [
    "## OpenAD Magic Commands\n",
    "\n",
    "When using Magic commands to access the Openad toolkit you have 2 options \n",
    "\n",
    "1. `%openad` provides a simple user interface that provides styled and formatted objects back to the notebook. Tables use pandas Dataframe Styler object. These can be converted back to data frame objects using `.data` on the object or using the in memory assistant which will copy the last result to a file , dataframe or to the dataviewer.\n",
    "  When this is available you will see `Next up, you can run: result open/edit/copy/display/as dataframe/save [as '<filename.csv>']` in the output.\n",
    "  \n",
    "  This magic command is the recommended version to use as it will provide all warning and results visually.\n",
    "  \n",
    "2. `%openadd` is the second form that allows you to return api style results in dataframe or list formats that can be used programatically for functions or flows in your notebook. This is good for prebuilt notebook process flows."
   ]
  },
  {
   "cell_type": "markdown",
   "id": "bc76c3cb-4c43-4bda-9ad7-d66e14b6ba42",
   "metadata": {},
   "source": [
    "### Available Commands"
   ]
  },
  {
   "cell_type": "markdown",
   "id": "b1a5d503",
   "metadata": {},
   "source": [
    "To learn what commands available you simply need to enter a `?` at the command line or at a magic command to list avialable commands"
   ]
  },
  {
   "cell_type": "code",
   "execution_count": null,
   "id": "dd832ca1-f667-4f54-9a0c-88bb3c0b9799",
   "metadata": {
    "tags": []
   },
   "outputs": [],
   "source": [
    "%openad ?"
   ]
  },
  {
   "cell_type": "markdown",
   "id": "54cfb805-91b2-4723-9b2e-c82aa63adaf2",
   "metadata": {
    "tags": []
   },
   "source": [
    "## Plugin Help"
   ]
  },
  {
   "cell_type": "markdown",
   "id": "d1c3c1f1",
   "metadata": {},
   "source": [
    "To look at the help purely for a specific toolkit, you simply need to ensure the toolkit is added then run the following."
   ]
  },
  {
   "cell_type": "markdown",
   "id": "bf8a6846",
   "metadata": {},
   "source": [
    "%openad add toolkit rxn"
   ]
  },
  {
   "cell_type": "code",
   "execution_count": null,
   "id": "df17751f-3059-47a9-ac78-daea954f6d8a",
   "metadata": {
    "tags": []
   },
   "outputs": [],
   "source": [
    "%openad ? rxn"
   ]
  },
  {
   "cell_type": "markdown",
   "id": "da1a631c-44ce-4ff8-a071-90b140380877",
   "metadata": {
    "tags": []
   },
   "source": [
    "## Working with OpenAD"
   ]
  },
  {
   "cell_type": "markdown",
   "id": "0e4dd088",
   "metadata": {},
   "source": [
    "There are a Range of different commands that can be run to navigate through the toolkit, looking at `workspaces`, `toolkits`, `files` and `runs` within `workspaces` etc.<br> For example:"
   ]
  },
  {
   "cell_type": "code",
   "execution_count": null,
   "id": "162edbdd-3469-468c-94db-bbc59c87e07b",
   "metadata": {
    "tags": []
   },
   "outputs": [],
   "source": [
    "%openad list workspaces"
   ]
  },
  {
   "cell_type": "code",
   "execution_count": null,
   "id": "0b8cc971-0da1-4128-8345-9e8fd288d71b",
   "metadata": {
    "tags": []
   },
   "outputs": [],
   "source": [
    "%openad list files "
   ]
  },
  {
   "cell_type": "markdown",
   "id": "a032d458-4a5d-443b-8f3e-676236298374",
   "metadata": {
    "tags": []
   },
   "source": [
    "### Runs"
   ]
  },
  {
   "cell_type": "markdown",
   "id": "20c5918c",
   "metadata": {},
   "source": [
    "The concept of a run is to be able to re execute a consecutive set of commands in order, ideally that provide information to one another."
   ]
  },
  {
   "cell_type": "code",
   "execution_count": null,
   "id": "102e0073-71ee-4ed4-bd9d-a3ea03a9ac5c",
   "metadata": {
    "tags": []
   },
   "outputs": [],
   "source": [
    "%openad ? run"
   ]
  },
  {
   "cell_type": "markdown",
   "id": "6fca7307",
   "metadata": {},
   "source": [
    "We are now going to create a run for demostration purposes."
   ]
  },
  {
   "cell_type": "code",
   "execution_count": null,
   "id": "8acb6a4e-db7b-4e73-993c-f6612757c4c5",
   "metadata": {
    "tags": []
   },
   "outputs": [],
   "source": [
    "%openad create run"
   ]
  },
  {
   "cell_type": "code",
   "execution_count": null,
   "id": "24b927b0-d7f3-4174-9f2c-7888452a5788",
   "metadata": {
    "tags": []
   },
   "outputs": [],
   "source": [
    "%openad list files"
   ]
  },
  {
   "cell_type": "code",
   "execution_count": null,
   "id": "5701c7bb-cb21-49d3-87ae-0343a2ef7d13",
   "metadata": {
    "tags": []
   },
   "outputs": [],
   "source": [
    "%openad rxn list models"
   ]
  },
  {
   "cell_type": "code",
   "execution_count": null,
   "id": "0a3f391c-b380-4d9b-b4c3-a74a5d2e8014",
   "metadata": {
    "tags": []
   },
   "outputs": [],
   "source": [
    "%openad list runs"
   ]
  },
  {
   "cell_type": "markdown",
   "id": "8418c9f3",
   "metadata": {},
   "source": [
    "When we want to stop and record the run we simply execute the following."
   ]
  },
  {
   "cell_type": "code",
   "execution_count": null,
   "id": "74aff36c-10bf-4c80-adc8-1c51f9337bb2",
   "metadata": {
    "tags": []
   },
   "outputs": [],
   "source": [
    "%openad save run as test_run3"
   ]
  },
  {
   "cell_type": "markdown",
   "id": "52011da0",
   "metadata": {},
   "source": [
    "We can display its contents with the following command."
   ]
  },
  {
   "cell_type": "code",
   "execution_count": null,
   "id": "cc0a5f2c",
   "metadata": {
    "tags": []
   },
   "outputs": [],
   "source": [
    "%openad display run test_run3"
   ]
  },
  {
   "cell_type": "markdown",
   "id": "24e0a68c",
   "metadata": {},
   "source": [
    "Now let's run it."
   ]
  },
  {
   "cell_type": "code",
   "execution_count": null,
   "id": "2d70dd78-f717-4f68-ad11-1b579c2c4d71",
   "metadata": {
    "tags": []
   },
   "outputs": [],
   "source": [
    "%openad run test_run3"
   ]
  },
  {
   "cell_type": "markdown",
   "id": "0e128d74-17fc-4b53-9995-8798b7719d39",
   "metadata": {
    "tags": []
   },
   "source": [
    "## Demonstration: Deep Search to RXN\n",
    "\n",
    "We'll use <b>Deep Search</b> to scan patents for mentions of a drug, then use <b>RXN</b> to determine retrosynthesis paths."
   ]
  },
  {
   "cell_type": "markdown",
   "id": "fff7d1dd",
   "metadata": {},
   "source": [
    "First, let's ask the AI assistant how we should do it."
   ]
  },
  {
   "cell_type": "code",
   "execution_count": null,
   "id": "3631ed12-6508-462e-b129-9a5742787deb",
   "metadata": {
    "tags": []
   },
   "outputs": [],
   "source": [
    "mol = %openadd @aspirin>>canonical_smiles\n",
    "\n",
    "%openad ds search for patents containing molecule '{mol}'\n",
    "\n",
    "%openad rxn predict retrosynthesis '{mol}'"
   ]
  },
  {
   "cell_type": "markdown",
   "id": "c58f14a7-5140-4172-81fd-d9b1d6e086b3",
   "metadata": {
    "tags": []
   },
   "source": [
    "## Demonstration: Sequence of commands"
   ]
  },
  {
   "cell_type": "markdown",
   "id": "013f99ed-8ecc-4dec-b427-48d4c6c2dd97",
   "metadata": {},
   "source": [
    "#### 1. Get a molecule's SMILES"
   ]
  },
  {
   "cell_type": "code",
   "execution_count": null,
   "id": "9ef34ebb-46a1-40eb-9ea2-b729a784861a",
   "metadata": {
    "tags": []
   },
   "outputs": [],
   "source": [
    "target_smile = %openadd @tritace>>canonical_smiles"
   ]
  },
  {
   "cell_type": "markdown",
   "id": "94615b97-9eac-48f8-8f72-59ea221c1b3f",
   "metadata": {
    "tags": []
   },
   "source": [
    "#### 2. Query Deep Search for patent mentions"
   ]
  },
  {
   "cell_type": "code",
   "execution_count": null,
   "id": "967765ed-2db9-41f8-a970-4825e3712f2e",
   "metadata": {
    "tags": []
   },
   "outputs": [],
   "source": [
    "%openad ds search for patents containing molecule '{target_smile}'"
   ]
  },
  {
   "cell_type": "markdown",
   "id": "a81eb4a6-5d28-4b5d-85ba-b7b06dc28f3c",
   "metadata": {},
   "source": [
    "#### 3. Inspect available domains and collections at Deep Search"
   ]
  },
  {
   "cell_type": "code",
   "execution_count": null,
   "id": "28aeed51-c3a9-437e-b6f7-011e47e57dd8",
   "metadata": {
    "tags": []
   },
   "outputs": [],
   "source": [
    "%openad ds display all collections "
   ]
  },
  {
   "cell_type": "markdown",
   "id": "25329683-fbb6-4686-81db-e4d3cfc1861e",
   "metadata": {},
   "source": [
    "#### 4. Learn about the collection we may find the most interesting"
   ]
  },
  {
   "cell_type": "code",
   "execution_count": null,
   "id": "a7b9467a-a12d-4979-80d9-103f2b8796dd",
   "metadata": {
    "tags": []
   },
   "outputs": [],
   "source": [
    "%openad ds display collection details 'Crossref'"
   ]
  },
  {
   "cell_type": "markdown",
   "id": "1d71eeed",
   "metadata": {},
   "source": [
    "#### 5. Find which collections mention the molecule 'Sibofimloc'"
   ]
  },
  {
   "cell_type": "code",
   "execution_count": null,
   "id": "bf193e24-fc78-4cca-854f-d07ba543bfc9",
   "metadata": {
    "tags": []
   },
   "outputs": [],
   "source": [
    "%openad ds display collection matches for 'Sibofimloc'"
   ]
  },
  {
   "cell_type": "markdown",
   "id": "74904af1-4a45-4675-88be-0f74a75fdfb6",
   "metadata": {},
   "source": [
    "#### 6. Find papers discussing Sibofimloc and Safety"
   ]
  },
  {
   "cell_type": "code",
   "execution_count": null,
   "id": "0b4baebf-c43a-49ec-a12b-2695edd99c25",
   "metadata": {
    "tags": []
   },
   "outputs": [],
   "source": [
    "%openad ds search collection 'crossref' for 'Sibofimloc AND safety' show (docs data)"
   ]
  },
  {
   "cell_type": "markdown",
   "id": "cdc5974c-773c-4e1c-8c03-5096428904b1",
   "metadata": {},
   "source": [
    "#### 7. Inspect molecule properties"
   ]
  },
  {
   "cell_type": "code",
   "execution_count": null,
   "id": "588e1d76-a044-4755-a92e-23532dbea286",
   "metadata": {
    "tags": []
   },
   "outputs": [],
   "source": [
    "%openad show molecule Sibofimloc"
   ]
  },
  {
   "cell_type": "markdown",
   "id": "73b00650-8252-4225-a015-e3992548d649",
   "metadata": {},
   "source": [
    "#### 8. Find similar molecules\n",
    "\n",
    "This will let us consider similar targets to pursue if our further experiments don't work as intended."
   ]
  },
  {
   "cell_type": "code",
   "execution_count": null,
   "id": "471ad06b-2957-4d55-ad7f-99b754a95475",
   "metadata": {
    "scrolled": true,
    "tags": []
   },
   "outputs": [],
   "source": [
    "target_string = %openadd @Sibofimloc>>canonical_smiles\n",
    "similar_targets = %openadd ds search for similar molecules to '{target_string}' save as 'similar_targets.csv'\n",
    "display(similar_targets)"
   ]
  },
  {
   "cell_type": "markdown",
   "id": "4e26d240-9258-48fb-9ee3-e19461bace5e",
   "metadata": {},
   "source": [
    "#### 9. Visually inspect molecules"
   ]
  },
  {
   "cell_type": "code",
   "execution_count": null,
   "id": "1e565400-e2b4-415f-92fa-a21a450607f4",
   "metadata": {
    "tags": []
   },
   "outputs": [],
   "source": [
    "%openad load molecules using dataframe similar_targets\n",
    "%openad show molecules "
   ]
  },
  {
   "cell_type": "markdown",
   "id": "23da015c-8388-4fa2-8e1b-7867cf71bf57",
   "metadata": {},
   "source": [
    "#### 10. Find patents related to target"
   ]
  },
  {
   "cell_type": "code",
   "execution_count": null,
   "id": "bb4a3ce2-a93a-4a85-b32e-d5ba2738fd5a",
   "metadata": {
    "tags": []
   },
   "outputs": [],
   "source": [
    "%openad ds search for patents containing molecule '{target_string}'"
   ]
  },
  {
   "cell_type": "markdown",
   "id": "04657557",
   "metadata": {},
   "source": [
    "#### 11. Find patents related to similar targets"
   ]
  },
  {
   "cell_type": "code",
   "execution_count": null,
   "id": "97fd3059-83b8-48c7-bd48-fd406c8ced14",
   "metadata": {
    "scrolled": true,
    "tags": []
   },
   "outputs": [],
   "source": [
    "import pandas\n",
    "patent_list = []\n",
    "for similar_mol in similar_targets['smiles']:\n",
    "    results_df = %openadd ds search for patents containing molecule '{similar_mol}'\n",
    "    patent_list = patent_list + results_df.to_dict(orient=\"records\")\n",
    "\n",
    "patent_list_df = pandas.DataFrame(patent_list)\n",
    "patent_list_df"
   ]
  },
  {
   "cell_type": "markdown",
   "id": "8c1ea748-5b63-450a-bfe1-fdd897112a25",
   "metadata": {
    "tags": []
   },
   "source": [
    "#### 12. Gather molecules from related patents"
   ]
  },
  {
   "cell_type": "code",
   "execution_count": null,
   "id": "ab9ea582-ef99-4400-8a1c-f3e7f3640552",
   "metadata": {
    "tags": []
   },
   "outputs": [],
   "source": [
    "%openad ds search for molecules in patents from dataframe patent_list_df"
   ]
  },
  {
   "cell_type": "markdown",
   "id": "619a9cff-aefc-42a6-935d-a1fbf259e4a7",
   "metadata": {},
   "source": [
    "#### 13. Visualize all results"
   ]
  },
  {
   "cell_type": "code",
   "execution_count": null,
   "id": "92b48028-3d15-421c-a6f9-1b705f199da3",
   "metadata": {
    "tags": []
   },
   "outputs": [],
   "source": [
    "%openad result open"
   ]
  },
  {
   "cell_type": "markdown",
   "id": "84f2890f-70e3-4a4d-b4e2-69f9186918b5",
   "metadata": {},
   "source": [
    "#### 14. Visualize individual result"
   ]
  },
  {
   "cell_type": "code",
   "execution_count": null,
   "id": "80f00817-ba5d-41c8-b623-dc1caf336788",
   "metadata": {
    "tags": []
   },
   "outputs": [],
   "source": [
    "%openad display molecule CCC(C)C(=O)N1CCC2(CC1)c1cc(C#CC3OC(CO)C(O)C(O)C3O)ccc1-c1ccc(C#CC3OC(CO)C(O)C(O)C3O)cc12"
   ]
  },
  {
   "cell_type": "markdown",
   "id": "7b4b5f1a-0d80-458b-b5a8-ca93fbc88441",
   "metadata": {
    "tags": []
   },
   "source": [
    "## Retrosynthesis Prediction"
   ]
  },
  {
   "cell_type": "markdown",
   "id": "cbfa8033",
   "metadata": {
    "tags": []
   },
   "source": [
    "We'll run the retrosynthesis prediction on our original target molecule `Sibofimloc` to determine how to snythesize the molecule."
   ]
  },
  {
   "cell_type": "code",
   "execution_count": null,
   "id": "7adbd966-2314-4ac9-bcc5-3097ba5a9d61",
   "metadata": {
    "tags": []
   },
   "outputs": [],
   "source": [
    "target_string = 'CCC(C)C(=O)N1CCC2(CC1)c1cc(C#CC3OC(CO)C(O)C(O)C3O)ccc1-c1ccc(C#CC3OC(CO)C(O)C(O)C3O)cc12'\n",
    "%openad rxn predict retrosynthesis '{target_string}' using( max_steps=3 )"
   ]
  },
  {
   "cell_type": "code",
   "execution_count": null,
   "id": "27692ac8-2824-49b0-8705-ff5f6ea128b1",
   "metadata": {
    "tags": []
   },
   "outputs": [],
   "source": [
    "%openad add molecule {target_string}\n",
    "%openad enrich molecules with analysis\n",
    "%openad show molecule {target_string}"
   ]
  },
  {
   "cell_type": "markdown",
   "id": "95e3d699-abff-4d79-adde-ebfd94c6f420",
   "metadata": {
    "tags": []
   },
   "source": [
    "## Interpreting  Recipes"
   ]
  },
  {
   "cell_type": "code",
   "execution_count": null,
   "id": "87dffbe7-e832-4205-abdc-dabb7b987805",
   "metadata": {
    "tags": []
   },
   "outputs": [],
   "source": [
    "%openad rxn interpret recipe 'To a stirred solution of 7-(difluoromethylsulfonyl)-4-fluoro-indan-1-one (110 mg, 0.42 mmol)\\\n",
    "in methanol (4 mL) was added sodium borohydride \\\n",
    "(24 mg, 0.62 mmol). The reaction mixture was stirred at ambient temperature for 1 hour.'"
   ]
  },
  {
   "cell_type": "markdown",
   "id": "dd026f02-2589-478b-b57b-f87ccf4352e5",
   "metadata": {
    "tags": []
   },
   "source": [
    "## Predicting Reaction Outcomes"
   ]
  },
  {
   "cell_type": "markdown",
   "id": "06437709-ed2c-45a1-bdd8-8152e343495f",
   "metadata": {},
   "source": [
    "#### Single Prediction"
   ]
  },
  {
   "cell_type": "code",
   "execution_count": null,
   "id": "921fff0f-796b-4923-a1b6-d3ddb0298a34",
   "metadata": {
    "tags": []
   },
   "outputs": [],
   "source": [
    "%openad rxn predict reaction 'Cl.CCC(=O)NCCC.O' use_saved"
   ]
  },
  {
   "cell_type": "code",
   "execution_count": null,
   "id": "868c2adb-ae99-4a95-95bb-f86c7c3fc974",
   "metadata": {
    "tags": []
   },
   "outputs": [],
   "source": [
    "%openad import from '~/openad_notebooks/sample_files/reactions.csv' to 'reactions.csv'\n",
    "%openad rxn predict reaction in batch from file 'reactions.csv'"
   ]
  },
  {
   "cell_type": "markdown",
   "id": "94175849-50e8-4d5d-bc97-9545d38e7116",
   "metadata": {},
   "source": [
    "#### Batch Predictions"
   ]
  },
  {
   "cell_type": "code",
   "execution_count": null,
   "id": "28425cd2-289a-41cf-9017-4e9a6e48177b",
   "metadata": {
    "tags": []
   },
   "outputs": [],
   "source": [
    "%openad rxn predict reaction in batch from list ['BrBr.c1ccc2cc3ccccc3cc2c1CCO' ,'Cl.CCC(=O)NCCC.O'] "
   ]
  },
  {
   "cell_type": "markdown",
   "id": "76c2a06c-d69e-4758-a66c-069e9513b760",
   "metadata": {},
   "source": [
    "#### Using the [use_saved] clause"
   ]
  },
  {
   "cell_type": "markdown",
   "id": "3be03ac3-9c8a-4692-8d53-04202df23838",
   "metadata": {},
   "source": [
    "Providing the ability to reuse recently run previous reaction runs"
   ]
  },
  {
   "cell_type": "code",
   "execution_count": null,
   "id": "cf813e5f-24b2-4757-9d31-1d8756b7b994",
   "metadata": {
    "tags": []
   },
   "outputs": [],
   "source": [
    "%openad rxn predict reaction in batch  from list ['BrBr.c1ccc2cc3ccccc3cc2c1CCO' ,'BrBr.c1ccc2cc3ccccc3cc2c1','Cl.CCC(=O)NCCC.O'] use_saved"
   ]
  },
  {
   "cell_type": "code",
   "execution_count": null,
   "id": "b93788a6-25aa-4898-8a73-c3ed20807232",
   "metadata": {
    "tags": []
   },
   "outputs": [],
   "source": [
    "\n",
    "import pandas\n",
    "lst = ['BrBr.c1ccc2cc3ccccc3cc2c1CCO' ,'Cl.CCC(=O)NCCC.O'] \n",
    "batch_list = pandas.DataFrame(lst,columns=['reactions'])\n",
    "%openad rxn predict reaction topn in batch from dataframe batch_list using (topn=3) use_saved"
   ]
  },
  {
   "cell_type": "markdown",
   "id": "9662c70d-d509-4161-85c2-8b2a52a8f476",
   "metadata": {
    "tags": []
   },
   "source": [
    "## Quickly investingation and adding to a set of molecules"
   ]
  },
  {
   "cell_type": "code",
   "execution_count": null,
   "id": "cda2b8fc-8ba8-49d1-b150-6013ac35d5ed",
   "metadata": {
    "tags": []
   },
   "outputs": [],
   "source": [
    "%openad add molecule tritace force\n",
    "%openad add molecule aspirin force\n",
    "%openad add molecule Ibuprofen force\n",
    "%openad add molecule entresto force"
   ]
  },
  {
   "cell_type": "code",
   "execution_count": null,
   "id": "35d24d54-e245-455d-8a8d-a83f4e2ffc6e",
   "metadata": {
    "tags": []
   },
   "outputs": [],
   "source": [
    "%openad list molecules"
   ]
  },
  {
   "cell_type": "code",
   "execution_count": null,
   "id": "320e8bef-06d1-4c92-8b13-8ef055f94f00",
   "metadata": {
    "tags": []
   },
   "outputs": [],
   "source": [
    "mol = %openadd @tritace>>canonical_smiles\n",
    "%openad set context rxn\n",
    "%openad predict retrosynthesis '{mol}' using( max_steps=3 )"
   ]
  },
  {
   "cell_type": "code",
   "execution_count": null,
   "id": "dd77485a-c5ab-431a-9f6e-6c9d28ab24a6",
   "metadata": {
    "tags": []
   },
   "outputs": [],
   "source": [
    "%openad set context ds4sd\n",
    "%openad search for patents containing molecule '{mol}'\n",
    "%openad search for similar molecules to '{mol}'"
   ]
  },
  {
   "cell_type": "code",
   "execution_count": null,
   "id": "b3e727f7-7539-4016-8fa1-5760c63666bd",
   "metadata": {
    "tags": []
   },
   "outputs": [],
   "source": [
    "%openad list molecules"
   ]
  },
  {
   "cell_type": "code",
   "execution_count": null,
   "id": "232afcb9-3360-4dd4-8852-112dbaca93dd",
   "metadata": {
    "tags": []
   },
   "outputs": [],
   "source": [
    "%openad enrich molecules with analysis \n",
    "%openad display molecule tritace"
   ]
  },
  {
   "cell_type": "code",
   "execution_count": null,
   "id": "3402bba9-60ad-4a99-b8d5-f970acdcd2c4",
   "metadata": {
    "tags": []
   },
   "outputs": [],
   "source": [
    "%openad list molecules"
   ]
  },
  {
   "cell_type": "code",
   "execution_count": null,
   "id": "13f4e2e6-3607-43d7-9125-c26552a5e8c0",
   "metadata": {
    "tags": []
   },
   "outputs": [],
   "source": [
    "%openad show molecules"
   ]
  },
  {
   "cell_type": "code",
   "execution_count": null,
   "id": "11f2f32e-4393-4cf4-9665-2e83cc94c2a3",
   "metadata": {},
   "outputs": [],
   "source": []
  }
 ],
 "metadata": {
  "kernelspec": {
   "display_name": "ad-moe",
   "language": "python",
   "name": "ad-moe"
  },
  "language_info": {
   "codemirror_mode": {
    "name": "ipython",
    "version": 3
   },
   "file_extension": ".py",
   "mimetype": "text/x-python",
   "name": "python",
   "nbconvert_exporter": "python",
   "pygments_lexer": "ipython3",
   "version": "3.11.7"
  }
 },
 "nbformat": 4,
 "nbformat_minor": 5
}
