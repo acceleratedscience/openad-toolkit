{
 "cells": [
  {
   "cell_type": "markdown",
   "id": "9757663d",
   "metadata": {},
   "source": [
    "<div class=\"alert alert-info\">⚠️ Import styling before performing slide show</div>"
   ]
  },
  {
   "cell_type": "code",
   "execution_count": 2,
   "id": "2fe2630a-7eb1-4914-a249-836e88883433",
   "metadata": {
    "tags": []
   },
   "outputs": [],
   "source": [
    "%reload_ext openad.notebooks.styles"
   ]
  },
  {
   "cell_type": "markdown",
   "id": "4d1c461c-35a4-44af-96ba-2bfd6a7f28a0",
   "metadata": {
    "slideshow": {
     "slide_type": "skip"
    },
    "tags": []
   },
   "source": [
    "## Prerequisities\n",
    "\n",
    "You must have Jupyterlab-rise installed and enabled\n",
    "\n",
    "Use the slide show icon at top of notebook to run\n",
    "\n",
    "Run the cells above before running"
   ]
  },
  {
   "cell_type": "markdown",
   "id": "ccf182de-544f-4552-82f1-e670e3883baa",
   "metadata": {
    "slideshow": {
     "slide_type": "slide"
    },
    "tags": []
   },
   "source": [
    "<!-- Header banner -->\n",
    "<div class=\"banner\"><div>Slide Show Demonstrations</div><b>OpenAD <span>Tutorial</span></b></div>"
   ]
  },
  {
   "cell_type": "markdown",
   "id": "0460cf50-6e3e-4685-9533-e40723b5d623",
   "metadata": {
    "execution": {
     "iopub.execute_input": "2024-06-20T02:25:23.889942Z",
     "iopub.status.busy": "2024-06-20T02:25:23.889643Z",
     "iopub.status.idle": "2024-06-20T02:25:23.897370Z",
     "shell.execute_reply": "2024-06-20T02:25:23.896079Z",
     "shell.execute_reply.started": "2024-06-20T02:25:23.889913Z"
    },
    "tags": []
   },
   "source": [
    "# Demonstration : Source PFAS Molecules and find Alternatives\n",
    "\n",
    "### - Use IBM Deep Search to search for PFAS molecules\n",
    "### - Use IBM's OpenAD's open-source property generation to generate additional properties\n",
    "### - Merge and collate molecule data with OpenAD toolkit\n",
    "### - Generate similar molecules with IBM open-source Regression Transformer with higher soluability\n",
    "### - With Deep Search determine if generated molecules are mentioned in a patent, only proceed with molecules that do not.\n",
    "### - Take one of the molecules and Use IBM RXN Retrosynthesis commands to generate a path to synthesis\n"
   ]
  },
  {
   "cell_type": "markdown",
   "id": "f54412c2-22e3-4c5f-a3f3-aabf7865130c",
   "metadata": {
    "slideshow": {
     "slide_type": "slide"
    },
    "tags": []
   },
   "source": [
    "## Step 1 Use IBM Deep Search to search for PFAS molecules </span>"
   ]
  },
  {
   "cell_type": "code",
   "execution_count": null,
   "id": "38b05b24-fd56-4248-af20-af6c6d85198d",
   "metadata": {
    "tags": []
   },
   "outputs": [],
   "source": [
    "\n",
    "%openad ds search collection 'PubChem' for 'PFOA OR PFOS OR PFHxS OR PFNA OR HFPO-DA'"
   ]
  },
  {
   "cell_type": "markdown",
   "id": "ec328022-7087-4e02-9a02-147a0610c4db",
   "metadata": {
    "slideshow": {
     "slide_type": "slide"
    },
    "tags": []
   },
   "source": [
    "## Step 2: Use IBM's OpenAD open-source property generation to generate additional properties</span>"
   ]
  },
  {
   "cell_type": "markdown",
   "id": "918a7d43-c202-4b18-86ba-d9844037056e",
   "metadata": {},
   "source": [
    "Load molecules into a OpenAD molecule set and Initialize the list of additional proerties to generate"
   ]
  },
  {
   "cell_type": "code",
   "execution_count": null,
   "id": "8827ef75-1bf6-41d6-84a3-33f58f6b6745",
   "metadata": {
    "tags": []
   },
   "outputs": [],
   "source": [
    "# Load the data from the datframe Style object into the molecules data set\n",
    "df_data = %openadd result as dataframe\n",
    "\n",
    "%openad load molecules using dataframe df_data\n",
    "\n",
    "# Define list of Delta to be inferred properties\n",
    "properties = [\"is_scaffold\", \"bertz\", \"tpsa\", \"logp\", \"qed\", \"plogp\", \"penalized_logp\", \"lipinski\", \"sas\", \"esol\"]"
   ]
  },
  {
   "cell_type": "markdown",
   "id": "f9d7563d-5506-42ba-8878-67639adda15f",
   "metadata": {
    "tags": []
   },
   "source": [
    "Generate and merge the additional properties"
   ]
  },
  {
   "cell_type": "code",
   "execution_count": null,
   "id": "0d42da8e-82e2-40d7-999c-85807f239805",
   "metadata": {
    "scrolled": true,
    "tags": []
   },
   "outputs": [],
   "source": [
    "# Generate SMILES properties and merge with molecules\n",
    "%openad prop get molecule property {properties} for  @mols merge with mols"
   ]
  },
  {
   "cell_type": "markdown",
   "id": "5a6bd729-2a6f-4184-99fe-b1de20f68fd7",
   "metadata": {
    "execution": {
     "iopub.execute_input": "2024-05-13T07:28:42.461718Z",
     "iopub.status.busy": "2024-05-13T07:28:42.461365Z",
     "iopub.status.idle": "2024-05-13T07:28:42.468797Z",
     "shell.execute_reply": "2024-05-13T07:28:42.467947Z",
     "shell.execute_reply.started": "2024-05-13T07:28:42.461687Z"
    },
    "slideshow": {
     "slide_type": "slide"
    },
    "tags": []
   },
   "source": [
    "### Let's Examine the available Molecules"
   ]
  },
  {
   "cell_type": "code",
   "execution_count": null,
   "id": "c6b67566-a444-4e13-98e5-3f5de94922f0",
   "metadata": {
    "tags": []
   },
   "outputs": [],
   "source": [
    "%openad show molecules"
   ]
  },
  {
   "cell_type": "markdown",
   "id": "efcf4407-66ad-4243-b66e-4b42bb5b2c36",
   "metadata": {
    "slideshow": {
     "slide_type": "slide"
    },
    "tags": []
   },
   "source": [
    "### Drilling in on the details of a molecule"
   ]
  },
  {
   "cell_type": "code",
   "execution_count": null,
   "id": "9029b147-99d2-4645-843e-26bf5410ab9e",
   "metadata": {
    "tags": []
   },
   "outputs": [],
   "source": [
    "%openad show molecule 'Perfluorononanoic acid'"
   ]
  },
  {
   "cell_type": "markdown",
   "id": "7d3960d0-219f-405b-b8d4-95ec5a8b87a6",
   "metadata": {
    "slideshow": {
     "slide_type": "slide"
    },
    "tags": []
   },
   "source": [
    "##  Step 3: Generate Similar Molecules with IBM's open-source Regression Transformer"
   ]
  },
  {
   "cell_type": "code",
   "execution_count": null,
   "id": "da7a67ce-522f-4553-83d4-664c4dc5a75b",
   "metadata": {
    "scrolled": true,
    "tags": []
   },
   "outputs": [],
   "source": [
    "datasets = []\n",
    "mol_list = %openadd export molecules\n",
    "for row in mol_list.to_dict(\"records\"):\n",
    "    MY_SMILES= row['canonical_smiles']\n",
    "    esol= float(row['esol'])+2 #higher soluability by 2 points\n",
    "    MY_PARAMS = { \"fraction_to_mask\": 0.1 , \"property_goal\": { \"<esol>\": esol} }\n",
    "    display(\"Generating Molecules for \"+MY_SMILES+\" with soluability:\"+str(row['esol']) )\n",
    "    result = %openadd gen generate with RegressionTransformerMolecules data for $MY_SMILES sample 10 \\\n",
    "    using(algorithm_version=solubility  search=sample temperature=1.5 tolerance=60.0 sampling_wrapper = \"$MY_PARAMS\" )\n",
    "    display(result)\n",
    "    datasets.append(result)"
   ]
  },
  {
   "cell_type": "markdown",
   "id": "79bbbac2-0f0a-47a3-8af5-6b42a0adc1f4",
   "metadata": {
    "slideshow": {
     "slide_type": "slide"
    },
    "tags": []
   },
   "source": [
    "## Step 4: With IBM Deep Search determine if generated molecules are mentioned in a patent"
   ]
  },
  {
   "cell_type": "code",
   "execution_count": null,
   "id": "c2fee715-3ec5-4766-bea8-19f89cfe16e9",
   "metadata": {
    "tags": []
   },
   "outputs": [],
   "source": [
    "x = 0\n",
    "patent_count = 0\n",
    "patents_to_search = []\n",
    "patented_molecules = []\n",
    "non_patented_molecules = []\n",
    "searched_list = []\n",
    "\n",
    "# For all the molecules in the data set search for those with patents\n",
    "for result in datasets:\n",
    "    for mol in result[\"0\"].to_list():\n",
    "        # remove duplicates\n",
    "        if mol in searched_list:\n",
    "            continue\n",
    "        else:\n",
    "            searched_list.append(mol)\n",
    "        # Execute Patent Search\n",
    "\n",
    "        x = %openadd ds search for patents containing molecule '{mol}'\n",
    "\n",
    "        # If has patents append to list\n",
    "        if isinstance(x, DataFrame):\n",
    "            patents_to_search.extend(x[\"publication_id\"].to_list())\n",
    "            patented_molecules.append(mol)\n",
    "            print(f'patents for molecule {mol}:\\n  {x[\"publication_id\"].to_list()}')\n",
    "        else:\n",
    "            non_patented_molecules.append(mol)"
   ]
  },
  {
   "cell_type": "markdown",
   "id": "56de6738-59a5-469b-83fb-0cdede1d0677",
   "metadata": {
    "execution": {
     "iopub.execute_input": "2024-05-14T03:57:35.526422Z",
     "iopub.status.busy": "2024-05-14T03:57:35.525909Z",
     "iopub.status.idle": "2024-05-14T03:57:35.531773Z",
     "shell.execute_reply": "2024-05-14T03:57:35.531012Z",
     "shell.execute_reply.started": "2024-05-14T03:57:35.526394Z"
    },
    "slideshow": {
     "slide_type": "slide"
    },
    "tags": []
   },
   "source": [
    "Step 5: Add the Non Patented molecules to our list and generate properties for them "
   ]
  },
  {
   "cell_type": "code",
   "execution_count": null,
   "id": "07c23766-a774-4342-a24d-c224f4e2a886",
   "metadata": {
    "scrolled": true,
    "tags": []
   },
   "outputs": [],
   "source": [
    "# generate the new properties for all of the new molecules\n",
    "properties_all = [\n",
    "    \"molecular_weight\",\n",
    "    \"number_of_aromatic_rings\",\n",
    "    \"number_of_h_acceptors\",\n",
    "    \"number_of_atoms\",\n",
    "    \"number_of_rings\",\n",
    "    \"number_of_rotatable_bonds\",\n",
    "    \"number_of_large_rings\",\n",
    "    \"number_of_heterocycles\",\n",
    "    \"number_of_stereocenters\",\n",
    "    \"is_scaffold\",\n",
    "    \"bertz\",\n",
    "    \"tpsa\",\n",
    "    \"logp\",\n",
    "    \"qed\",\n",
    "    \"plogp\",\n",
    "    \"penalized_logp\",\n",
    "    \"lipinski\",\n",
    "    \"sas\",\n",
    "    \"esol\",\n",
    "]\n",
    "new_props = %openadd prop get molecule property {properties_all} for {non_patented_molecules} merge with mols\n",
    "\n",
    "# Lets merge the new molecules into our Molecule Working Set\n",
    "\n",
    "%openad enrich molecules with analysis"
   ]
  },
  {
   "cell_type": "code",
   "execution_count": null,
   "id": "a9d679d3-d214-4c89-97c8-4658c0376064",
   "metadata": {
    "slideshow": {
     "slide_type": "slide"
    },
    "tags": []
   },
   "outputs": [],
   "source": [
    "%openad show molecules"
   ]
  },
  {
   "cell_type": "markdown",
   "id": "7eedefd6-a8c0-4ddb-a97d-237d64927df3",
   "metadata": {
    "tags": []
   },
   "source": [
    " Use the Interactive Help to find out how to create the molecule using the IBM RXN Predict Retrosynthesis capability "
   ]
  },
  {
   "cell_type": "markdown",
   "id": "1f2e7be3-3ea2-4af5-95e6-a0990281367a",
   "metadata": {
    "slideshow": {
     "slide_type": "slide"
    },
    "tags": []
   },
   "source": [
    "## Step 6 Run IBM RXN Retrosynthesis "
   ]
  },
  {
   "cell_type": "code",
   "execution_count": 10,
   "id": "4e447364-9493-40d6-94ba-dd8b26e73b5f",
   "metadata": {
    "execution": {
     "iopub.execute_input": "2025-02-05T05:18:43.312726Z",
     "iopub.status.busy": "2025-02-05T05:18:43.312466Z",
     "iopub.status.idle": "2025-02-05T05:19:30.627782Z",
     "shell.execute_reply": "2025-02-05T05:19:30.627005Z",
     "shell.execute_reply.started": "2025-02-05T05:18:43.312703Z"
    },
    "tags": []
   },
   "outputs": [
    {
     "data": {
      "application/vnd.jupyter.widget-view+json": {
       "model_id": "f429e92ba8164cccb999601733b53331",
       "version_major": 2,
       "version_minor": 0
      },
      "text/plain": [
       "Output()"
      ]
     },
     "metadata": {},
     "output_type": "display_data"
    },
    {
     "data": {
      "text/html": [
       "<div style=\"width:300px; height: 300px; margin: 30px 0; border: solid 1px #ddd; display: inline-block; padding: 32px; position: relative\"><div style=\"position: absolute; top: 8px; left: 8px; font-size: 12px; line-height: 12px; color: #999;\">INPUT MOLECULE</div><?xml version='1.0' encoding='iso-8859-1'?>\n",
       "<svg version='1.1' baseProfile='full'\n",
       "              xmlns='http://www.w3.org/2000/svg'\n",
       "                      xmlns:rdkit='http://www.rdkit.org/xml'\n",
       "                      xmlns:xlink='http://www.w3.org/1999/xlink'\n",
       "                  xml:space='preserve'\n",
       "width='300px' height='300px' viewBox='0 0 300 300'>\n",
       "<!-- END OF HEADER -->\n",
       "<rect style='opacity:1.0;fill:#FFFFFF;stroke:none' width='300.0' height='300.0' x='0.0' y='0.0'> </rect>\n",
       "<path class='bond-0 atom-0 atom-1' d='M 30.4,129.4 L 36.4,139.7' style='fill:none;fill-rule:evenodd;stroke:#FF0000;stroke-width:2.0px;stroke-linecap:butt;stroke-linejoin:miter;stroke-opacity:1' />\n",
       "<path class='bond-0 atom-0 atom-1' d='M 36.4,139.7 L 42.3,150.0' style='fill:none;fill-rule:evenodd;stroke:#000000;stroke-width:2.0px;stroke-linecap:butt;stroke-linejoin:miter;stroke-opacity:1' />\n",
       "<path class='bond-1 atom-1 atom-2' d='M 42.3,150.0 L 36.3,160.4' style='fill:none;fill-rule:evenodd;stroke:#000000;stroke-width:2.0px;stroke-linecap:butt;stroke-linejoin:miter;stroke-opacity:1' />\n",
       "<path class='bond-1 atom-1 atom-2' d='M 36.3,160.4 L 30.3,170.8' style='fill:none;fill-rule:evenodd;stroke:#33CCCC;stroke-width:2.0px;stroke-linecap:butt;stroke-linejoin:miter;stroke-opacity:1' />\n",
       "<path class='bond-2 atom-1 atom-3' d='M 42.3,150.0 L 72.3,150.0' style='fill:none;fill-rule:evenodd;stroke:#000000;stroke-width:2.0px;stroke-linecap:butt;stroke-linejoin:miter;stroke-opacity:1' />\n",
       "<path class='bond-3 atom-3 atom-4' d='M 72.3,150.0 L 72.3,162.4' style='fill:none;fill-rule:evenodd;stroke:#000000;stroke-width:2.0px;stroke-linecap:butt;stroke-linejoin:miter;stroke-opacity:1' />\n",
       "<path class='bond-3 atom-3 atom-4' d='M 72.3,162.4 L 72.3,174.8' style='fill:none;fill-rule:evenodd;stroke:#33CCCC;stroke-width:2.0px;stroke-linecap:butt;stroke-linejoin:miter;stroke-opacity:1' />\n",
       "<path class='bond-4 atom-3 atom-5' d='M 72.3,150.0 L 72.3,137.6' style='fill:none;fill-rule:evenodd;stroke:#000000;stroke-width:2.0px;stroke-linecap:butt;stroke-linejoin:miter;stroke-opacity:1' />\n",
       "<path class='bond-4 atom-3 atom-5' d='M 72.3,137.6 L 72.3,125.2' style='fill:none;fill-rule:evenodd;stroke:#33CCCC;stroke-width:2.0px;stroke-linecap:butt;stroke-linejoin:miter;stroke-opacity:1' />\n",
       "<path class='bond-5 atom-3 atom-6' d='M 72.3,150.0 L 102.3,150.0' style='fill:none;fill-rule:evenodd;stroke:#000000;stroke-width:2.0px;stroke-linecap:butt;stroke-linejoin:miter;stroke-opacity:1' />\n",
       "<path class='bond-6 atom-6 atom-7' d='M 102.3,150.0 L 102.3,137.6' style='fill:none;fill-rule:evenodd;stroke:#000000;stroke-width:2.0px;stroke-linecap:butt;stroke-linejoin:miter;stroke-opacity:1' />\n",
       "<path class='bond-6 atom-6 atom-7' d='M 102.3,137.6 L 102.3,125.2' style='fill:none;fill-rule:evenodd;stroke:#33CCCC;stroke-width:2.0px;stroke-linecap:butt;stroke-linejoin:miter;stroke-opacity:1' />\n",
       "<path class='bond-7 atom-6 atom-8' d='M 102.3,150.0 L 102.3,162.4' style='fill:none;fill-rule:evenodd;stroke:#000000;stroke-width:2.0px;stroke-linecap:butt;stroke-linejoin:miter;stroke-opacity:1' />\n",
       "<path class='bond-7 atom-6 atom-8' d='M 102.3,162.4 L 102.3,174.8' style='fill:none;fill-rule:evenodd;stroke:#33CCCC;stroke-width:2.0px;stroke-linecap:butt;stroke-linejoin:miter;stroke-opacity:1' />\n",
       "<path class='bond-8 atom-6 atom-9' d='M 102.3,150.0 L 132.4,150.0' style='fill:none;fill-rule:evenodd;stroke:#000000;stroke-width:2.0px;stroke-linecap:butt;stroke-linejoin:miter;stroke-opacity:1' />\n",
       "<path class='bond-9 atom-9 atom-10' d='M 132.4,150.0 L 132.4,162.4' style='fill:none;fill-rule:evenodd;stroke:#000000;stroke-width:2.0px;stroke-linecap:butt;stroke-linejoin:miter;stroke-opacity:1' />\n",
       "<path class='bond-9 atom-9 atom-10' d='M 132.4,162.4 L 132.4,174.8' style='fill:none;fill-rule:evenodd;stroke:#33CCCC;stroke-width:2.0px;stroke-linecap:butt;stroke-linejoin:miter;stroke-opacity:1' />\n",
       "<path class='bond-10 atom-9 atom-11' d='M 132.4,150.0 L 132.4,137.6' style='fill:none;fill-rule:evenodd;stroke:#000000;stroke-width:2.0px;stroke-linecap:butt;stroke-linejoin:miter;stroke-opacity:1' />\n",
       "<path class='bond-10 atom-9 atom-11' d='M 132.4,137.6 L 132.4,125.2' style='fill:none;fill-rule:evenodd;stroke:#33CCCC;stroke-width:2.0px;stroke-linecap:butt;stroke-linejoin:miter;stroke-opacity:1' />\n",
       "<path class='bond-11 atom-9 atom-12' d='M 132.4,150.0 L 162.4,150.0' style='fill:none;fill-rule:evenodd;stroke:#000000;stroke-width:2.0px;stroke-linecap:butt;stroke-linejoin:miter;stroke-opacity:1' />\n",
       "<path class='bond-12 atom-12 atom-13' d='M 162.4,150.0 L 162.4,137.6' style='fill:none;fill-rule:evenodd;stroke:#000000;stroke-width:2.0px;stroke-linecap:butt;stroke-linejoin:miter;stroke-opacity:1' />\n",
       "<path class='bond-12 atom-12 atom-13' d='M 162.4,137.6 L 162.4,125.2' style='fill:none;fill-rule:evenodd;stroke:#33CCCC;stroke-width:2.0px;stroke-linecap:butt;stroke-linejoin:miter;stroke-opacity:1' />\n",
       "<path class='bond-13 atom-12 atom-14' d='M 162.4,150.0 L 162.4,162.4' style='fill:none;fill-rule:evenodd;stroke:#000000;stroke-width:2.0px;stroke-linecap:butt;stroke-linejoin:miter;stroke-opacity:1' />\n",
       "<path class='bond-13 atom-12 atom-14' d='M 162.4,162.4 L 162.4,174.8' style='fill:none;fill-rule:evenodd;stroke:#33CCCC;stroke-width:2.0px;stroke-linecap:butt;stroke-linejoin:miter;stroke-opacity:1' />\n",
       "<path class='bond-14 atom-12 atom-15' d='M 162.4,150.0 L 192.4,150.0' style='fill:none;fill-rule:evenodd;stroke:#000000;stroke-width:2.0px;stroke-linecap:butt;stroke-linejoin:miter;stroke-opacity:1' />\n",
       "<path class='bond-15 atom-15 atom-16' d='M 192.4,150.0 L 192.4,162.4' style='fill:none;fill-rule:evenodd;stroke:#000000;stroke-width:2.0px;stroke-linecap:butt;stroke-linejoin:miter;stroke-opacity:1' />\n",
       "<path class='bond-15 atom-15 atom-16' d='M 192.4,162.4 L 192.4,174.8' style='fill:none;fill-rule:evenodd;stroke:#33CCCC;stroke-width:2.0px;stroke-linecap:butt;stroke-linejoin:miter;stroke-opacity:1' />\n",
       "<path class='bond-16 atom-15 atom-17' d='M 192.4,150.0 L 192.4,137.6' style='fill:none;fill-rule:evenodd;stroke:#000000;stroke-width:2.0px;stroke-linecap:butt;stroke-linejoin:miter;stroke-opacity:1' />\n",
       "<path class='bond-16 atom-15 atom-17' d='M 192.4,137.6 L 192.4,125.2' style='fill:none;fill-rule:evenodd;stroke:#33CCCC;stroke-width:2.0px;stroke-linecap:butt;stroke-linejoin:miter;stroke-opacity:1' />\n",
       "<path class='bond-17 atom-15 atom-18' d='M 192.4,150.0 L 222.4,150.0' style='fill:none;fill-rule:evenodd;stroke:#000000;stroke-width:2.0px;stroke-linecap:butt;stroke-linejoin:miter;stroke-opacity:1' />\n",
       "<path class='bond-18 atom-18 atom-19' d='M 222.4,150.0 L 222.4,137.6' style='fill:none;fill-rule:evenodd;stroke:#000000;stroke-width:2.0px;stroke-linecap:butt;stroke-linejoin:miter;stroke-opacity:1' />\n",
       "<path class='bond-18 atom-18 atom-19' d='M 222.4,137.6 L 222.4,125.2' style='fill:none;fill-rule:evenodd;stroke:#33CCCC;stroke-width:2.0px;stroke-linecap:butt;stroke-linejoin:miter;stroke-opacity:1' />\n",
       "<path class='bond-19 atom-18 atom-20' d='M 222.4,150.0 L 222.4,162.4' style='fill:none;fill-rule:evenodd;stroke:#000000;stroke-width:2.0px;stroke-linecap:butt;stroke-linejoin:miter;stroke-opacity:1' />\n",
       "<path class='bond-19 atom-18 atom-20' d='M 222.4,162.4 L 222.4,174.8' style='fill:none;fill-rule:evenodd;stroke:#33CCCC;stroke-width:2.0px;stroke-linecap:butt;stroke-linejoin:miter;stroke-opacity:1' />\n",
       "<path class='bond-20 atom-18 atom-21' d='M 222.4,150.0 L 252.5,150.0' style='fill:none;fill-rule:evenodd;stroke:#000000;stroke-width:2.0px;stroke-linecap:butt;stroke-linejoin:miter;stroke-opacity:1' />\n",
       "<path class='bond-21 atom-21 atom-22' d='M 252.5,150.0 L 265.7,150.0' style='fill:none;fill-rule:evenodd;stroke:#000000;stroke-width:2.0px;stroke-linecap:butt;stroke-linejoin:miter;stroke-opacity:1' />\n",
       "<path class='bond-21 atom-21 atom-22' d='M 265.7,150.0 L 279.0,150.0' style='fill:none;fill-rule:evenodd;stroke:#33CCCC;stroke-width:2.0px;stroke-linecap:butt;stroke-linejoin:miter;stroke-opacity:1' />\n",
       "<path class='bond-22 atom-21 atom-23' d='M 252.5,150.0 L 252.5,162.4' style='fill:none;fill-rule:evenodd;stroke:#000000;stroke-width:2.0px;stroke-linecap:butt;stroke-linejoin:miter;stroke-opacity:1' />\n",
       "<path class='bond-22 atom-21 atom-23' d='M 252.5,162.4 L 252.5,174.8' style='fill:none;fill-rule:evenodd;stroke:#33CCCC;stroke-width:2.0px;stroke-linecap:butt;stroke-linejoin:miter;stroke-opacity:1' />\n",
       "<path class='bond-23 atom-21 atom-24' d='M 252.5,150.0 L 252.5,137.6' style='fill:none;fill-rule:evenodd;stroke:#000000;stroke-width:2.0px;stroke-linecap:butt;stroke-linejoin:miter;stroke-opacity:1' />\n",
       "<path class='bond-23 atom-21 atom-24' d='M 252.5,137.6 L 252.5,125.2' style='fill:none;fill-rule:evenodd;stroke:#33CCCC;stroke-width:2.0px;stroke-linecap:butt;stroke-linejoin:miter;stroke-opacity:1' />\n",
       "<path class='atom-0' d='M 15.0 119.8\n",
       "L 16.2 119.8\n",
       "L 16.2 123.4\n",
       "L 20.5 123.4\n",
       "L 20.5 119.8\n",
       "L 21.7 119.8\n",
       "L 21.7 128.3\n",
       "L 20.5 128.3\n",
       "L 20.5 124.4\n",
       "L 16.2 124.4\n",
       "L 16.2 128.3\n",
       "L 15.0 128.3\n",
       "L 15.0 119.8\n",
       "' fill='#FF0000'/>\n",
       "<path class='atom-0' d='M 23.4 124.0\n",
       "Q 23.4 122.0, 24.4 120.8\n",
       "Q 25.4 119.7, 27.3 119.7\n",
       "Q 29.2 119.7, 30.2 120.8\n",
       "Q 31.2 122.0, 31.2 124.0\n",
       "Q 31.2 126.1, 30.2 127.3\n",
       "Q 29.2 128.4, 27.3 128.4\n",
       "Q 25.4 128.4, 24.4 127.3\n",
       "Q 23.4 126.1, 23.4 124.0\n",
       "M 27.3 127.5\n",
       "Q 28.6 127.5, 29.3 126.6\n",
       "Q 30.0 125.7, 30.0 124.0\n",
       "Q 30.0 122.4, 29.3 121.5\n",
       "Q 28.6 120.7, 27.3 120.7\n",
       "Q 26.0 120.7, 25.3 121.5\n",
       "Q 24.6 122.3, 24.6 124.0\n",
       "Q 24.6 125.7, 25.3 126.6\n",
       "Q 26.0 127.5, 27.3 127.5\n",
       "' fill='#FF0000'/>\n",
       "<path class='atom-2' d='M 24.8 171.7\n",
       "L 29.8 171.7\n",
       "L 29.8 172.7\n",
       "L 25.9 172.7\n",
       "L 25.9 175.3\n",
       "L 29.4 175.3\n",
       "L 29.4 176.3\n",
       "L 25.9 176.3\n",
       "L 25.9 180.2\n",
       "L 24.8 180.2\n",
       "L 24.8 171.7\n",
       "' fill='#33CCCC'/>\n",
       "<path class='atom-4' d='M 69.8 175.8\n",
       "L 74.9 175.8\n",
       "L 74.9 176.7\n",
       "L 70.9 176.7\n",
       "L 70.9 179.3\n",
       "L 74.4 179.3\n",
       "L 74.4 180.3\n",
       "L 70.9 180.3\n",
       "L 70.9 184.3\n",
       "L 69.8 184.3\n",
       "L 69.8 175.8\n",
       "' fill='#33CCCC'/>\n",
       "<path class='atom-5' d='M 69.8 115.7\n",
       "L 74.9 115.7\n",
       "L 74.9 116.7\n",
       "L 70.9 116.7\n",
       "L 70.9 119.3\n",
       "L 74.4 119.3\n",
       "L 74.4 120.3\n",
       "L 70.9 120.3\n",
       "L 70.9 124.2\n",
       "L 69.8 124.2\n",
       "L 69.8 115.7\n",
       "' fill='#33CCCC'/>\n",
       "<path class='atom-7' d='M 99.8 115.7\n",
       "L 104.9 115.7\n",
       "L 104.9 116.7\n",
       "L 101.0 116.7\n",
       "L 101.0 119.3\n",
       "L 104.4 119.3\n",
       "L 104.4 120.3\n",
       "L 101.0 120.3\n",
       "L 101.0 124.2\n",
       "L 99.8 124.2\n",
       "L 99.8 115.7\n",
       "' fill='#33CCCC'/>\n",
       "<path class='atom-8' d='M 99.8 175.8\n",
       "L 104.9 175.8\n",
       "L 104.9 176.7\n",
       "L 101.0 176.7\n",
       "L 101.0 179.3\n",
       "L 104.4 179.3\n",
       "L 104.4 180.3\n",
       "L 101.0 180.3\n",
       "L 101.0 184.3\n",
       "L 99.8 184.3\n",
       "L 99.8 175.8\n",
       "' fill='#33CCCC'/>\n",
       "<path class='atom-10' d='M 129.8 175.8\n",
       "L 134.9 175.8\n",
       "L 134.9 176.7\n",
       "L 131.0 176.7\n",
       "L 131.0 179.3\n",
       "L 134.5 179.3\n",
       "L 134.5 180.3\n",
       "L 131.0 180.3\n",
       "L 131.0 184.3\n",
       "L 129.8 184.3\n",
       "L 129.8 175.8\n",
       "' fill='#33CCCC'/>\n",
       "<path class='atom-11' d='M 129.8 115.7\n",
       "L 134.9 115.7\n",
       "L 134.9 116.7\n",
       "L 131.0 116.7\n",
       "L 131.0 119.3\n",
       "L 134.5 119.3\n",
       "L 134.5 120.3\n",
       "L 131.0 120.3\n",
       "L 131.0 124.2\n",
       "L 129.8 124.2\n",
       "L 129.8 115.7\n",
       "' fill='#33CCCC'/>\n",
       "<path class='atom-13' d='M 159.9 115.7\n",
       "L 164.9 115.7\n",
       "L 164.9 116.7\n",
       "L 161.0 116.7\n",
       "L 161.0 119.3\n",
       "L 164.5 119.3\n",
       "L 164.5 120.3\n",
       "L 161.0 120.3\n",
       "L 161.0 124.2\n",
       "L 159.9 124.2\n",
       "L 159.9 115.7\n",
       "' fill='#33CCCC'/>\n",
       "<path class='atom-14' d='M 159.9 175.8\n",
       "L 164.9 175.8\n",
       "L 164.9 176.7\n",
       "L 161.0 176.7\n",
       "L 161.0 179.3\n",
       "L 164.5 179.3\n",
       "L 164.5 180.3\n",
       "L 161.0 180.3\n",
       "L 161.0 184.3\n",
       "L 159.9 184.3\n",
       "L 159.9 175.8\n",
       "' fill='#33CCCC'/>\n",
       "<path class='atom-16' d='M 189.9 175.8\n",
       "L 194.9 175.8\n",
       "L 194.9 176.7\n",
       "L 191.0 176.7\n",
       "L 191.0 179.3\n",
       "L 194.5 179.3\n",
       "L 194.5 180.3\n",
       "L 191.0 180.3\n",
       "L 191.0 184.3\n",
       "L 189.9 184.3\n",
       "L 189.9 175.8\n",
       "' fill='#33CCCC'/>\n",
       "<path class='atom-17' d='M 189.9 115.7\n",
       "L 194.9 115.7\n",
       "L 194.9 116.7\n",
       "L 191.0 116.7\n",
       "L 191.0 119.3\n",
       "L 194.5 119.3\n",
       "L 194.5 120.3\n",
       "L 191.0 120.3\n",
       "L 191.0 124.2\n",
       "L 189.9 124.2\n",
       "L 189.9 115.7\n",
       "' fill='#33CCCC'/>\n",
       "<path class='atom-19' d='M 219.9 115.7\n",
       "L 225.0 115.7\n",
       "L 225.0 116.7\n",
       "L 221.0 116.7\n",
       "L 221.0 119.3\n",
       "L 224.5 119.3\n",
       "L 224.5 120.3\n",
       "L 221.0 120.3\n",
       "L 221.0 124.2\n",
       "L 219.9 124.2\n",
       "L 219.9 115.7\n",
       "' fill='#33CCCC'/>\n",
       "<path class='atom-20' d='M 219.9 175.8\n",
       "L 225.0 175.8\n",
       "L 225.0 176.7\n",
       "L 221.0 176.7\n",
       "L 221.0 179.3\n",
       "L 224.5 179.3\n",
       "L 224.5 180.3\n",
       "L 221.0 180.3\n",
       "L 221.0 184.3\n",
       "L 219.9 184.3\n",
       "L 219.9 175.8\n",
       "' fill='#33CCCC'/>\n",
       "<path class='atom-22' d='M 279.9 145.7\n",
       "L 285.0 145.7\n",
       "L 285.0 146.7\n",
       "L 281.1 146.7\n",
       "L 281.1 149.3\n",
       "L 284.6 149.3\n",
       "L 284.6 150.3\n",
       "L 281.1 150.3\n",
       "L 281.1 154.3\n",
       "L 279.9 154.3\n",
       "L 279.9 145.7\n",
       "' fill='#33CCCC'/>\n",
       "<path class='atom-23' d='M 249.9 175.8\n",
       "L 255.0 175.8\n",
       "L 255.0 176.7\n",
       "L 251.1 176.7\n",
       "L 251.1 179.3\n",
       "L 254.5 179.3\n",
       "L 254.5 180.3\n",
       "L 251.1 180.3\n",
       "L 251.1 184.3\n",
       "L 249.9 184.3\n",
       "L 249.9 175.8\n",
       "' fill='#33CCCC'/>\n",
       "<path class='atom-24' d='M 249.9 115.7\n",
       "L 255.0 115.7\n",
       "L 255.0 116.7\n",
       "L 251.1 116.7\n",
       "L 251.1 119.3\n",
       "L 254.5 119.3\n",
       "L 254.5 120.3\n",
       "L 251.1 120.3\n",
       "L 251.1 124.2\n",
       "L 249.9 124.2\n",
       "L 249.9 115.7\n",
       "' fill='#33CCCC'/>\n",
       "</svg>\n",
       "</div>"
      ],
      "text/plain": [
       "<IPython.core.display.HTML object>"
      ]
     },
     "metadata": {},
     "output_type": "display_data"
    },
    {
     "data": {
      "text/html": [
       "\n",
       "<h1>Reaction Path #1</h1>\n",
       "<div style='border: solid 1px #ccc; padding: 12px 16px'>\n",
       "<div style='color:#dc0'><span style='color: #ccc'>+ </span>OC(F)C(F)(F)C(F)(F)C(F)(F)C(F)(F)C(F)(F)C(F)(F)C(F)(F)F</div>\n",
       "<div style='border: solid 1px #ccc; padding: 12px 16px'>\n",
       "<div style='color:#dc0'><span style='color: #ccc'>+ </span>CC(=O)OC(F)C(F)(F)C(F)(F)C(F)(F)C(F)(F)C(F)(F)C(F)(F)C(F)(F)F</div>\n",
       "<div style='border: solid 1px #ccc; padding: 12px 16px'>\n",
       "<div style='color:#dc0'><span style='color: #ccc'>+ </span>CC(=O)OC(Cl)C(F)(F)C(F)(F)C(F)(F)C(F)(F)C(F)(F)C(F)(F)C(F)(F)F</div>\n",
       "<div style='border: solid 1px #ccc; padding: 12px 16px'>\n",
       "<div><span style='color: #ccc'>+ </span>CC(=O)OC(C)=O</div>\n",
       "<div style='color:#d00'><span style='color: #ccc'>+ </span>OC(Cl)C(F)(F)C(F)(F)C(F)(F)C(F)(F)C(F)(F)C(F)(F)C(F)(F)F</div>\n",
       "<div style='border: solid 1px #ccc; padding: 12px 16px'>\n",
       "<div><span style='color: #ccc'>+ </span>O=S(Cl)Cl</div>\n",
       "<div style='color:#d00'><span style='color: #ccc'>+ </span>OC(O)C(F)(F)C(F)(F)C(F)(F)C(F)(F)C(F)(F)C(F)(F)C(F)(F)F</div>\n",
       "<div style='border: solid 1px #ccc; padding: 12px 16px'>\n",
       "<div style='color:#d00'><span style='color: #ccc'>+ </span>CC(=O)OC(O)C(F)(F)C(F)(F)C(F)(F)C(F)(F)C(F)(F)C(F)(F)C(F)(F)F</div>\n",
       "<div style='border: solid 1px #ccc; padding: 12px 16px'>\n",
       "<div><span style='color: #ccc'>+ </span>CC(=O)OC(O)C(F)(F)C(F)(F)C(F)(F)C(F)(F)C(F)(F)C(F)(F)C(F)(F)F</div>\n",
       "<br><div style='width:300px;height:5px;background:#eee;'><div style='background:#d00;width:0.0px;height:100%;'></div></div><span style='color:#ccc'>Confidence: n/a</span>\n",
       "</div>\n",
       "<div><span style='color: #ccc'>+ </span>CO</div>\n",
       "<div><span style='color: #ccc'>+ </span>O</div>\n",
       "<div><span style='color: #ccc'>+ </span>[Na+].[OH-]</div>\n",
       "<br><div style='width:300px;height:5px;background:#eee;'><div style='background:#d00;width:139.8px;height:100%;'></div></div><span style='color:#d00'>46.6%</span> <span style='color:#ccc'>confidence</span>\n",
       "</div>\n",
       "<br><div style='width:300px;height:5px;background:#eee;'><div style='background:#d00;width:132.60000000000002px;height:100%;'></div></div><span style='color:#d00'>44.2%</span> <span style='color:#ccc'>confidence</span>\n",
       "</div>\n",
       "<br><div style='width:300px;height:5px;background:#eee;'><div style='background:#dc0;width:181.8px;height:100%;'></div></div><span style='color:#dc0'>60.6%</span> <span style='color:#ccc'>confidence</span>\n",
       "</div>\n",
       "<div><span style='color: #ccc'>+ </span>CS(C)=O</div>\n",
       "<div><span style='color: #ccc'>+ </span>O</div>\n",
       "<div><span style='color: #ccc'>+ </span>[F-].[K+]</div>\n",
       "<br><div style='width:300px;height:5px;background:#eee;'><div style='background:#dc0;width:181.5px;height:100%;'></div></div><span style='color:#dc0'>60.5%</span> <span style='color:#ccc'>confidence</span>\n",
       "</div>\n",
       "<div><span style='color: #ccc'>+ </span>CO</div>\n",
       "<div><span style='color: #ccc'>+ </span>O</div>\n",
       "<div><span style='color: #ccc'>+ </span>[K+].[OH-]</div>\n",
       "<br><div style='width:300px;height:5px;background:#eee;'><div style='background:#dc0;width:220.20000000000002px;height:100%;'></div></div><span style='color:#dc0'>73.4%</span> <span style='color:#ccc'>confidence</span>\n",
       "</div>\n",
       "</div>"
      ],
      "text/plain": [
       "<IPython.core.display.HTML object>"
      ]
     },
     "metadata": {},
     "output_type": "display_data"
    }
   ],
   "source": [
    "# set The RXN toolkit active\n",
    "%openad rxn predict retrosynthesis  'OC(F)C(F)(F)C(F)(F)C(F)(F)C(F)(F)C(F)(F)C(F)(F)C(F)(F)F' using (max_steps=6 ai_model='12class-tokens-2021-05-14'  )"
   ]
  },
  {
   "cell_type": "markdown",
   "id": "250beb85-4826-4dc9-9ed5-e3491c588b93",
   "metadata": {
    "slideshow": {
     "slide_type": "slide"
    },
    "tags": []
   },
   "source": [
    "### Now lets take a look at what we know about the molecule"
   ]
  },
  {
   "cell_type": "code",
   "execution_count": null,
   "id": "211cdf90-874e-4153-8fd9-e1c9b34e3ce1",
   "metadata": {
    "tags": []
   },
   "outputs": [],
   "source": [
    "\n",
    "%openad show molecule O=S(=O)([O-])C(F)(F)C(F)(F)C(F)(F)C(F)(F)C(F)(F)C(F)(F)F"
   ]
  },
  {
   "cell_type": "code",
   "execution_count": 11,
   "id": "ee911fbc-7ce7-47fd-b4dc-26a19f707753",
   "metadata": {
    "execution": {
     "iopub.execute_input": "2025-02-05T05:25:02.130638Z",
     "iopub.status.busy": "2025-02-05T05:25:02.130332Z",
     "iopub.status.idle": "2025-02-05T05:25:02.167165Z",
     "shell.execute_reply": "2025-02-05T05:25:02.166202Z",
     "shell.execute_reply.started": "2025-02-05T05:25:02.130612Z"
    },
    "tags": []
   },
   "outputs": [
    {
     "data": {
      "text/html": [
       "\n",
       "            <style>\n",
       "                #btn-wrap-1738733102 { height:12px; right:20px; display:flex; flex-direction:row-reverse; position:relative }\n",
       "                #btn-wrap-1738733102 a { color:#393939; width:24px; height:24px; padding:4px; box-sizing:border-box; background:white }\n",
       "                #btn-wrap-1738733102 a:hover { color: #0f62fe }\n",
       "            </style>\n",
       "            <div id=\"btn-wrap-1738733102\"><a target=\"_blank\" href=\"http://127.0.0.1:8027/smol/tritace\"><svg width=\"16\" height=\"16\" viewBox=\"0 0 16 16\" fill=\"none\" xmlns=\"http://www.w3.org/2000/svg\"><path d=\"M13 14H3C2.73489 13.9996 2.48075 13.8942 2.29329 13.7067C2.10583 13.5193 2.00036 13.2651 2 13V3C2.00036 2.73489 2.10583 2.48075 2.29329 2.29329C2.48075 2.10583 2.73489 2.00036 3 2H8V3H3V13H13V8H14V13C13.9996 13.2651 13.8942 13.5193 13.7067 13.7067C13.5193 13.8942 13.2651 13.9996 13 14Z\" fill=\"currentColor\"/><path d=\"M10 1V2H13.293L9 6.293L9.707 7L14 2.707V6H15V1H10Z\" fill=\"currentColor\"/></svg></a><a href=\"#\" onclick=\"event.preventDefault(); document.querySelector('#btn-wrap-1738733102 + iframe').src=document.querySelector('#btn-wrap-1738733102 + iframe').src;\"><svg width=\"16\" height=\"16\" viewBox=\"0 0 16 16\" fill=\"none\" xmlns=\"http://www.w3.org/2000/svg\"><path d=\"M9 14C10.1867 14 11.3467 13.6481 12.3334 12.9888C13.3201 12.3295 14.0892 11.3925 14.5433 10.2961C14.9974 9.19975 15.1162 7.99335 14.8847 6.82946C14.6532 5.66558 14.0818 4.59648 13.2426 3.75736C12.4035 2.91825 11.3344 2.3468 10.1705 2.11529C9.00666 1.88378 7.80026 2.0026 6.7039 2.45673C5.60754 2.91085 4.67047 3.67989 4.01118 4.66658C3.35189 5.65328 3 6.81331 3 8V11.1L1.2 9.3L0.5 10L3.5 13L6.5 10L5.8 9.3L4 11.1V8C4 7.0111 4.29324 6.0444 4.84265 5.22215C5.39206 4.39991 6.17295 3.75904 7.08658 3.38061C8.00021 3.00217 9.00555 2.90315 9.97545 3.09608C10.9454 3.289 11.8363 3.76521 12.5355 4.46447C13.2348 5.16373 13.711 6.05465 13.9039 7.02455C14.0969 7.99446 13.9978 8.99979 13.6194 9.91342C13.241 10.8271 12.6001 11.6079 11.7779 12.1574C10.9556 12.7068 9.98891 13 9 13V14Z\" fill=\"currentColor\"/></svg></a></div><iframe src=\"http://127.0.0.1:8027/headless/smol/tritace\" crossorigin=\"anonymous\" width=\"100%\" height=\"700\" style=\"border:solid 1px #ddd;box-sizing:border-box;width:calc(100% + 20px)\"></iframe>"
      ],
      "text/plain": [
       "<IPython.core.display.HTML object>"
      ]
     },
     "metadata": {},
     "output_type": "display_data"
    }
   ],
   "source": [
    "%openad show molecule tritace"
   ]
  },
  {
   "cell_type": "code",
   "execution_count": 12,
   "id": "fb12a130-c2c1-456c-a40f-d33bdb7a0fa9",
   "metadata": {
    "execution": {
     "iopub.execute_input": "2025-02-05T05:28:32.817388Z",
     "iopub.status.busy": "2025-02-05T05:28:32.817092Z",
     "iopub.status.idle": "2025-02-05T05:35:07.637391Z",
     "shell.execute_reply": "2025-02-05T05:35:07.636752Z",
     "shell.execute_reply.started": "2025-02-05T05:28:32.817363Z"
    },
    "tags": []
   },
   "outputs": [
    {
     "data": {
      "application/vnd.jupyter.widget-view+json": {
       "model_id": "733df654561a4c17abbc810a0ad96d21",
       "version_major": 2,
       "version_minor": 0
      },
      "text/plain": [
       "Output()"
      ]
     },
     "metadata": {},
     "output_type": "display_data"
    },
    {
     "data": {
      "text/markdown": [
       "<span style=\"color: #d00\">Server unresponsive</span> <br> \n",
       "<span style=\"color: #ccc\">Unable to complete processing after 5 minutes and 0 seconds</span> <br> \n"
      ],
      "text/plain": [
       "<IPython.core.display.Markdown object>"
      ]
     },
     "metadata": {},
     "output_type": "display_data"
    }
   ],
   "source": [
    "%openad rxn predict retro CCOC(=O)C(CCC1=CC=CC=C1)NC(C)C(=O)N2C3CCCC3CC2C(=O)O"
   ]
  },
  {
   "cell_type": "code",
   "execution_count": null,
   "id": "36185389-dc15-44fb-9fee-746247724a98",
   "metadata": {},
   "outputs": [],
   "source": []
  }
 ],
 "metadata": {
  "jupyterlab-rise": {
   "footer": "<h3>World!</h3>",
   "header": "<h1>Hello</h1>"
  },
  "kernelspec": {
   "display_name": "ad-venv",
   "language": "python",
   "name": "ad-venv"
  },
  "language_info": {
   "codemirror_mode": {
    "name": "ipython",
    "version": 3
   },
   "file_extension": ".py",
   "mimetype": "text/x-python",
   "name": "python",
   "nbconvert_exporter": "python",
   "pygments_lexer": "ipython3",
   "version": "3.10.14"
  }
 },
 "nbformat": 4,
 "nbformat_minor": 5
}
