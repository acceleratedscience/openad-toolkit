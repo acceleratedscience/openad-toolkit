{
 "cells": [
  {
   "cell_type": "markdown",
   "id": "9757663d",
   "metadata": {},
   "source": [
    "<div class=\"alert alert-info\">⚠️ Import styling before performing slide show</div>"
   ]
  },
  {
   "cell_type": "code",
   "execution_count": null,
   "id": "2fe2630a-7eb1-4914-a249-836e88883433",
   "metadata": {
    "tags": []
   },
   "outputs": [],
   "source": [
    "%reload_ext openad.notebooks.styles"
   ]
  },
  {
   "cell_type": "markdown",
   "id": "4d1c461c-35a4-44af-96ba-2bfd6a7f28a0",
   "metadata": {
    "slideshow": {
     "slide_type": "skip"
    },
    "tags": []
   },
   "source": [
    "## Prerequisities\n",
    "\n",
    "You must have Jupyterlab-rise installed and enabled\n",
    "\n",
    "Use the slide show icon at top of notebook to run\n",
    "\n",
    "Run the cells above before running"
   ]
  },
  {
   "cell_type": "markdown",
   "id": "ccf182de-544f-4552-82f1-e670e3883baa",
   "metadata": {
    "slideshow": {
     "slide_type": "slide"
    },
    "tags": []
   },
   "source": [
    "<!-- Header banner -->\n",
    "<div class=\"banner\"><div>Slide Show Demonstrations</div><b>OpenAD <span>Tutorial</span></b></div>"
   ]
  },
  {
   "cell_type": "markdown",
   "id": "0460cf50-6e3e-4685-9533-e40723b5d623",
   "metadata": {
    "execution": {
     "iopub.execute_input": "2024-06-20T02:25:23.889942Z",
     "iopub.status.busy": "2024-06-20T02:25:23.889643Z",
     "iopub.status.idle": "2024-06-20T02:25:23.897370Z",
     "shell.execute_reply": "2024-06-20T02:25:23.896079Z",
     "shell.execute_reply.started": "2024-06-20T02:25:23.889913Z"
    },
    "tags": []
   },
   "source": [
    "# Demonstration : Source PFAS Molecules and find Alternatives\n",
    "\n",
    "### - Use IBM Deep Search to search for PFAS molecules\n",
    "### - Use IBM's OpenAD's open-source property generation to generate additional properties\n",
    "### - Merge and collate molecule data with OpenAD toolkit\n",
    "### - Generate similar molecules with IBM open-source Regression Transformer with higher soluability\n",
    "### - With Deep Search determine if generated molecules are mentioned in a patent, only proceed with molecules that do not.\n",
    "### - Take one of the molecules and Use IBM RXN Retrosynthesis commands to generate a path to synthesis\n"
   ]
  },
  {
   "cell_type": "markdown",
   "id": "f54412c2-22e3-4c5f-a3f3-aabf7865130c",
   "metadata": {
    "slideshow": {
     "slide_type": "slide"
    },
    "tags": []
   },
   "source": [
    "## Step 1 Use IBM Deep Search to search for PFAS molecules </span>"
   ]
  },
  {
   "cell_type": "code",
   "execution_count": null,
   "id": "38b05b24-fd56-4248-af20-af6c6d85198d",
   "metadata": {
    "tags": []
   },
   "outputs": [],
   "source": [
    "\n",
    "%openad ds search collection 'PubChem' for 'PFOA OR PFOS OR PFHxS OR PFNA OR HFPO-DA'"
   ]
  },
  {
   "cell_type": "markdown",
   "id": "ec328022-7087-4e02-9a02-147a0610c4db",
   "metadata": {
    "slideshow": {
     "slide_type": "slide"
    },
    "tags": []
   },
   "source": [
    "## Step 2: Use IBM's OpenAD open-source property generation to generate additional properties</span>"
   ]
  },
  {
   "cell_type": "markdown",
   "id": "918a7d43-c202-4b18-86ba-d9844037056e",
   "metadata": {},
   "source": [
    "Load molecules into a OpenAD molecule set and Initialize the list of additional proerties to generate"
   ]
  },
  {
   "cell_type": "code",
   "execution_count": null,
   "id": "8827ef75-1bf6-41d6-84a3-33f58f6b6745",
   "metadata": {
    "tags": []
   },
   "outputs": [],
   "source": [
    "# Load the data from the datframe Style object into the molecules data set\n",
    "df_data = %openadd result as dataframe\n",
    "\n",
    "%openad load molecules using dataframe df_data\n",
    "\n",
    "# Define list of Delta to be inferred properties\n",
    "properties = [\"is_scaffold\", \"bertz\", \"tpsa\", \"logp\", \"qed\", \"plogp\", \"penalized_logp\", \"lipinski\", \"sas\", \"esol\"]"
   ]
  },
  {
   "cell_type": "markdown",
   "id": "f9d7563d-5506-42ba-8878-67639adda15f",
   "metadata": {
    "tags": []
   },
   "source": [
    "Generate and merge the additional properties"
   ]
  },
  {
   "cell_type": "code",
   "execution_count": null,
   "id": "0d42da8e-82e2-40d7-999c-85807f239805",
   "metadata": {
    "scrolled": true,
    "tags": []
   },
   "outputs": [],
   "source": [
    "# Generate SMILES properties and merge with molecules\n",
    "%openad prop get molecule property {properties} for  @mols merge with mols"
   ]
  },
  {
   "cell_type": "code",
   "execution_count": null,
   "id": "97be2dce-e6ce-45ed-9fdc-ac798725d796",
   "metadata": {},
   "outputs": [],
   "source": []
  },
  {
   "cell_type": "markdown",
   "id": "5a6bd729-2a6f-4184-99fe-b1de20f68fd7",
   "metadata": {
    "execution": {
     "iopub.execute_input": "2024-05-13T07:28:42.461718Z",
     "iopub.status.busy": "2024-05-13T07:28:42.461365Z",
     "iopub.status.idle": "2024-05-13T07:28:42.468797Z",
     "shell.execute_reply": "2024-05-13T07:28:42.467947Z",
     "shell.execute_reply.started": "2024-05-13T07:28:42.461687Z"
    },
    "slideshow": {
     "slide_type": "slide"
    },
    "tags": []
   },
   "source": [
    "### Let's Examine the available Molecules"
   ]
  },
  {
   "cell_type": "code",
   "execution_count": null,
   "id": "c6b67566-a444-4e13-98e5-3f5de94922f0",
   "metadata": {
    "tags": []
   },
   "outputs": [],
   "source": [
    "%openad show molecules"
   ]
  },
  {
   "cell_type": "markdown",
   "id": "efcf4407-66ad-4243-b66e-4b42bb5b2c36",
   "metadata": {
    "slideshow": {
     "slide_type": "slide"
    },
    "tags": []
   },
   "source": [
    "### Drilling in on the details of a molecule"
   ]
  },
  {
   "cell_type": "code",
   "execution_count": null,
   "id": "9029b147-99d2-4645-843e-26bf5410ab9e",
   "metadata": {
    "tags": []
   },
   "outputs": [],
   "source": [
    "%openad show molecule 'Perfluorononanoic acid'"
   ]
  },
  {
   "cell_type": "markdown",
   "id": "7d3960d0-219f-405b-b8d4-95ec5a8b87a6",
   "metadata": {
    "slideshow": {
     "slide_type": "slide"
    },
    "tags": []
   },
   "source": [
    "##  Step 3: Generate Similar Molecules with IBM's open-source Regression Transformer"
   ]
  },
  {
   "cell_type": "code",
   "execution_count": null,
   "id": "da7a67ce-522f-4553-83d4-664c4dc5a75b",
   "metadata": {
    "scrolled": true,
    "tags": []
   },
   "outputs": [],
   "source": [
    "datasets = []\n",
    "mol_list = %openadd export molecules\n",
    "for row in mol_list.to_dict(\"records\"):\n",
    "    MY_SMILES= row['canonical_smiles']\n",
    "    esol= float(row['esol'])+2 #higher soluability by 2 points\n",
    "    MY_PARAMS = { \"fraction_to_mask\": 0.1 , \"property_goal\": { \"<esol>\": esol} }\n",
    "    display(\"Generating Molecules for \"+MY_SMILES+\" with soluability:\"+str(row['esol']) )\n",
    "    result = %openadd gen generate with RegressionTransformerMolecules data for $MY_SMILES sample 10 \\\n",
    "    using(algorithm_version=solubility  search=sample temperature=1.5 tolerance=60.0 sampling_wrapper = \"$MY_PARAMS\" )\n",
    "    display(result)\n",
    "    datasets.append(result)"
   ]
  },
  {
   "cell_type": "markdown",
   "id": "79bbbac2-0f0a-47a3-8af5-6b42a0adc1f4",
   "metadata": {
    "slideshow": {
     "slide_type": "slide"
    },
    "tags": []
   },
   "source": [
    "## Step 4: With IBM Deep Search determine if generated molecules are mentioned in a patent"
   ]
  },
  {
   "cell_type": "code",
   "execution_count": null,
   "id": "c2fee715-3ec5-4766-bea8-19f89cfe16e9",
   "metadata": {
    "tags": []
   },
   "outputs": [],
   "source": [
    "x = 0\n",
    "patent_count = 0\n",
    "patents_to_search = []\n",
    "patented_molecules = []\n",
    "non_patented_molecules = []\n",
    "searched_list = []\n",
    "\n",
    "# For all the molecules in the data set search for those with patents\n",
    "for result in datasets:\n",
    "    for mol in result[\"0\"].to_list():\n",
    "        # remove duplicates\n",
    "        if mol in searched_list:\n",
    "            continue\n",
    "        else:\n",
    "            searched_list.append(mol)\n",
    "        # Execute Patent Search\n",
    "\n",
    "        x = %openadd ds search for patents containing molecule '{mol}'\n",
    "\n",
    "        # If has patents append to list\n",
    "        if isinstance(x, DataFrame):\n",
    "            patents_to_search.extend(x[\"publication_id\"].to_list())\n",
    "            patented_molecules.append(mol)\n",
    "            print(f'patents for molecule {mol}:\\n  {x[\"publication_id\"].to_list()}')\n",
    "        else:\n",
    "            non_patented_molecules.append(mol)"
   ]
  },
  {
   "cell_type": "markdown",
   "id": "56de6738-59a5-469b-83fb-0cdede1d0677",
   "metadata": {
    "execution": {
     "iopub.execute_input": "2024-05-14T03:57:35.526422Z",
     "iopub.status.busy": "2024-05-14T03:57:35.525909Z",
     "iopub.status.idle": "2024-05-14T03:57:35.531773Z",
     "shell.execute_reply": "2024-05-14T03:57:35.531012Z",
     "shell.execute_reply.started": "2024-05-14T03:57:35.526394Z"
    },
    "slideshow": {
     "slide_type": "slide"
    },
    "tags": []
   },
   "source": [
    "Step 5: Add the Non Patented molecules to our list and generate properties for them "
   ]
  },
  {
   "cell_type": "code",
   "execution_count": null,
   "id": "07c23766-a774-4342-a24d-c224f4e2a886",
   "metadata": {
    "scrolled": true,
    "tags": []
   },
   "outputs": [],
   "source": [
    "# generate the new properties for all of the new molecules\n",
    "properties_all = [\n",
    "    \"molecular_weight\",\n",
    "    \"number_of_aromatic_rings\",\n",
    "    \"number_of_h_acceptors\",\n",
    "    \"number_of_atoms\",\n",
    "    \"number_of_rings\",\n",
    "    \"number_of_rotatable_bonds\",\n",
    "    \"number_of_large_rings\",\n",
    "    \"number_of_heterocycles\",\n",
    "    \"number_of_stereocenters\",\n",
    "    \"is_scaffold\",\n",
    "    \"bertz\",\n",
    "    \"tpsa\",\n",
    "    \"logp\",\n",
    "    \"qed\",\n",
    "    \"plogp\",\n",
    "    \"penalized_logp\",\n",
    "    \"lipinski\",\n",
    "    \"sas\",\n",
    "    \"esol\",\n",
    "]\n",
    "new_props = %openadd prop get molecule property {properties_all} for {non_patented_molecules} merge with mols\n",
    "\n",
    "# Lets merge the new molecules into our Molecule Working Set\n",
    "\n",
    "%openad enrich molecules with analysis"
   ]
  },
  {
   "cell_type": "code",
   "execution_count": null,
   "id": "a9d679d3-d214-4c89-97c8-4658c0376064",
   "metadata": {
    "slideshow": {
     "slide_type": "slide"
    },
    "tags": []
   },
   "outputs": [],
   "source": [
    "%openad show molecules"
   ]
  },
  {
   "cell_type": "markdown",
   "id": "7eedefd6-a8c0-4ddb-a97d-237d64927df3",
   "metadata": {
    "tags": []
   },
   "source": [
    " Use the Interactive Help to find out how to create the molecule using the IBM RXN Predict Retrosynthesis capability "
   ]
  },
  {
   "cell_type": "markdown",
   "id": "1f2e7be3-3ea2-4af5-95e6-a0990281367a",
   "metadata": {
    "slideshow": {
     "slide_type": "slide"
    },
    "tags": []
   },
   "source": [
    "## Step 6 Run IBM RXN Retrosynthesis "
   ]
  },
  {
   "cell_type": "code",
   "execution_count": null,
   "id": "4e447364-9493-40d6-94ba-dd8b26e73b5f",
   "metadata": {
    "tags": []
   },
   "outputs": [],
   "source": [
    "# set The RXN toolkit active\n",
    "%openad rxn predict retrosynthesis  'OC(F)C(F)(F)C(F)(F)C(F)(F)C(F)(F)C(F)(F)C(F)(F)C(F)(F)F' using (max_steps=6 ai_model='12class-tokens-2021-05-14'  )"
   ]
  },
  {
   "cell_type": "markdown",
   "id": "250beb85-4826-4dc9-9ed5-e3491c588b93",
   "metadata": {
    "slideshow": {
     "slide_type": "slide"
    },
    "tags": []
   },
   "source": [
    "### Now lets take a look at what we know about the molecule"
   ]
  },
  {
   "cell_type": "code",
   "execution_count": null,
   "id": "211cdf90-874e-4153-8fd9-e1c9b34e3ce1",
   "metadata": {
    "tags": []
   },
   "outputs": [],
   "source": [
    "\n",
    "%openad show molecule O=S(=O)([O-])C(F)(F)C(F)(F)C(F)(F)C(F)(F)C(F)(F)C(F)(F)F"
   ]
  },
  {
   "cell_type": "code",
   "execution_count": null,
   "id": "36185389-dc15-44fb-9fee-746247724a98",
   "metadata": {},
   "outputs": [],
   "source": []
  }
 ],
 "metadata": {
  "jupyterlab-rise": {
   "footer": "<h3>World!</h3>",
   "header": "<h1>Hello</h1>"
  },
  "kernelspec": {
   "display_name": "Python 3 (ipykernel)",
   "language": "python",
   "name": "python3"
  },
  "language_info": {
   "codemirror_mode": {
    "name": "ipython",
    "version": 3
   },
   "file_extension": ".py",
   "mimetype": "text/x-python",
   "name": "python",
   "nbconvert_exporter": "python",
   "pygments_lexer": "ipython3",
   "version": "3.11.7"
  }
 },
 "nbformat": 4,
 "nbformat_minor": 5
}
