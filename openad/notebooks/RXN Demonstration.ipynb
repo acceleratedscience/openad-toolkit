{
 "cells": [
  {
   "cell_type": "code",
   "execution_count": null,
   "id": "83f5abe4-7205-4fc1-a2bf-a75c76bbbd23",
   "metadata": {
    "tags": []
   },
   "outputs": [],
   "source": [
    "%reload_ext openad.notebooks.styles"
   ]
  },
  {
   "cell_type": "markdown",
   "id": "2350625b-139b-457e-8857-d6c6c33eabc8",
   "metadata": {},
   "source": [
    "<!-- Header banner -->\n",
    "<div class=\"banner\"><div>RXN Demonstration</div><b>OpenAD <span>Tutorial</span></b></div>"
   ]
  },
  {
   "cell_type": "markdown",
   "id": "8feab26e-1785-402f-83b0-9c3c5a524fc3",
   "metadata": {},
   "source": [
    "# RXN"
   ]
  },
  {
   "cell_type": "markdown",
   "id": "15d60243-2f72-4050-8663-ec79cbdf3b1f",
   "metadata": {
    "tags": []
   },
   "source": [
    "<br><br>\n",
    "\n",
    "## 1. Getting Started\n",
    "<hr>"
   ]
  },
  {
   "cell_type": "markdown",
   "id": "d0d312b0-e788-443b-a4cc-def387f519e5",
   "metadata": {
    "tags": []
   },
   "source": [
    "## Working with OpenAD Magic Commands\n",
    "\n",
    "When using Magic commands to access the Openad toolkit you have 2 options \n",
    "\n",
    "1. `%openad` provides a simple user interface that provides styled and formatted objects back to the notebook. Tables use pandas Dataframe Styler object. These can be converted back to data frame objects using `.data` on the object or using the in memory assistant which will copy the last result to a file , dataframe or to the dataviewer.\n",
    "  When this is available you will see `Next up, you can run: result open/edit/copy/display/as dataframe/save [as '<filename.csv>']` in the output.\n",
    "  \n",
    "  This magic command is the recommended version to use as it willprovide all warning and results visually.\n",
    "  \n",
    "2. `%openadd` is the second form that allows you to return api style results in dataframe or list formats that can be used programatically for functions or flows in your notebook. This is good for prebuilt notebook process flows."
   ]
  },
  {
   "cell_type": "markdown",
   "id": "f3a66ee5",
   "metadata": {},
   "source": [
    "<br>\n",
    "\n",
    "### Available RXN commands\n",
    "Let's list all available commands for this toolkit."
   ]
  },
  {
   "cell_type": "code",
   "execution_count": null,
   "id": "b089a7c4-be38-4447-9e05-335e8f4d08e6",
   "metadata": {
    "tags": []
   },
   "outputs": [],
   "source": [
    "%openad ? rxn"
   ]
  },
  {
   "cell_type": "markdown",
   "id": "f54a23c6-af48-4ae0-b047-107f432882d7",
   "metadata": {},
   "source": [
    "<br><br>\n",
    "\n",
    "## 2. Available AI Models\n",
    "<hr>"
   ]
  },
  {
   "cell_type": "markdown",
   "id": "564489ea",
   "metadata": {},
   "source": [
    "A number of commands have an `ai_model` parameter which allows you to specify which AI model to use in the inference behind the function. The list of available RXN models can be display using thre `list rxn models` command."
   ]
  },
  {
   "cell_type": "code",
   "execution_count": null,
   "id": "9726ad22-5fc7-4dfe-8f9c-57f17d2b47ae",
   "metadata": {
    "tags": []
   },
   "outputs": [],
   "source": [
    "%openad list rxn models"
   ]
  },
  {
   "cell_type": "markdown",
   "id": "16d88609-2f5f-4617-abec-ca0c5db48eb8",
   "metadata": {},
   "source": [
    "<br><br>\n",
    "\n",
    "## 3. Predicting Retrosynthesis\n",
    "<hr>\n",
    "<pre style=\"color:#eec;background:#2f2d3a;padding:20px;margin:0;border-radius:5px\">rxn predict retrosynthesis '&lt;smiles&gt;' [ using (option1=&lt;value&gt; option2=&lt;value&gt;) ]</pre>"
   ]
  },
  {
   "cell_type": "markdown",
   "id": "b5a6cbd7",
   "metadata": {},
   "source": [
    "This command enables you to perform retrosynthesis on a specified molecule using a SMILES input, providing paths for reactions to create the desired molecule within a set of optional constraints.\n",
    "\n",
    "The `using` clause enables the submission of different options, including the maximum number of steps for resulting reactions, which AI model to use in the analysis as well as a number of other tuning options."
   ]
  },
  {
   "cell_type": "code",
   "execution_count": null,
   "id": "1350d863-b78f-43d6-8856-ce38879495eb",
   "metadata": {
    "tags": []
   },
   "outputs": [],
   "source": [
    "%openad predict retrosynthesis ?"
   ]
  },
  {
   "cell_type": "markdown",
   "id": "d2fc79a5",
   "metadata": {},
   "source": [
    "In the example below, you will notice we are using variable substitution to provide the command with the SMILES molecule."
   ]
  },
  {
   "cell_type": "code",
   "execution_count": null,
   "id": "21e9e8bc-57ae-4771-8df2-0194f11f7af4",
   "metadata": {
    "scrolled": true,
    "tags": []
   },
   "outputs": [],
   "source": [
    "smiles_molecule = \"CC(C)(c1ccccn1)C(CC(=O)O)Nc1nc(-c2c[nH]c3ncc(Cl)cc23)c(C#N)cc1F\"\n",
    "%openad predict retrosynthesis '{smiles_molecule}' using(max_steps=5)"
   ]
  },
  {
   "cell_type": "markdown",
   "id": "95e3d699-abff-4d79-adde-ebfd94c6f420",
   "metadata": {},
   "source": [
    "<br><br>\n",
    "\n",
    "## 4. Interpreting Recipes\n",
    "<hr>\n",
    "<pre style=\"color:#eec;background:#2f2d3a;padding:20px;margin:0;border-radius:5px\">rxn interpret recipe '&lt;recipe_paragraph&gt;' | '&lt;txt_filename&gt;'</pre>"
   ]
  },
  {
   "cell_type": "markdown",
   "id": "961c4f1c",
   "metadata": {},
   "source": [
    "This command is able to interpret a textual description of a process for performing a chemical reaction and spit it back as a set of defined steps."
   ]
  },
  {
   "cell_type": "code",
   "execution_count": null,
   "id": "87dffbe7-e832-4205-abdc-dabb7b987805",
   "metadata": {
    "tags": []
   },
   "outputs": [],
   "source": [
    "%openad interpret recipe 'To a stirred solution of 7-(difluoromethylsulfonyl)-4-fluoro-indan-1-one \\\n",
    "(110 mg, 0.42 mmol) in methanol (4 mL) was added sodium borohydride (24 mg, 0.62 mmol). \\\n",
    "The reaction mixture was stirred at ambient temperature for 1 hour.'"
   ]
  },
  {
   "cell_type": "markdown",
   "id": "d0802fa5-10c5-4917-8666-98e2f051ab5b",
   "metadata": {},
   "source": [
    "<br><br>\n",
    "\n",
    "## 5. Working with Predictions and Batch\n",
    "<hr>"
   ]
  },
  {
   "cell_type": "markdown",
   "id": "06437709-ed2c-45a1-bdd8-8152e343495f",
   "metadata": {},
   "source": [
    "<br>\n",
    "\n",
    "### Single reaction predictions\n",
    "<pre style=\"color:#eec;background:#2f2d3a;padding:20px;margin:0;border-radius:5px\">rxn predict reaction '&lt;smiles&gt;.&lt;smiles&gt;' [ using (ai_model='&lt;ai_model&gt;') ] [ use_saved ]</pre>"
   ]
  },
  {
   "cell_type": "markdown",
   "id": "a7205a91",
   "metadata": {},
   "source": [
    "This command allows you to predict a reaction for a single molecule and view the highest confidence option the model comes up with.\n",
    "\n",
    "By using the `use_saved` clause, you can tell the command to look for the results in a cache to see if the same command had been run previously and use that result instead of requesting it again from the service."
   ]
  },
  {
   "cell_type": "code",
   "execution_count": null,
   "id": "8b1be04b-c118-4011-9b66-5355db55961d",
   "metadata": {
    "tags": []
   },
   "outputs": [],
   "source": [
    "%openad  rxn predict reaction ' ?"
   ]
  },
  {
   "cell_type": "markdown",
   "id": "a16a0ea8-68c7-4f2b-b572-2f9b2fe62db8",
   "metadata": {},
   "source": [
    "For our example we'll predict the reaction of chlorine, N-propylpropanamide and oxygen."
   ]
  },
  {
   "cell_type": "code",
   "execution_count": null,
   "id": "921fff0f-796b-4923-a1b6-d3ddb0298a34",
   "metadata": {
    "tags": []
   },
   "outputs": [],
   "source": [
    "%openad rxn predict reaction 'Cl.CCC(=O)NCCC.O'"
   ]
  },
  {
   "cell_type": "markdown",
   "id": "94175849-50e8-4d5d-bc97-9545d38e7116",
   "metadata": {},
   "source": [
    "<br>\n",
    "\n",
    "### Batch predictions\n",
    "<pre style=\"color:#eec;background:#2f2d3a;padding:20px;margin:0;border-radius:5px\">rxn predict reaction in batch from dataframe &lt;dataframe_name&gt; | file '&lt;filename.csv&gt;' | list ['&lt;smiles&gt;.&lt;smiles&gt;','&lt;smiles&gt;.&lt;smiles&gt;'] [ using (ai_model='&lt;ai_model&gt;') ] [ use_saved ]</pre>\n"
   ]
  },
  {
   "cell_type": "markdown",
   "id": "2ce025d3",
   "metadata": {},
   "source": [
    "Reaction predictions can also be run in batch.\n",
    "\n",
    "The list of molecules can be provided in a list, a CSV file or dataframe. In the case of CSV files and dataframes, the column with 'reactions' as its header will be used as input."
   ]
  },
  {
   "cell_type": "code",
   "execution_count": null,
   "id": "dbfce7df-7437-42d8-a0a8-2872cb268d95",
   "metadata": {
    "tags": []
   },
   "outputs": [],
   "source": [
    "%openad rxn predict reaction   ?"
   ]
  },
  {
   "cell_type": "code",
   "execution_count": null,
   "id": "28425cd2-289a-41cf-9017-4e9a6e48177b",
   "metadata": {
    "tags": []
   },
   "outputs": [],
   "source": [
    "%openad rxn predict reaction in batch from list ['BrBr.c1ccc2cc3ccccc3cc2c1CCO' ,'Cl.CCC(=O)NCCC.O']"
   ]
  },
  {
   "cell_type": "markdown",
   "id": "76c2a06c-d69e-4758-a66c-069e9513b760",
   "metadata": {},
   "source": [
    "<br>\n",
    "\n",
    "#### Using the `use_saved` clause\n",
    "When running the command below with the `use_saved` clause, you will notice the previously cached result will display first before the other result is generated."
   ]
  },
  {
   "cell_type": "code",
   "execution_count": null,
   "id": "cf813e5f-24b2-4757-9d31-1d8756b7b994",
   "metadata": {
    "tags": []
   },
   "outputs": [],
   "source": [
    "%openad rxn predict reaction in batch from list ['BrBr.c1ccc2cc3ccccc3cc2c1CCO' ,'BrBr.c1ccc2cc3ccccc3cc2c1','Cl.CCC(=O)NCCC.O'] use_saved"
   ]
  },
  {
   "cell_type": "markdown",
   "id": "6f7d15c4",
   "metadata": {},
   "source": [
    "<br>\n",
    "\n",
    "### Batch predictions with multiple results per reactions\n",
    "\n",
    "<pre style=\"color:#eec;background:#2f2d3a;padding:20px;margin:0;border-radius:5px\">predict reaction topn in batch from dataframe &lt;dataframe_name&gt; | file '&lt;filename.csv&gt;' | list ['&lt;smiles&gt;.&lt;smiles&gt;','&lt;smiles&gt;.&lt;smiles&gt;'] [ using (topn=&lt;integer&gt; ai_model='&lt;ai_model&gt;') ] [ use_saved ]</pre>"
   ]
  },
  {
   "cell_type": "markdown",
   "id": "12c8540f-0c3b-42c9-86ca-6e406e2fc655",
   "metadata": {},
   "source": [
    "This command is closely related to the previous command. The difference here is that per reaction, instead of a single result we will return a list of the top results."
   ]
  },
  {
   "cell_type": "code",
   "execution_count": null,
   "id": "1cb1750d-4afe-4905-82bf-0fe5fcff7f0f",
   "metadata": {
    "tags": []
   },
   "outputs": [],
   "source": [
    "%openad rxn predict reaction topn  ? "
   ]
  },
  {
   "cell_type": "code",
   "execution_count": null,
   "id": "c8c590e9-360a-48f0-8a30-454196eac7fe",
   "metadata": {
    "tags": []
   },
   "outputs": [],
   "source": [
    "%openad rxn predict reaction  from list ['BrBr.c1ccc2cc3ccccc3cc2c1CCO' ,'BrBr.c1ccc2cc3ccccc3cc2c1','Cl.CCC(=O)NCCC.O'] using (topn=6)"
   ]
  },
  {
   "cell_type": "code",
   "execution_count": null,
   "id": "16c4faad-0a58-4bc2-8699-ba777ab25f8d",
   "metadata": {},
   "outputs": [],
   "source": []
  }
 ],
 "metadata": {
  "kernelspec": {
   "display_name": "ad-venv",
   "language": "python",
   "name": "ad-venv"
  },
  "language_info": {
   "codemirror_mode": {
    "name": "ipython",
    "version": 3
   },
   "file_extension": ".py",
   "mimetype": "text/x-python",
   "name": "python",
   "nbconvert_exporter": "python",
   "pygments_lexer": "ipython3",
   "version": "3.10.14"
  }
 },
 "nbformat": 4,
 "nbformat_minor": 5
}
