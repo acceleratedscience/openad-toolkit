{
 "cells": [
  {
   "cell_type": "code",
   "execution_count": null,
   "id": "83f5abe4-7205-4fc1-a2bf-a75c76bbbd23",
   "metadata": {
    "tags": []
   },
   "outputs": [],
   "source": [
    "%reload_ext openad.notebooks.styles"
   ]
  },
  {
   "cell_type": "markdown",
   "id": "2350625b-139b-457e-8857-d6c6c33eabc8",
   "metadata": {},
   "source": [
    "<!-- Header banner -->\n",
    "<div class=\"banner\"><div>Working with the Deep Search Plugin</div><b>OpenAD <span>Tutorial</span></b></div>"
   ]
  },
  {
   "cell_type": "markdown",
   "id": "b38aac2b-5086-4741-9607-ac535634ef18",
   "metadata": {},
   "source": [
    "### Table of Contents\n",
    "\n",
    "1. [Getting Started](#Getting-Started)\n",
    "    1. [Installation](#Installation)\n",
    "    1. [Authentication](#Authentication)\n",
    "    1. [Magic Commands](#Magic-Commands)\n",
    "    1. [About Deep Search](#About-Deep-Search)\n",
    "    1. [Command Documentation](#Command-Documentation)\n",
    "1. [Searching for Molecules](#Searching-for-Molecules)\n",
    "    1. [Similar Molecules](#Similar-Molecules)\n",
    "    1. [By Substructure](#By-Substructure)\n",
    "    1. [Across Patents](#Across-Patents)\n",
    "1. [Exploring Collections](#Exploring-Collections)\n",
    "    1. [Overview of Collections](#Overview-of-Collections)\n",
    "    1. [Find Collections by Domain](#Find-Collections-by-Domain)\n",
    "    1. [Find Collections by Content](#Find-Collections-by-Content)\n",
    "1. [Searching a Collection](#Searching-a-Collection)\n",
    "    1. [Search Parameters](#Search-Parameters)\n",
    "    1. [Example A: Search for \"Ibuprofen\" on PubChem](#Example-A:-Search-for-\"Ibuprofen\"-on-PubChem)\n",
    "    1. [Example B: Query arXiv for \"power conversion efficiency\"](#Example-B:-Query-arXiv-for-\"power-conversion-efficiency\")\n",
    "1. [Enriching your Molecules with Deep Search Results](#Enriching-your-Molecules-with-Deep-Search-Results)"
   ]
  },
  {
   "cell_type": "markdown",
   "id": "96aae46b-4f93-483c-b600-4f67a2a946a6",
   "metadata": {
    "tags": []
   },
   "source": [
    "## Getting Started"
   ]
  },
  {
   "cell_type": "markdown",
   "id": "fb3d1678-f853-465c-a58f-006ac76559be",
   "metadata": {},
   "source": [
    "### Installation\n",
    "If you haven't already, you can install the plugin directly from its [GitHub repo](https://github.com/acceleratedscience/openad-plugin-ds#readme).\n",
    "    \n",
    "    pip install git+https://github.com/acceleratedscience/openad-plugin-ds\n",
    "\n",
    "### Authentication\n",
    "Before you can work with the Deep Search plugin, you'll need to sign up for a Deep Search account and create an API key.<br>We have [detailed instructions in the plugin's README](https://github.com/acceleratedscience/openad-plugin-ds#authentication). \n",
    "\n",
    "### Magic Commands\n",
    "Magic commands let you interact with the OpenAD shell.\n",
    "1. `%openad` - Display results directly in your notebook<br>\n",
    "2. `%openadd` - Store the returned data in a variable\n",
    "\n",
    "To learn more, check the [OpenAD intro to magic commands](https://github.com/acceleratedscience/openad-toolkit/blob/main/openad/notebooks/magic_commands.ipynb).\n",
    "\n",
    "### About Deep Search\n",
    "To learn about what this plugin does and list all available commands, run:\n",
    "\n",
    "    ds"
   ]
  },
  {
   "cell_type": "code",
   "execution_count": null,
   "id": "b089a7c4-be38-4447-9e05-335e8f4d08e6",
   "metadata": {
    "tags": []
   },
   "outputs": [],
   "source": [
    "%openad ds"
   ]
  },
  {
   "cell_type": "markdown",
   "id": "b304f72a-11a9-427c-9e01-8f815d5d42d6",
   "metadata": {},
   "source": [
    "### Command Documentation\n",
    "\n",
    "Every command has detailed documentation where you can find everything you need to know, including optional parameters and examples.\n",
    "\n",
    "To see the documentation of a command, just run the beginning of the command followed by a question mark."
   ]
  },
  {
   "cell_type": "code",
   "execution_count": null,
   "id": "ea1b8a35-dd08-4244-82fc-0f4d944a30c0",
   "metadata": {
    "tags": []
   },
   "outputs": [],
   "source": [
    "%openad ds reset ?"
   ]
  },
  {
   "cell_type": "markdown",
   "id": "7c2852cf-6dfc-46fd-8bc5-c04e9ff6dae8",
   "metadata": {
    "tags": []
   },
   "source": [
    "## Searching for Molecules"
   ]
  },
  {
   "cell_type": "markdown",
   "id": "ca86ea8f-068d-492f-a144-9c56aff2535b",
   "metadata": {},
   "source": [
    "### Similar Molecules\n",
    "\n",
    "    ds search for molecules similar to <smiles>"
   ]
  },
  {
   "cell_type": "code",
   "execution_count": null,
   "id": "3a70b37a-7ce9-484d-87d6-aa6d754520ab",
   "metadata": {
    "tags": []
   },
   "outputs": [],
   "source": [
    "%openad ds search for molecules similar to 'CC(C)(c1ccccn1)C(CC(=O)O)Nc1nc(-c2c[nH]c3ncc(Cl)cc23)c(C#N)cc1F'"
   ]
  },
  {
   "cell_type": "markdown",
   "id": "e21c1295-a57c-4e74-a205-da378507b658",
   "metadata": {},
   "source": [
    "### By Substructure\n",
    "\n",
    "    ds search for molecules with substructure <smiles>"
   ]
  },
  {
   "cell_type": "code",
   "execution_count": null,
   "id": "38ab8f80-ca83-4d6d-9ae5-1a752f492628",
   "metadata": {
    "tags": []
   },
   "outputs": [],
   "source": [
    "%openad ds search for molecules with  substructure 'C1(C(=C)C([O-])C1C)=O'"
   ]
  },
  {
   "cell_type": "markdown",
   "id": "d0a0ca22-e573-432c-bfaa-444deaaf086f",
   "metadata": {},
   "source": [
    "### Across Patents\n",
    "\n",
    "#### From a List\n",
    "\n",
    "    ds search for molecules in patents from list ['<patent_id>','<patent_id>',...]"
   ]
  },
  {
   "cell_type": "code",
   "execution_count": null,
   "id": "4f858d6a-5f7a-4feb-aa42-f72b50992cb2",
   "metadata": {
    "tags": []
   },
   "outputs": [],
   "source": [
    "# Basic example\n",
    "%openad ds search for molecules in patents from list ['CN108473493B','US20190023713A1']"
   ]
  },
  {
   "cell_type": "code",
   "execution_count": null,
   "id": "0cc24caa-c670-4530-b72e-daed0c212334",
   "metadata": {
    "tags": []
   },
   "outputs": [],
   "source": [
    "# Practical example\n",
    "from IPython.display import display, HTML\n",
    "\n",
    "# 1) Find patents containing a certain molecule\n",
    "smiles = 'CC(C)(c1ccccn1)C(CC(=O)O)Nc1nc(-c2c[nH]c3ncc(Cl)cc23)c(C#N)cc1F'\n",
    "patents = None\n",
    "patents = %openadd ds search for patents containing molecule {smiles}\n",
    "patents\n",
    "\n",
    "# 2) Search for other molecules in these patents\n",
    "if patents is not None:\n",
    "    patent_ids = list(patents[\"publication_id\"])\n",
    "    %openad ds search for molecules in patents from list {patent_ids}\n",
    "else:\n",
    "    display(HTML(f'<span style=\"color:#d00\">Something went wrong finding patents containing {smiles}</span>'))"
   ]
  },
  {
   "cell_type": "markdown",
   "id": "a16a797d-55a5-496b-999d-da16438a159e",
   "metadata": {},
   "source": [
    "#### From a DataFrame\n",
    "\n",
    "    ds search for molecules in patents from dataframe <dataframe_name>\n",
    "\n",
    "Please note that your patent ids should be stored in a column named `patent id` for this command to work."
   ]
  },
  {
   "cell_type": "code",
   "execution_count": null,
   "id": "acb2caeb-f432-476c-9112-1f4b161c755a",
   "metadata": {
    "tags": []
   },
   "outputs": [],
   "source": [
    "import pandas as py\n",
    "\n",
    "# Create a Pandas DataFrame with patent ids\n",
    "patent_ids = ['CN108473493B','US20190023713A1']\n",
    "df = py.DataFrame(patent_ids, columns=['patent id'])"
   ]
  },
  {
   "cell_type": "code",
   "execution_count": null,
   "id": "4a09e95c-29ad-4d63-bdcd-d636475ed0c0",
   "metadata": {
    "tags": []
   },
   "outputs": [],
   "source": [
    "%openad ds search for molecules in patents from dataframe df"
   ]
  },
  {
   "cell_type": "markdown",
   "id": "11ae5f7d-76e7-4671-be8a-bcf46a6b179d",
   "metadata": {},
   "source": [
    "#### From a File\n",
    "\n",
    "    ds search for molecules in patents from file '<filename.csv>'\n",
    "\n",
    "Please note that your patent ids should be stored in a column named `patent id` for this command to work.\n",
    "\n",
    "For the purpose of this demo, we'll store a .csv file with patent ids in your workspace."
   ]
  },
  {
   "cell_type": "code",
   "execution_count": null,
   "id": "1f3aeac4-2fc2-4437-88a0-ac1dc8cc55cb",
   "metadata": {
    "tags": []
   },
   "outputs": [],
   "source": [
    "# Prep\n",
    "import pandas as pd\n",
    "patent_ids = ['CN108473493B','US20190023713A1']\n",
    "cmd_pointer = %openadd cmd_pointer\n",
    "workspace_path = cmd_pointer.workspace_path()\n",
    "csv_file_path = f'{workspace_path}/ds_demo_patents.csv'\n",
    "\n",
    "# Store reactions in a CSV file in your workspace\n",
    "df = pd.DataFrame(patent_ids, columns=['patent id'])\n",
    "df.to_csv(csv_file_path)"
   ]
  },
  {
   "cell_type": "code",
   "execution_count": null,
   "id": "d67fd0f8-c39a-4673-b034-8623660e9ddc",
   "metadata": {
    "tags": []
   },
   "outputs": [],
   "source": [
    "# Inspect the file we just created\n",
    "%cat {csv_file_path}"
   ]
  },
  {
   "cell_type": "code",
   "execution_count": null,
   "id": "0b9b3938-b3ef-4c10-8885-7d0ad1deb228",
   "metadata": {
    "tags": []
   },
   "outputs": [],
   "source": [
    "%openad ds search for molecules in patents from file 'ds_demo_patents.csv'"
   ]
  },
  {
   "cell_type": "markdown",
   "id": "25f43ae7-35fb-407d-aa3b-03cc1738f844",
   "metadata": {
    "tags": []
   },
   "source": [
    "## Exploring Collections"
   ]
  },
  {
   "cell_type": "markdown",
   "id": "f0087be2-ec2d-4f45-82fd-82885eb70fec",
   "metadata": {},
   "source": [
    "Before you can search a collection, you'll need to know _what_ collections to search."
   ]
  },
  {
   "cell_type": "markdown",
   "id": "1dcbc391-eb4d-4240-9cfb-ea85ee38e982",
   "metadata": {},
   "source": [
    "### Overview of Collections\n",
    "\n",
    "    ds list all collections [ details ]"
   ]
  },
  {
   "cell_type": "code",
   "execution_count": null,
   "id": "3c9b2efb-551a-44de-a5de-ad6c385eed2b",
   "metadata": {
    "tags": []
   },
   "outputs": [],
   "source": [
    "# Overview of all available collections\n",
    "%openad ds list all collections"
   ]
  },
  {
   "cell_type": "code",
   "execution_count": null,
   "id": "503cdf92-0ccf-4938-9ec9-2fa7e5bfbf6b",
   "metadata": {
    "tags": []
   },
   "outputs": [],
   "source": [
    "# Description of all available collections\n",
    "%openad ds list all collections details"
   ]
  },
  {
   "cell_type": "markdown",
   "id": "8b51be6a-99f1-4db6-8a03-22ab6ff0c1d4",
   "metadata": {},
   "source": [
    "You can also request the description of a single collection.\n",
    "\n",
    "    ds list collection details '<collection_name_or_key>'"
   ]
  },
  {
   "cell_type": "code",
   "execution_count": null,
   "id": "34c29853-cea6-4497-a773-5205c2edfc23",
   "metadata": {
    "tags": []
   },
   "outputs": [],
   "source": [
    "%openad ds list collection details 'ipcc'"
   ]
  },
  {
   "cell_type": "markdown",
   "id": "2cdc75b1-c7d5-424e-a339-1883906b34ee",
   "metadata": {},
   "source": [
    "### Find Collections by Domain\n",
    "\n",
    "If you are looking for collections within a certain domain, you can first list the available domains...\n",
    "\n",
    "    ds list all domains\n",
    "    \n",
    "... and then list the collections for the domain(s) you want.\n",
    "\n",
    "    ds list collections for domain '<domain_name>'\n",
    "    ds list collections for domains ['<domain_name>','<domain_name>',...]"
   ]
  },
  {
   "cell_type": "code",
   "execution_count": null,
   "id": "cd79c608-cba6-4164-b725-564c791058f9",
   "metadata": {
    "tags": []
   },
   "outputs": [],
   "source": [
    "%openad ds list all domains"
   ]
  },
  {
   "cell_type": "code",
   "execution_count": null,
   "id": "31814777-2ef8-40a9-bc95-7cc0e4011f80",
   "metadata": {
    "tags": []
   },
   "outputs": [],
   "source": [
    "%openad ds list collections for domain 'Materials Science'"
   ]
  },
  {
   "cell_type": "code",
   "execution_count": null,
   "id": "79f04224-7310-42e4-8b58-fcd7df077141",
   "metadata": {
    "tags": []
   },
   "outputs": [],
   "source": [
    "%openad ds list collections for domains ['Materials Science','Scientific Literature']"
   ]
  },
  {
   "cell_type": "markdown",
   "id": "ae1e9772-80fa-482d-9b59-2fb6c0367c19",
   "metadata": {},
   "source": [
    "### Find Collections by Content\n",
    "\n",
    "If you're still not sure what collection to search, you can find collections relevant to your topic.\n",
    "\n",
    "    ds list collections containing '<search_query>'"
   ]
  },
  {
   "cell_type": "code",
   "execution_count": null,
   "id": "f91628c3-94a0-4320-9cf1-7ef9583b7e6a",
   "metadata": {
    "tags": []
   },
   "outputs": [],
   "source": [
    "%openad ds list collections containing '\"carbon capture\"'"
   ]
  },
  {
   "cell_type": "markdown",
   "id": "cd7da774-e660-43d3-88ac-da7290d3f705",
   "metadata": {
    "tags": []
   },
   "source": [
    "## Searching a Collection"
   ]
  },
  {
   "cell_type": "markdown",
   "id": "69fdeec1-5243-4a8e-89dc-ffbc8d5efa1c",
   "metadata": {},
   "source": [
    "Deep Search allows you to search across a variety of collections, returning documents with snippets highlighting the data matching your search criteria.\n",
    "\n",
    "    ds search collection '<collection_name_or_key>' for '<search_query>'"
   ]
  },
  {
   "cell_type": "markdown",
   "id": "3a3f0fd9-5ff2-4d2a-9260-c9a4dcbb8e0e",
   "metadata": {},
   "source": [
    "### Search Parameters\n",
    "Because of the large number of parameters, it is recommended to start by looking at the available options, only some of which we'll cover here."
   ]
  },
  {
   "cell_type": "code",
   "execution_count": null,
   "id": "6be9cddb-ac2e-4698-a147-8a55e3afd18f",
   "metadata": {
    "tags": []
   },
   "outputs": [],
   "source": [
    "%openad ds search collection ?"
   ]
  },
  {
   "cell_type": "markdown",
   "id": "60ea37ce-370c-4ae7-8f1d-a33b495e9062",
   "metadata": {},
   "source": [
    "### <span style=\"color: green\">Example A:</span> Search for \"_Ibuprofen_\" on PubChem\n",
    "\n",
    "In this basic example we'll search for all PubChem entries which contain the string _Ibuprofen_, then visualize all molecules that are listed.\n"
   ]
  },
  {
   "cell_type": "code",
   "execution_count": null,
   "id": "d5b67595-9fc9-4a73-a8d9-d421347628f9",
   "metadata": {
    "tags": []
   },
   "outputs": [],
   "source": [
    "# Search pubchem for mention of Ibuprofen\n",
    "%openad ds search collection 'pubchem' for 'Ibuprofen' show (data)"
   ]
  },
  {
   "cell_type": "markdown",
   "id": "45f2130a-b7d4-43f5-99c0-177f774c6388",
   "metadata": {},
   "source": [
    "#### Visualizing Results"
   ]
  },
  {
   "cell_type": "markdown",
   "id": "502ae30a-9885-4c42-bab8-04ea4086c33e",
   "metadata": {},
   "source": [
    "By using the `%openadd` magic command, we can store the results in a dataframe and manipulate them as we wish."
   ]
  },
  {
   "cell_type": "code",
   "execution_count": null,
   "id": "40bcd50f-7c33-4aa7-9932-01d2e9a24e05",
   "metadata": {
    "tags": []
   },
   "outputs": [],
   "source": [
    "# Load results in a dataframe\n",
    "pubchem_df = %openadd ds search collection 'pubchem' for 'Ibuprofen' show (data)"
   ]
  },
  {
   "cell_type": "code",
   "execution_count": null,
   "id": "477542cf-d6c8-4236-8dda-3cbfc697cea3",
   "metadata": {
    "tags": []
   },
   "outputs": [],
   "source": [
    "# Display the dataframe\n",
    "pubchem_df"
   ]
  },
  {
   "cell_type": "code",
   "execution_count": null,
   "id": "60ba9560-9309-4727-b3cc-b2498b48d8e2",
   "metadata": {
    "tags": []
   },
   "outputs": [],
   "source": [
    "# Count the results\n",
    "result_count = len(pubchem_df.index)\n",
    "print(f'Your query returned {result_count} molecules:')\n",
    "\n",
    "# List the returned smiles\n",
    "smiles_list = pubchem_df['SMILES'].tolist()\n",
    "for sm in smiles_list:\n",
    "    print('- ' + sm)"
   ]
  },
  {
   "cell_type": "code",
   "execution_count": null,
   "id": "8f08e1ec-0105-4d40-a6a2-3be145444ce4",
   "metadata": {
    "tags": []
   },
   "outputs": [],
   "source": [
    "# Load the results in your molecule working set and enrich them with PubChem data\n",
    "%openad load molecules from dataframe pubchem_df enrich"
   ]
  },
  {
   "cell_type": "code",
   "execution_count": null,
   "id": "6baba46a-7bfa-45e2-9d28-8f43fa6846d3",
   "metadata": {
    "tags": []
   },
   "outputs": [],
   "source": [
    "# List the molecules in your working set\n",
    "%openad list molecules"
   ]
  },
  {
   "cell_type": "code",
   "execution_count": null,
   "id": "53878552-aa5b-4661-8d81-4ceac6269e4b",
   "metadata": {
    "tags": []
   },
   "outputs": [],
   "source": [
    "# Visualize the molecules in your working set\n",
    "%openad show molecules"
   ]
  },
  {
   "cell_type": "code",
   "execution_count": null,
   "id": "d1003b58-cae0-4164-8c13-c6759550887a",
   "metadata": {
    "tags": []
   },
   "outputs": [],
   "source": [
    "# Visualize a single molecule\n",
    "%openad show molecule CC(C)C1CC2=C(C1)C=C(C=C2)C(C)C(=O)O"
   ]
  },
  {
   "cell_type": "markdown",
   "id": "8a4de9c8-e326-458b-a922-b2ab84863908",
   "metadata": {},
   "source": [
    "### <span style=\"color: green\">Example B:</span> Query arXiv for \"*power conversion efficiency*\"\n",
    "\n",
    "In this example we'll search for the input query in documents from the arXiv.org data collection. For each matched document we'll return the title, authors as well as the link to the original document on arXix.org\n",
    "\n",
    "#### Getting the result estimate\n",
    "\n",
    "Before launching our query, we can get an estimate of how many documents may be. returned, so we can massage our query as needed to get more or less results."
   ]
  },
  {
   "cell_type": "code",
   "execution_count": null,
   "id": "4ed06152-60d2-49ce-808e-5a9840b3f364",
   "metadata": {
    "tags": []
   },
   "outputs": [],
   "source": [
    "# Estimate results\n",
    "%openad ds search collection 'arXiv abstracts' for 'ide(\"power conversion efficiency\" OR PCE) AND organ*' show (docs) estimate only"
   ]
  },
  {
   "cell_type": "markdown",
   "id": "1b8c1754-56f1-475c-9ac5-4b4bb1e553b0",
   "metadata": {},
   "source": [
    "For queries that would return more than 100 results, you get the option to abort, as fetching the results may take a considerable amoung of time."
   ]
  },
  {
   "cell_type": "code",
   "execution_count": null,
   "id": "f71ef20d-03c5-432b-95a6-f73184c54535",
   "metadata": {
    "tags": []
   },
   "outputs": [],
   "source": [
    "# A too general query won't be executed unless you confirm\n",
    "%openad ds search collection 'arXiv abstracts' for 'organ*' show (docs)"
   ]
  },
  {
   "cell_type": "markdown",
   "id": "43ee1342-9026-451c-9784-7e3c6c5991f1",
   "metadata": {},
   "source": [
    "#### Displaying Results\n",
    "\n",
    "Your results table will be displayed with the matching snippets highlighted."
   ]
  },
  {
   "cell_type": "code",
   "execution_count": null,
   "id": "727d010f-fa72-4a6f-83b9-36304fd5b37d",
   "metadata": {
    "scrolled": true,
    "tags": []
   },
   "outputs": [],
   "source": [
    "%openad ds search collection 'arXiv abstracts' for 'ide(\"power conversion efficiency\" OR PCE) AND organ* ' using (slop=5) show (data docs)"
   ]
  },
  {
   "cell_type": "code",
   "execution_count": null,
   "id": "39d4ba12-6bd4-47b6-918f-615cadea8325",
   "metadata": {
    "scrolled": true,
    "tags": []
   },
   "outputs": [],
   "source": [
    "%openad ds search collection 'arXiv abstracts' for 'ide(\"power conversion efficiency\" OR PCE) AND organ* ' using (slop=5) show (data)"
   ]
  },
  {
   "cell_type": "code",
   "execution_count": null,
   "id": "0c4a84c1-32e1-4654-baf5-67b7c111f147",
   "metadata": {
    "scrolled": true,
    "tags": []
   },
   "outputs": [],
   "source": [
    "%openad ds search collection 'arXiv abstracts' for 'ide(\"power conversion efficiency\" OR PCE) AND organ* ' using (slop=5) show (docs)"
   ]
  },
  {
   "cell_type": "markdown",
   "id": "dfd0425b-8491-4602-bc20-39130d31404e",
   "metadata": {},
   "source": [
    "#### Processing Results\n",
    "Alternatively, you can use the `%openadd` magic command to store the results in a dataframe and process them as you wish."
   ]
  },
  {
   "cell_type": "code",
   "execution_count": null,
   "id": "e0f9c437-d474-456d-820d-33e40209351f",
   "metadata": {
    "tags": []
   },
   "outputs": [],
   "source": [
    "arxiv_df = %openadd ds search collection 'arXiv abstracts' for 'ide(\"power conversion efficiency\" OR PCE) AND organ* ' using (slop=5) show (data docs)"
   ]
  },
  {
   "cell_type": "markdown",
   "id": "50a93aa3-62ca-4a1b-8bd7-e95ebba07157",
   "metadata": {},
   "source": [
    "You can still display your data in a next step, but because we store the raw data, highlighting is not available like this.\n",
    "\n",
    "<div class=\"alert alert-info\"><b>Tip</b> By right-clicking the cell's output, you can enable or disable cell scrolling, for the data not to take up your entire notebook.</div>"
   ]
  },
  {
   "cell_type": "code",
   "execution_count": null,
   "id": "77492a5b-ef54-4f6c-aa63-45b0b7e00a2a",
   "metadata": {
    "scrolled": true,
    "tags": []
   },
   "outputs": [],
   "source": [
    "arxiv_df"
   ]
  },
  {
   "cell_type": "markdown",
   "id": "7f4721dc-7a7f-4cf0-a66e-4ab3da2ef206",
   "metadata": {},
   "source": [
    "Now the data is stored in a dataframe, you can process it however you wish."
   ]
  },
  {
   "cell_type": "code",
   "execution_count": null,
   "id": "b1839724-cfd1-4de0-86d4-a5e4a6150145",
   "metadata": {
    "scrolled": true,
    "tags": []
   },
   "outputs": [],
   "source": [
    "# Count results\n",
    "result_count = len(arxiv_df.index)\n",
    "\n",
    "# Create set of all authors\n",
    "authors_column = list(arxiv_df['Authors'])\n",
    "authors = set()\n",
    "for author_group in authors_column:\n",
    "    paper_authors = author_group.split(',')\n",
    "    for a in paper_authors:\n",
    "        authors.add(a.strip())\n",
    "\n",
    "# Sort by last name\n",
    "authors = list(authors)\n",
    "authors_sorted = []\n",
    "for a in authors:\n",
    "    a = a.split(' ')\n",
    "    a = a[-1] + ', ' + ' '.join(a[:-1])\n",
    "    authors_sorted.append(a)\n",
    "authors_sorted.sort()\n",
    "    \n",
    "# Print result\n",
    "title = f'There are {result_count} results by {len(authors_sorted)} authors:'\n",
    "print(title)\n",
    "print(len(title) * '-' + '\\n')\n",
    "for i, a in enumerate(authors_sorted):\n",
    "    print(f'{i:>3}. {a}')"
   ]
  },
  {
   "cell_type": "markdown",
   "id": "597e029f-ddab-4661-9322-92712337f7b4",
   "metadata": {},
   "source": [
    "## Enriching your Molecules with Deep Search Results"
   ]
  },
  {
   "cell_type": "markdown",
   "id": "bf536af6-1c8f-403e-9da0-344d80b25fd4",
   "metadata": {},
   "source": [
    "After running a Deep Search query, you can add the results to the related molecules in your molecule working set.\n",
    "\n",
    "    enrich molecules with analysis\n",
    "\n",
    "Commands that are supported by this functionality:\n",
    "- `ds search for molecules similar to <smiles>`\n",
    "- `search for patents containing molecule <smiles>`"
   ]
  },
  {
   "cell_type": "code",
   "execution_count": null,
   "id": "c204a225-f7a6-4d81-90ac-0499b7cad4c0",
   "metadata": {
    "tags": []
   },
   "outputs": [],
   "source": [
    "# Clear any previously stored results\n",
    "%openad clear analysis cache\n",
    "\n",
    "# Empty your molecule working set\n",
    "%openad clear mols"
   ]
  },
  {
   "cell_type": "code",
   "execution_count": null,
   "id": "3c271222-d951-4a86-9c41-11b746305547",
   "metadata": {
    "tags": []
   },
   "outputs": [],
   "source": [
    "# Run retrosynthesis query (using %openadd to skip the printout)\n",
    "smiles = 'CC(C)(c1ccccn1)C(CC(=O)O)Nc1nc(-c2c[nH]c3ncc(Cl)cc23)c(C#N)cc1F'\n",
    "_ = %openadd ds search for molecules similar to {smiles}\n",
    "\n",
    "# Add the relevant molecule to your molecule working set (MWS)\n",
    "%openad add molecule {smiles}\n",
    "\n",
    "# Enrich the MWS with the RXN result\n",
    "%openad enrich molecules with analysis\n",
    "\n",
    "# Display the molecule to see the result (scroll down to analysis).\n",
    "# From here you can export the molecule to a new file.\n",
    "%openad show molecule {smiles}"
   ]
  }
 ],
 "metadata": {
  "kernelspec": {
   "display_name": "ad-moe",
   "language": "python",
   "name": "ad-moe"
  },
  "language_info": {
   "codemirror_mode": {
    "name": "ipython",
    "version": 3
   },
   "file_extension": ".py",
   "mimetype": "text/x-python",
   "name": "python",
   "nbconvert_exporter": "python",
   "pygments_lexer": "ipython3",
   "version": "3.11.7"
  }
 },
 "nbformat": 4,
 "nbformat_minor": 5
}
