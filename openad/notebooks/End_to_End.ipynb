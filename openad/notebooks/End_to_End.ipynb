{
 "cells": [
  {
   "cell_type": "code",
   "execution_count": 1,
   "id": "684f2227-0d30-4f9f-88b2-08eade6ae0ac",
   "metadata": {
    "tags": []
   },
   "outputs": [],
   "source": [
    "%reload_ext openad.notebooks.styles"
   ]
  },
  {
   "cell_type": "markdown",
   "id": "ccf182de-544f-4552-82f1-e670e3883baa",
   "metadata": {},
   "source": [
    "<!-- Header banner -->\n",
    "<div class=\"banner\"><div>End to End Discovery</div><b>OpenAD <span>Tutorial</span></b></div>"
   ]
  },
  {
   "cell_type": "markdown",
   "id": "e640bc7c-7774-4802-8e92-9599f807eba2",
   "metadata": {},
   "source": [
    "# End to End Accelerated Discovery Short Demonstration"
   ]
  },
  {
   "cell_type": "markdown",
   "id": "bf2d65ac-48fc-43d6-837c-e604b1cafff9",
   "metadata": {
    "tags": []
   },
   "source": [
    "To setup our services we will first catalog the services in our toolkit\n",
    "\n",
    "The first service we will name 'gen' for our generation services then for our Property Prediction services we will catalog our Property services as 'prop'.\n",
    "\n",
    "These two service names will be the Namespace prefix for their respective services.\n",
    "\n",
    "### Catalog our Model Services:\n",
    "\n",
    "***-First lets catalog our generative model  set of functions that include Paccmann,Reinvent, torch Drug and Guacamol services.***\n",
    "\n",
    "Run the followng from your Openad Command line or from a notebook `%openad`\n",
    "\n",
    " `catalog model service from 'git@github.com:acceleratedscience/generation_inference_service.git' as 'gen'`\n",
    " \n",
    "***-Secondly lets catalog the Property Prediction Services.***\n",
    "\n",
    "Run the followng from your Openad Command line or from a notebook `%openad`\n",
    "\n",
    " `catalog model service from 'git@github.com:acceleratedscience/property_inference_service.git' as 'prop'`\n",
    " \n",
    "\n",
    "***To start these two services you can run the following commands:***\n",
    " \n",
    " `model service up  'gen'`\n",
    " \n",
    " `model service up  'prop'`\n"
   ]
  },
  {
   "cell_type": "markdown",
   "id": "4f19fa20-cef5-4c22-aad3-5d7396661ac5",
   "metadata": {
    "jp-MarkdownHeadingCollapsed": true,
    "tags": []
   },
   "source": [
    "## Working with OpenAD Magic Commands\n",
    "\n",
    "When using Magic commands to access the Openad toolkit you have 2 options \n",
    "\n",
    "1. `%openad` provides a simple user interface that provides styled and formatted objects back to the notebook. Tables use pandas Dataframe Styler object. These can be converted back to data frame objects using `.data` on the object or using the in memory assistant which will copy the last result to a file , dataframe or to the dataviewer.\n",
    "  When this is available you will see `Next up, you can run: result open/edit/copy/display/as dataframe/save [as '<filename.csv>']` in the output.\n",
    "  \n",
    "  This magic command is the recommended version to use as it willprovide all warning and results visually.\n",
    "  \n",
    "2. `%openadd` is the second form that allows you to return api style results in dataframe or list formats that can be used programatically for functions or flows in your notebook. This is good for prebuilt notebook process flows."
   ]
  },
  {
   "cell_type": "markdown",
   "id": "8bb4ef70-c10a-4883-82f8-45e14d91d89b",
   "metadata": {
    "execution": {
     "iopub.execute_input": "2024-05-20T09:23:16.006846Z",
     "iopub.status.busy": "2024-05-20T09:23:16.006426Z",
     "iopub.status.idle": "2024-05-20T09:23:16.012783Z",
     "shell.execute_reply": "2024-05-20T09:23:16.012023Z",
     "shell.execute_reply.started": "2024-05-20T09:23:16.006819Z"
    },
    "tags": []
   },
   "source": [
    "# Demonstration:"
   ]
  },
  {
   "cell_type": "markdown",
   "id": "5fa42c6f-6706-48a8-b0aa-8770616d0934",
   "metadata": {},
   "source": [
    "## Generate similar molecules to PFAS molecules with similar soluability and search patents including the generated molecules."
   ]
  },
  {
   "cell_type": "markdown",
   "id": "f54412c2-22e3-4c5f-a3f3-aabf7865130c",
   "metadata": {},
   "source": [
    "### Step 1: Use Deep Search to identify molecules related to PFAS and download their PubChem collection data"
   ]
  },
  {
   "cell_type": "code",
   "execution_count": 14,
   "id": "38b05b24-fd56-4248-af20-af6c6d85198d",
   "metadata": {
    "execution": {
     "iopub.execute_input": "2025-02-05T04:23:05.338347Z",
     "iopub.status.busy": "2025-02-05T04:23:05.338024Z",
     "iopub.status.idle": "2025-02-05T04:23:14.990622Z",
     "shell.execute_reply": "2025-02-05T04:23:14.989330Z",
     "shell.execute_reply.started": "2025-02-05T04:23:05.338319Z"
    },
    "tags": []
   },
   "outputs": [],
   "source": [
    "df = %openadd ds search collection 'PubChem' for 'PFOA OR PFOS OR PFHxS OR PFNA OR HFPO-DA'"
   ]
  },
  {
   "cell_type": "markdown",
   "id": "ec328022-7087-4e02-9a02-147a0610c4db",
   "metadata": {},
   "source": [
    "### Step 2: load molecules into our OpenAD molecule set"
   ]
  },
  {
   "cell_type": "code",
   "execution_count": 15,
   "id": "0ad809f9-90af-460b-9346-bffa51e6d7b4",
   "metadata": {
    "execution": {
     "iopub.execute_input": "2025-02-05T04:23:14.993714Z",
     "iopub.status.busy": "2025-02-05T04:23:14.993314Z",
     "iopub.status.idle": "2025-02-05T04:23:15.043072Z",
     "shell.execute_reply": "2025-02-05T04:23:15.042020Z",
     "shell.execute_reply.started": "2025-02-05T04:23:14.993679Z"
    },
    "tags": []
   },
   "outputs": [
    {
     "data": {
      "text/markdown": [
       "<span style=\"color: #090\">Successfully loaded <span style=\"color: #dc0\">6</span> molecules into the working set</span> <br> \n"
      ],
      "text/plain": [
       "<IPython.core.display.Markdown object>"
      ]
     },
     "metadata": {},
     "output_type": "display_data"
    }
   ],
   "source": [
    "%openad load molecules using dataframe df"
   ]
  },
  {
   "cell_type": "markdown",
   "id": "0c5fe47b-eed9-4766-ac40-6e7e9d681685",
   "metadata": {
    "execution": {
     "iopub.execute_input": "2024-05-13T07:26:03.339697Z",
     "iopub.status.busy": "2024-05-13T07:26:03.339382Z",
     "iopub.status.idle": "2024-05-13T07:26:03.346089Z",
     "shell.execute_reply": "2024-05-13T07:26:03.345276Z",
     "shell.execute_reply.started": "2024-05-13T07:26:03.339670Z"
    },
    "tags": []
   },
   "source": [
    "### Step 3: From the list of molecules generate additional properties not available from Deep Search PubChem COllection and update our molecule set using Openad Model Service"
   ]
  },
  {
   "cell_type": "code",
   "execution_count": 18,
   "id": "8827ef75-1bf6-41d6-84a3-33f58f6b6745",
   "metadata": {
    "execution": {
     "iopub.execute_input": "2025-02-05T04:23:34.408239Z",
     "iopub.status.busy": "2025-02-05T04:23:34.407906Z",
     "iopub.status.idle": "2025-02-05T04:23:38.139266Z",
     "shell.execute_reply": "2025-02-05T04:23:38.138390Z",
     "shell.execute_reply.started": "2025-02-05T04:23:34.408212Z"
    },
    "tags": []
   },
   "outputs": [
    {
     "data": {
      "application/vnd.jupyter.widget-view+json": {
       "model_id": "47c5979b76fa4b97aec6b59928bcc4b5",
       "version_major": 2,
       "version_minor": 0
      },
      "text/plain": [
       "Output()"
      ]
     },
     "metadata": {},
     "output_type": "display_data"
    },
    {
     "data": {
      "text/markdown": [
       "<span style=\"color: #090\">Data merged into your working set</span> <br> \n"
      ],
      "text/plain": [
       "<IPython.core.display.Markdown object>"
      ]
     },
     "metadata": {},
     "output_type": "display_data"
    }
   ],
   "source": [
    "# get list of Smiles molecules\n",
    "a_list = list(set(df[\"SMILES\"].to_list()))\n",
    "\n",
    "# Define list of Delta to be inferred properties\n",
    "properties = [\"is_scaffold\", \"bertz\", \"tpsa\", \"logp\", \"qed\", \"plogp\", \"penalized_logp\", \"lipinski\", \"sas\", \"esol\"]\n",
    "\n",
    "# Generate SMILES properties\n",
    "properties = %openadd prop get molecule property {properties} for  {a_list}\n",
    "%openad merge molecules data using dataframe properties"
   ]
  },
  {
   "cell_type": "markdown",
   "id": "5a6bd729-2a6f-4184-99fe-b1de20f68fd7",
   "metadata": {
    "execution": {
     "iopub.execute_input": "2024-05-13T07:28:42.461718Z",
     "iopub.status.busy": "2024-05-13T07:28:42.461365Z",
     "iopub.status.idle": "2024-05-13T07:28:42.468797Z",
     "shell.execute_reply": "2024-05-13T07:28:42.467947Z",
     "shell.execute_reply.started": "2024-05-13T07:28:42.461687Z"
    },
    "tags": []
   },
   "source": [
    "### Let's Examine the available Molecules"
   ]
  },
  {
   "cell_type": "code",
   "execution_count": 19,
   "id": "41c215e7-e701-4837-84ed-ffc3bbd78c8e",
   "metadata": {
    "execution": {
     "iopub.execute_input": "2025-02-05T04:23:38.143990Z",
     "iopub.status.busy": "2025-02-05T04:23:38.143639Z",
     "iopub.status.idle": "2025-02-05T04:23:38.762606Z",
     "shell.execute_reply": "2025-02-05T04:23:38.761502Z",
     "shell.execute_reply.started": "2025-02-05T04:23:38.143960Z"
    },
    "tags": []
   },
   "outputs": [
    {
     "data": {
      "text/html": [
       "\n",
       "            <style>\n",
       "                #btn-wrap-1738729418 { height:12px; right:20px; display:flex; flex-direction:row-reverse; position:relative }\n",
       "                #btn-wrap-1738729418 a { color:#393939; width:24px; height:24px; padding:4px; box-sizing:border-box; background:white }\n",
       "                #btn-wrap-1738729418 a:hover { color: #0f62fe }\n",
       "            </style>\n",
       "            <div id=\"btn-wrap-1738729418\"><a target=\"_blank\" href=\"http://127.0.0.1:8026/my-mols\"><svg width=\"16\" height=\"16\" viewBox=\"0 0 16 16\" fill=\"none\" xmlns=\"http://www.w3.org/2000/svg\"><path d=\"M13 14H3C2.73489 13.9996 2.48075 13.8942 2.29329 13.7067C2.10583 13.5193 2.00036 13.2651 2 13V3C2.00036 2.73489 2.10583 2.48075 2.29329 2.29329C2.48075 2.10583 2.73489 2.00036 3 2H8V3H3V13H13V8H14V13C13.9996 13.2651 13.8942 13.5193 13.7067 13.7067C13.5193 13.8942 13.2651 13.9996 13 14Z\" fill=\"currentColor\"/><path d=\"M10 1V2H13.293L9 6.293L9.707 7L14 2.707V6H15V1H10Z\" fill=\"currentColor\"/></svg></a><a href=\"#\" onclick=\"event.preventDefault(); document.querySelector('#btn-wrap-1738729418 + iframe').src=document.querySelector('#btn-wrap-1738729418 + iframe').src;\"><svg width=\"16\" height=\"16\" viewBox=\"0 0 16 16\" fill=\"none\" xmlns=\"http://www.w3.org/2000/svg\"><path d=\"M9 14C10.1867 14 11.3467 13.6481 12.3334 12.9888C13.3201 12.3295 14.0892 11.3925 14.5433 10.2961C14.9974 9.19975 15.1162 7.99335 14.8847 6.82946C14.6532 5.66558 14.0818 4.59648 13.2426 3.75736C12.4035 2.91825 11.3344 2.3468 10.1705 2.11529C9.00666 1.88378 7.80026 2.0026 6.7039 2.45673C5.60754 2.91085 4.67047 3.67989 4.01118 4.66658C3.35189 5.65328 3 6.81331 3 8V11.1L1.2 9.3L0.5 10L3.5 13L6.5 10L5.8 9.3L4 11.1V8C4 7.0111 4.29324 6.0444 4.84265 5.22215C5.39206 4.39991 6.17295 3.75904 7.08658 3.38061C8.00021 3.00217 9.00555 2.90315 9.97545 3.09608C10.9454 3.289 11.8363 3.76521 12.5355 4.46447C13.2348 5.16373 13.711 6.05465 13.9039 7.02455C14.0969 7.99446 13.9978 8.99979 13.6194 9.91342C13.241 10.8271 12.6001 11.6079 11.7779 12.1574C10.9556 12.7068 9.98891 13 9 13V14Z\" fill=\"currentColor\"/></svg></a></div><iframe src=\"http://127.0.0.1:8026/headless/my-mols\" crossorigin=\"anonymous\" width=\"100%\" height=\"700\" style=\"border:solid 1px #ddd;box-sizing:border-box;width:calc(100% + 20px)\"></iframe>"
      ],
      "text/plain": [
       "<IPython.core.display.HTML object>"
      ]
     },
     "metadata": {},
     "output_type": "display_data"
    }
   ],
   "source": [
    "%openad show molecules"
   ]
  },
  {
   "cell_type": "code",
   "execution_count": 20,
   "id": "9029b147-99d2-4645-843e-26bf5410ab9e",
   "metadata": {
    "execution": {
     "iopub.execute_input": "2025-02-05T04:23:38.766073Z",
     "iopub.status.busy": "2025-02-05T04:23:38.765743Z",
     "iopub.status.idle": "2025-02-05T04:23:42.406420Z",
     "shell.execute_reply": "2025-02-05T04:23:42.405726Z",
     "shell.execute_reply.started": "2025-02-05T04:23:38.766050Z"
    },
    "tags": []
   },
   "outputs": [
    {
     "data": {
      "application/vnd.jupyter.widget-view+json": {
       "model_id": "1d73d48092ec4b6b963ff6601c60537e",
       "version_major": 2,
       "version_minor": 0
      },
      "text/plain": [
       "Output()"
      ]
     },
     "metadata": {},
     "output_type": "display_data"
    },
    {
     "data": {
      "application/vnd.jupyter.widget-view+json": {
       "model_id": "2401b87ccc984151b1bc5f2be33d3074",
       "version_major": 2,
       "version_minor": 0
      },
      "text/plain": [
       "Output()"
      ]
     },
     "metadata": {},
     "output_type": "display_data"
    },
    {
     "data": {
      "application/3dmoljs_load.v0": "<div id=\"3dmolviewer_1738729422394201\"  style=\"position: relative; width: 700px; height: 500px;\">\n        <p id=\"3dmolwarning_1738729422394201\" style=\"background-color:#ffcccc;color:black\">3Dmol.js failed to load for some reason.  Please check your browser console for error messages.<br></p>\n        </div>\n<script>\n\nvar loadScriptAsync = function(uri){\n  return new Promise((resolve, reject) => {\n    //this is to ignore the existence of requirejs amd\n    var savedexports, savedmodule;\n    if (typeof exports !== 'undefined') savedexports = exports;\n    else exports = {}\n    if (typeof module !== 'undefined') savedmodule = module;\n    else module = {}\n\n    var tag = document.createElement('script');\n    tag.src = uri;\n    tag.async = true;\n    tag.onload = () => {\n        exports = savedexports;\n        module = savedmodule;\n        resolve();\n    };\n  var firstScriptTag = document.getElementsByTagName('script')[0];\n  firstScriptTag.parentNode.insertBefore(tag, firstScriptTag);\n});\n};\n\nif(typeof $3Dmolpromise === 'undefined') {\n$3Dmolpromise = null;\n  $3Dmolpromise = loadScriptAsync('https://cdnjs.cloudflare.com/ajax/libs/3Dmol/2.4.0/3Dmol-min.js');\n}\n\nvar viewer_1738729422394201 = null;\nvar warn = document.getElementById(\"3dmolwarning_1738729422394201\");\nif(warn) {\n    warn.parentNode.removeChild(warn);\n}\n$3Dmolpromise.then(function() {\nviewer_1738729422394201 = $3Dmol.createViewer(document.getElementById(\"3dmolviewer_1738729422394201\"),{backgroundColor:\"white\"});\nviewer_1738729422394201.zoomTo();\n\tviewer_1738729422394201.addModel(\"\\n     RDKit          3D\\n\\n 29 28  0  0  0  0  0  0  0  0999 V2000\\n    3.6513    1.1536    0.1061 C   0  0  0  0  0  0  0  0  0  0  0  0\\n    3.1985    2.0323    0.8254 O   0  0  0  0  0  0  0  0  0  0  0  0\\n    3.1897    0.8171   -1.3022 C   0  0  0  0  0  0  0  0  0  0  0  0\\n    2.2690   -0.3919   -1.2956 C   0  0  0  0  0  0  0  0  0  0  0  0\\n    1.0157   -0.1719   -0.4659 C   0  0  0  0  0  0  0  0  0  0  0  0\\n    0.0429   -1.3282   -0.6105 C   0  0  0  0  0  0  0  0  0  0  0  0\\n   -1.1265   -1.3027    0.3656 C   0  0  0  0  0  0  0  0  0  0  0  0\\n   -1.9985   -0.0646    0.2824 C   0  0  0  0  0  0  0  0  0  0  0  0\\n   -3.2494   -0.2180    1.1190 C   0  0  0  0  0  0  0  0  0  0  0  0\\n   -4.0715    1.0539    1.0478 C   0  0  0  0  0  0  0  0  0  0  0  0\\n   -5.2064    0.9476    1.7832 F   0  0  0  0  0  0  0  0  0  0  0  0\\n   -4.4525    1.3478   -0.2170 F   0  0  0  0  0  0  0  0  0  0  0  0\\n   -3.3997    2.1281    1.5228 F   0  0  0  0  0  0  0  0  0  0  0  0\\n   -2.9242   -0.4957    2.4134 F   0  0  0  0  0  0  0  0  0  0  0  0\\n   -3.9915   -1.2753    0.6839 F   0  0  0  0  0  0  0  0  0  0  0  0\\n   -1.2918    1.0150    0.7108 F   0  0  0  0  0  0  0  0  0  0  0  0\\n   -2.3223    0.1853   -1.0134 F   0  0  0  0  0  0  0  0  0  0  0  0\\n   -1.8879   -2.4140    0.1277 F   0  0  0  0  0  0  0  0  0  0  0  0\\n   -0.6628   -1.4520    1.6393 F   0  0  0  0  0  0  0  0  0  0  0  0\\n   -0.4292   -1.3786   -1.8880 F   0  0  0  0  0  0  0  0  0  0  0  0\\n    0.7103   -2.5081   -0.4244 F   0  0  0  0  0  0  0  0  0  0  0  0\\n    1.3482   -0.0176    0.8431 F   0  0  0  0  0  0  0  0  0  0  0  0\\n    0.4113    0.9835   -0.8445 F   0  0  0  0  0  0  0  0  0  0  0  0\\n    1.9155   -0.6796   -2.5847 F   0  0  0  0  0  0  0  0  0  0  0  0\\n    2.9373   -1.4922   -0.8488 F   0  0  0  0  0  0  0  0  0  0  0  0\\n    4.2599    0.5618   -2.1204 F   0  0  0  0  0  0  0  0  0  0  0  0\\n    2.5517    1.8780   -1.8841 F   0  0  0  0  0  0  0  0  0  0  0  0\\n    4.6491    0.3689    0.5680 O   0  0  0  0  0  0  0  0  0  0  0  0\\n    4.8638    0.7176    1.4609 H   0  0  0  0  0  0  0  0  0  0  0  0\\n  1  2  2  0\\n  1  3  1  0\\n  3  4  1  0\\n  4  5  1  0\\n  5  6  1  0\\n  6  7  1  0\\n  7  8  1  0\\n  8  9  1  0\\n  9 10  1  0\\n 10 11  1  0\\n 10 12  1  0\\n 10 13  1  0\\n  9 14  1  0\\n  9 15  1  0\\n  8 16  1  0\\n  8 17  1  0\\n  7 18  1  0\\n  7 19  1  0\\n  6 20  1  0\\n  6 21  1  0\\n  5 22  1  0\\n  5 23  1  0\\n  4 24  1  0\\n  4 25  1  0\\n  3 26  1  0\\n  3 27  1  0\\n  1 28  1  0\\n 28 29  1  0\\nM  END\\n\",\"mol\");\n\tviewer_1738729422394201.setStyle({\"stick\": {\"model\": -1}});\n\tviewer_1738729422394201.zoomTo();\n\tviewer_1738729422394201.animate({\"loop\": \"forward\"});\nviewer_1738729422394201.render();\n});\n</script>",
      "text/html": [
       "<div id=\"3dmolviewer_1738729422394201\"  style=\"position: relative; width: 700px; height: 500px;\">\n",
       "        <p id=\"3dmolwarning_1738729422394201\" style=\"background-color:#ffcccc;color:black\">3Dmol.js failed to load for some reason.  Please check your browser console for error messages.<br></p>\n",
       "        </div>\n",
       "<script>\n",
       "\n",
       "var loadScriptAsync = function(uri){\n",
       "  return new Promise((resolve, reject) => {\n",
       "    //this is to ignore the existence of requirejs amd\n",
       "    var savedexports, savedmodule;\n",
       "    if (typeof exports !== 'undefined') savedexports = exports;\n",
       "    else exports = {}\n",
       "    if (typeof module !== 'undefined') savedmodule = module;\n",
       "    else module = {}\n",
       "\n",
       "    var tag = document.createElement('script');\n",
       "    tag.src = uri;\n",
       "    tag.async = true;\n",
       "    tag.onload = () => {\n",
       "        exports = savedexports;\n",
       "        module = savedmodule;\n",
       "        resolve();\n",
       "    };\n",
       "  var firstScriptTag = document.getElementsByTagName('script')[0];\n",
       "  firstScriptTag.parentNode.insertBefore(tag, firstScriptTag);\n",
       "});\n",
       "};\n",
       "\n",
       "if(typeof $3Dmolpromise === 'undefined') {\n",
       "$3Dmolpromise = null;\n",
       "  $3Dmolpromise = loadScriptAsync('https://cdnjs.cloudflare.com/ajax/libs/3Dmol/2.4.0/3Dmol-min.js');\n",
       "}\n",
       "\n",
       "var viewer_1738729422394201 = null;\n",
       "var warn = document.getElementById(\"3dmolwarning_1738729422394201\");\n",
       "if(warn) {\n",
       "    warn.parentNode.removeChild(warn);\n",
       "}\n",
       "$3Dmolpromise.then(function() {\n",
       "viewer_1738729422394201 = $3Dmol.createViewer(document.getElementById(\"3dmolviewer_1738729422394201\"),{backgroundColor:\"white\"});\n",
       "viewer_1738729422394201.zoomTo();\n",
       "\tviewer_1738729422394201.addModel(\"\\n     RDKit          3D\\n\\n 29 28  0  0  0  0  0  0  0  0999 V2000\\n    3.6513    1.1536    0.1061 C   0  0  0  0  0  0  0  0  0  0  0  0\\n    3.1985    2.0323    0.8254 O   0  0  0  0  0  0  0  0  0  0  0  0\\n    3.1897    0.8171   -1.3022 C   0  0  0  0  0  0  0  0  0  0  0  0\\n    2.2690   -0.3919   -1.2956 C   0  0  0  0  0  0  0  0  0  0  0  0\\n    1.0157   -0.1719   -0.4659 C   0  0  0  0  0  0  0  0  0  0  0  0\\n    0.0429   -1.3282   -0.6105 C   0  0  0  0  0  0  0  0  0  0  0  0\\n   -1.1265   -1.3027    0.3656 C   0  0  0  0  0  0  0  0  0  0  0  0\\n   -1.9985   -0.0646    0.2824 C   0  0  0  0  0  0  0  0  0  0  0  0\\n   -3.2494   -0.2180    1.1190 C   0  0  0  0  0  0  0  0  0  0  0  0\\n   -4.0715    1.0539    1.0478 C   0  0  0  0  0  0  0  0  0  0  0  0\\n   -5.2064    0.9476    1.7832 F   0  0  0  0  0  0  0  0  0  0  0  0\\n   -4.4525    1.3478   -0.2170 F   0  0  0  0  0  0  0  0  0  0  0  0\\n   -3.3997    2.1281    1.5228 F   0  0  0  0  0  0  0  0  0  0  0  0\\n   -2.9242   -0.4957    2.4134 F   0  0  0  0  0  0  0  0  0  0  0  0\\n   -3.9915   -1.2753    0.6839 F   0  0  0  0  0  0  0  0  0  0  0  0\\n   -1.2918    1.0150    0.7108 F   0  0  0  0  0  0  0  0  0  0  0  0\\n   -2.3223    0.1853   -1.0134 F   0  0  0  0  0  0  0  0  0  0  0  0\\n   -1.8879   -2.4140    0.1277 F   0  0  0  0  0  0  0  0  0  0  0  0\\n   -0.6628   -1.4520    1.6393 F   0  0  0  0  0  0  0  0  0  0  0  0\\n   -0.4292   -1.3786   -1.8880 F   0  0  0  0  0  0  0  0  0  0  0  0\\n    0.7103   -2.5081   -0.4244 F   0  0  0  0  0  0  0  0  0  0  0  0\\n    1.3482   -0.0176    0.8431 F   0  0  0  0  0  0  0  0  0  0  0  0\\n    0.4113    0.9835   -0.8445 F   0  0  0  0  0  0  0  0  0  0  0  0\\n    1.9155   -0.6796   -2.5847 F   0  0  0  0  0  0  0  0  0  0  0  0\\n    2.9373   -1.4922   -0.8488 F   0  0  0  0  0  0  0  0  0  0  0  0\\n    4.2599    0.5618   -2.1204 F   0  0  0  0  0  0  0  0  0  0  0  0\\n    2.5517    1.8780   -1.8841 F   0  0  0  0  0  0  0  0  0  0  0  0\\n    4.6491    0.3689    0.5680 O   0  0  0  0  0  0  0  0  0  0  0  0\\n    4.8638    0.7176    1.4609 H   0  0  0  0  0  0  0  0  0  0  0  0\\n  1  2  2  0\\n  1  3  1  0\\n  3  4  1  0\\n  4  5  1  0\\n  5  6  1  0\\n  6  7  1  0\\n  7  8  1  0\\n  8  9  1  0\\n  9 10  1  0\\n 10 11  1  0\\n 10 12  1  0\\n 10 13  1  0\\n  9 14  1  0\\n  9 15  1  0\\n  8 16  1  0\\n  8 17  1  0\\n  7 18  1  0\\n  7 19  1  0\\n  6 20  1  0\\n  6 21  1  0\\n  5 22  1  0\\n  5 23  1  0\\n  4 24  1  0\\n  4 25  1  0\\n  3 26  1  0\\n  3 27  1  0\\n  1 28  1  0\\n 28 29  1  0\\nM  END\\n\",\"mol\");\n",
       "\tviewer_1738729422394201.setStyle({\"stick\": {\"model\": -1}});\n",
       "\tviewer_1738729422394201.zoomTo();\n",
       "\tviewer_1738729422394201.animate({\"loop\": \"forward\"});\n",
       "viewer_1738729422394201.render();\n",
       "});\n",
       "</script>"
      ]
     },
     "metadata": {},
     "output_type": "display_data"
    },
    {
     "data": {
      "text/html": [
       "<pre><h1>Perfluorononanoic acid</h1><br><span style=color:#00AAAA;white-space=pre>name:</span> Perfluorononanoic acid<br><span style=color:#00AAAA;white-space=pre>inchi:</span> InChI=1S/C9HF17O2/c10-2(11,1(27)28)3(12,13)4(14,15)5(16,17)6(18,19)7(20,21)8(22,23)9(24,25)26/h(H,27,28)<br><span style=color:#00AAAA;white-space=pre>inchikey:</span> UZUFPBIDKMEQEQ-UHFFFAOYSA-N<br><span style=color:#00AAAA;white-space=pre>canonical_smiles:</span> C(=O)(C(C(C(C(C(C(C(C(F)(F)F)(F)F)(F)F)(F)F)(F)F)(F)F)(F)F)(F)F)O<br><span style=color:#00AAAA;white-space=pre>isomeric_smiles:</span> C(=O)(C(C(C(C(C(C(C(C(F)(F)F)(F)F)(F)F)(F)F)(F)F)(F)F)(F)F)(F)F)O<br><span style=color:#00AAAA;white-space=pre>molecular_formula:</span> C9HF17O2<br><span style=color:#00AAAA;white-space=pre>cid:</span> 67821<br><br><h1>Synonyms:</h1><br><span style=color:#cccccc;white-space=pre>This list is truncated. To view all synonyms, run <cmd>@Perfluorononanoic acid>>synonyms</cmd></span><br><br>Perfluorononanoic acid                  375-95-1                                heptadecafluorononanoic acid            <br>Perfluoro-n-nonanoic acid               PFNA                                    2,2,3,3,4,4,5,5,6,6,7,7,8,8,9,9,9-H...  <br>Nonanoic acid, heptadecafluoro-         Perfluorononan-1-oic acid               PERFLUORONONANOICACID                   <br>Heptadecafluoropelargonic Acid          Perfluornonansaeure                     Heptadecafluornonansaeure               <br>Heptadekafluornonansaeure               DTXSID8031863                           CHEBI:38397                             <br>5830Z6S63M                              PFC; PFNA                               Perfluorononanoic acid 100 microg/m...  <br>NSC676910                               EINECS 206-801-3                        UNII-5830Z6S63M                         <br>HSDB 8040                               perflurononanoic acid                   MFCD00039605                            <br>Perfluoropelargonic Acid                C8F17COOH                               SCHEMBL23557                            <br>n-Heptadecafluorononanoic acid          Perfluorononanoic acid, 97%             Perfluorononanoic acid (PFNA)           <br><span style=color:#cccccc;white-space=pre>...</span>                                     <span style=color:#cccccc;white-space=pre>...</span>                                     <span style=color:#cccccc;white-space=pre>...</span>                                     <br><br><h1>Properties:</h1><br><span style=color:#00AAAA;white-space=pre>atom_stereo_count:</span><span style=color:#cccccc;white-space=pre>.................</span>0    <span style=color:#00AAAA;white-space=pre>exact_mass:</span><span style=color:#cccccc;white-space=pre>..............</span>463.9705080    <span style=color:#00AAAA;white-space=pre>monoisotopic_mass:</span><span style=color:#cccccc;white-space=pre>.......</span>463.9705080    <br><span style=color:#00AAAA;white-space=pre>bond_stereo_count:</span><span style=color:#cccccc;white-space=pre>.................</span>0    <span style=color:#cccccc;white-space=pre>feature_selfoverlap_3d:</span><span style=color:#cccccc;white-space=pre>............</span><span style=color:#cccccc;white-space=pre>-</span>    <span style=color:#cccccc;white-space=pre>multipoles_3d:</span><span style=color:#cccccc;white-space=pre>.....................</span><span style=color:#cccccc;white-space=pre>-</span>    <br><span style=color:#00AAAA;white-space=pre>charge:</span><span style=color:#cccccc;white-space=pre>............................</span>0    <span style=color:#00AAAA;white-space=pre>h_bond_acceptor_count:</span><span style=color:#cccccc;white-space=pre>............</span>19    <span style=color:#cccccc;white-space=pre>pharmacophore_features_3d:</span><span style=color:#cccccc;white-space=pre>.........</span><span style=color:#cccccc;white-space=pre>-</span>    <br><span style=color:#00AAAA;white-space=pre>complexity:</span><span style=color:#cccccc;white-space=pre>......................</span>615    <span style=color:#00AAAA;white-space=pre>h_bond_donor_count:</span><span style=color:#cccccc;white-space=pre>................</span>1    <span style=color:#00AAAA;white-space=pre>rotatable_bond_count:</span><span style=color:#cccccc;white-space=pre>..............</span>7    <br><span style=color:#cccccc;white-space=pre>conformer_id_3d:</span><span style=color:#cccccc;white-space=pre>...................</span><span style=color:#cccccc;white-space=pre>-</span>    <span style=color:#00AAAA;white-space=pre>heavy_atom_count:</span><span style=color:#cccccc;white-space=pre>.................</span>28    <span style=color:#cccccc;white-space=pre>shape_fingerprint_3d:</span><span style=color:#cccccc;white-space=pre>..............</span><span style=color:#cccccc;white-space=pre>-</span>    <br><span style=color:#cccccc;white-space=pre>conformer_rmsd_3d:</span><span style=color:#cccccc;white-space=pre>.................</span><span style=color:#cccccc;white-space=pre>-</span>    <span style=color:#00AAAA;white-space=pre>isotope_atom_count:</span><span style=color:#cccccc;white-space=pre>................</span>0    <span style=color:#cccccc;white-space=pre>shape_selfoverlap_3d:</span><span style=color:#cccccc;white-space=pre>..............</span><span style=color:#cccccc;white-space=pre>-</span>    <br><span style=color:#00AAAA;white-space=pre>coordinate_type:</span><span style=color:#cccccc;white-space=pre>..................</span>2d    <span style=color:#00AAAA;white-space=pre>iupac_name</span>:<span style=color:#cccccc;white-space=pre>.........................</span>    <span style=color:#00AAAA;white-space=pre>tpsa:</span><span style=color:#cccccc;white-space=pre>...........................</span>37.3    <br><span style=color:#00AAAA;white-space=pre>covalent_unit_count:</span><span style=color:#cccccc;white-space=pre>...............</span>1    <span style=color:#cccccc;white-space=pre></span>2,2,3,3,4,4,5,5,6,6,7,7,8,8,9,9,9...    <span style=color:#00AAAA;white-space=pre>undefined_atom_stereo_count:</span><span style=color:#cccccc;white-space=pre>.......</span>0    <br><span style=color:#00AAAA;white-space=pre>defined_atom_stereo_count:</span><span style=color:#cccccc;white-space=pre>.........</span>0    <span style=color:#cccccc;white-space=pre>mmff94_energy_3d:</span><span style=color:#cccccc;white-space=pre>..................</span><span style=color:#cccccc;white-space=pre>-</span>    <span style=color:#00AAAA;white-space=pre>undefined_bond_stereo_count:</span><span style=color:#cccccc;white-space=pre>.......</span>0    <br><span style=color:#00AAAA;white-space=pre>defined_bond_stereo_count:</span><span style=color:#cccccc;white-space=pre>.........</span>0    <span style=color:#cccccc;white-space=pre>mmff94_partial_charges_3d:</span><span style=color:#cccccc;white-space=pre>.........</span><span style=color:#cccccc;white-space=pre>-</span>    <span style=color:#cccccc;white-space=pre>volume_3d:</span><span style=color:#cccccc;white-space=pre>.........................</span><span style=color:#cccccc;white-space=pre>-</span>    <br><span style=color:#cccccc;white-space=pre>effective_rotor_count_3d:</span><span style=color:#cccccc;white-space=pre>..........</span><span style=color:#cccccc;white-space=pre>-</span>    <span style=color:#00AAAA;white-space=pre>molecular_weight:</span><span style=color:#cccccc;white-space=pre>.............</span>464.08    <span style=color:#00AAAA;white-space=pre>xlogp:</span><span style=color:#cccccc;white-space=pre>...........................</span>5.6    <br></pre>"
      ],
      "text/plain": [
       "<IPython.core.display.HTML object>"
      ]
     },
     "metadata": {},
     "output_type": "display_data"
    }
   ],
   "source": [
    "%openad display molecule 'Perfluorononanoic acid'"
   ]
  },
  {
   "cell_type": "markdown",
   "id": "7d3960d0-219f-405b-b8d4-95ec5a8b87a6",
   "metadata": {},
   "source": [
    "### Step 4: For each of the molecules use Regression Transformer to to generate similar molecules with similar soluability"
   ]
  },
  {
   "cell_type": "code",
   "execution_count": 21,
   "id": "da7a67ce-522f-4553-83d4-664c4dc5a75b",
   "metadata": {
    "execution": {
     "iopub.execute_input": "2025-02-05T04:23:42.407815Z",
     "iopub.status.busy": "2025-02-05T04:23:42.407503Z",
     "iopub.status.idle": "2025-02-05T04:24:30.744447Z",
     "shell.execute_reply": "2025-02-05T04:24:30.743528Z",
     "shell.execute_reply.started": "2025-02-05T04:23:42.407791Z"
    },
    "tags": []
   },
   "outputs": [
    {
     "name": "stdout",
     "output_type": "stream",
     "text": [
      "Generating Molecules for O=C(O)C(F)(F)C(F)(F)C(F)(F)C(F)(F)C(F)(F)C(F)(F)C(F)(F)C(F)(F)F with soluability:-6.5519409880260815\n"
     ]
    },
    {
     "data": {
      "application/vnd.jupyter.widget-view+json": {
       "model_id": "df50fa27584b4a1a85632a741e67a773",
       "version_major": 2,
       "version_minor": 0
      },
      "text/plain": [
       "Output()"
      ]
     },
     "metadata": {},
     "output_type": "display_data"
    },
    {
     "data": {
      "text/html": [
       "<div>\n",
       "<style scoped>\n",
       "    .dataframe tbody tr th:only-of-type {\n",
       "        vertical-align: middle;\n",
       "    }\n",
       "\n",
       "    .dataframe tbody tr th {\n",
       "        vertical-align: top;\n",
       "    }\n",
       "\n",
       "    .dataframe thead th {\n",
       "        text-align: right;\n",
       "    }\n",
       "</style>\n",
       "<table border=\"1\" class=\"dataframe\">\n",
       "  <thead>\n",
       "    <tr style=\"text-align: right;\">\n",
       "      <th></th>\n",
       "      <th>0</th>\n",
       "      <th>1</th>\n",
       "    </tr>\n",
       "  </thead>\n",
       "  <tbody>\n",
       "    <tr>\n",
       "      <th>0</th>\n",
       "      <td>FC(O)C(F)(F)C(F)(F)C(F)(F)C(F)(F)C(F)(F)C(F)(F)C(F)(F)C(F)(F)F</td>\n",
       "      <td>&lt;esol&gt;-6.8935</td>\n",
       "    </tr>\n",
       "    <tr>\n",
       "      <th>1</th>\n",
       "      <td>O=C(O)C(F)(F)C(F)(F)C(F)(F)C(F)(F)C(F)(F)C(F)(F)C(F)(F)C(O)(F)F</td>\n",
       "      <td>&lt;esol&gt;-6.852</td>\n",
       "    </tr>\n",
       "    <tr>\n",
       "      <th>2</th>\n",
       "      <td>O=C(O)C(F)(F)C(F)(F)C(F)(F)C(F)(F)C(F)(F)C(F)(F)C(F)(F)C(N)(F)F</td>\n",
       "      <td>&lt;esol&gt;-6.852</td>\n",
       "    </tr>\n",
       "    <tr>\n",
       "      <th>3</th>\n",
       "      <td>N=C(O)C(F)(F)C(F)(F)C(F)(F)C(F)(F)C(F)(F)C(F)(F)C(Cl)(F)C(F)(F)F</td>\n",
       "      <td>&lt;esol&gt;-6.852</td>\n",
       "    </tr>\n",
       "    <tr>\n",
       "      <th>4</th>\n",
       "      <td>O=C(O)C(F)(F)C(F)(F)C(F)(F)C(F)(F)C(F)(F)C(F)(F)C(F)(F)C(F)(F)Cl</td>\n",
       "      <td>&lt;esol&gt;-6.852</td>\n",
       "    </tr>\n",
       "    <tr>\n",
       "      <th>5</th>\n",
       "      <td>O=C(O)C(F)(F)C(F)(F)C(F)(F)C(F)(F)C(F)(F)C(F)(F)C(O)(F)C(F)(F)F</td>\n",
       "      <td>&lt;esol&gt;-6.852</td>\n",
       "    </tr>\n",
       "    <tr>\n",
       "      <th>6</th>\n",
       "      <td>O=C(O)C(F)(F)C(F)(F)C(F)(F)C(F)(F)C(F)(F)C(F)(F)C(F)(F)C(F)(F)N</td>\n",
       "      <td>&lt;esol&gt;-6.852</td>\n",
       "    </tr>\n",
       "    <tr>\n",
       "      <th>7</th>\n",
       "      <td>O=C(O)C(F)(F)C(F)(F)C(F)(F)C(F)(F)C(F)(F)C(F)(F)CF</td>\n",
       "      <td>&lt;esol&gt;-6.852</td>\n",
       "    </tr>\n",
       "    <tr>\n",
       "      <th>8</th>\n",
       "      <td>O=C(O)C(F)(F)C(F)(F)P(F)(F)C(F)(F)C(F)(F)C(F)(F)C(F)(F)C(F)(F)F</td>\n",
       "      <td>&lt;esol&gt;-6.852</td>\n",
       "    </tr>\n",
       "    <tr>\n",
       "      <th>9</th>\n",
       "      <td>O=C(O)C(F)(F)C(F)(F)C(F)(F)C(F)(F)C(Br)(F)C(F)(F)C(F)(F)C(F)(F)F</td>\n",
       "      <td>&lt;esol&gt;-6.852</td>\n",
       "    </tr>\n",
       "  </tbody>\n",
       "</table>\n",
       "</div>"
      ],
      "text/plain": [
       "                                                                  0  \\\n",
       "0    FC(O)C(F)(F)C(F)(F)C(F)(F)C(F)(F)C(F)(F)C(F)(F)C(F)(F)C(F)(F)F   \n",
       "1   O=C(O)C(F)(F)C(F)(F)C(F)(F)C(F)(F)C(F)(F)C(F)(F)C(F)(F)C(O)(F)F   \n",
       "2   O=C(O)C(F)(F)C(F)(F)C(F)(F)C(F)(F)C(F)(F)C(F)(F)C(F)(F)C(N)(F)F   \n",
       "3  N=C(O)C(F)(F)C(F)(F)C(F)(F)C(F)(F)C(F)(F)C(F)(F)C(Cl)(F)C(F)(F)F   \n",
       "4  O=C(O)C(F)(F)C(F)(F)C(F)(F)C(F)(F)C(F)(F)C(F)(F)C(F)(F)C(F)(F)Cl   \n",
       "5   O=C(O)C(F)(F)C(F)(F)C(F)(F)C(F)(F)C(F)(F)C(F)(F)C(O)(F)C(F)(F)F   \n",
       "6   O=C(O)C(F)(F)C(F)(F)C(F)(F)C(F)(F)C(F)(F)C(F)(F)C(F)(F)C(F)(F)N   \n",
       "7                O=C(O)C(F)(F)C(F)(F)C(F)(F)C(F)(F)C(F)(F)C(F)(F)CF   \n",
       "8   O=C(O)C(F)(F)C(F)(F)P(F)(F)C(F)(F)C(F)(F)C(F)(F)C(F)(F)C(F)(F)F   \n",
       "9  O=C(O)C(F)(F)C(F)(F)C(F)(F)C(F)(F)C(Br)(F)C(F)(F)C(F)(F)C(F)(F)F   \n",
       "\n",
       "               1  \n",
       "0  <esol>-6.8935  \n",
       "1   <esol>-6.852  \n",
       "2   <esol>-6.852  \n",
       "3   <esol>-6.852  \n",
       "4   <esol>-6.852  \n",
       "5   <esol>-6.852  \n",
       "6   <esol>-6.852  \n",
       "7   <esol>-6.852  \n",
       "8   <esol>-6.852  \n",
       "9   <esol>-6.852  "
      ]
     },
     "metadata": {},
     "output_type": "display_data"
    },
    {
     "name": "stdout",
     "output_type": "stream",
     "text": [
      "Generating Molecules for O=C(O)C(F)(F)C(F)(F)C(F)(F)C(F)(F)C(F)(F)C(F)(F)C(F)(F)F with soluability:-5.7534665357831125\n"
     ]
    },
    {
     "data": {
      "application/vnd.jupyter.widget-view+json": {
       "model_id": "426ec92ed5804088886139232e1f2689",
       "version_major": 2,
       "version_minor": 0
      },
      "text/plain": [
       "Output()"
      ]
     },
     "metadata": {},
     "output_type": "display_data"
    },
    {
     "data": {
      "text/html": [
       "<div>\n",
       "<style scoped>\n",
       "    .dataframe tbody tr th:only-of-type {\n",
       "        vertical-align: middle;\n",
       "    }\n",
       "\n",
       "    .dataframe tbody tr th {\n",
       "        vertical-align: top;\n",
       "    }\n",
       "\n",
       "    .dataframe thead th {\n",
       "        text-align: right;\n",
       "    }\n",
       "</style>\n",
       "<table border=\"1\" class=\"dataframe\">\n",
       "  <thead>\n",
       "    <tr style=\"text-align: right;\">\n",
       "      <th></th>\n",
       "      <th>0</th>\n",
       "      <th>1</th>\n",
       "    </tr>\n",
       "  </thead>\n",
       "  <tbody>\n",
       "    <tr>\n",
       "      <th>0</th>\n",
       "      <td>OC(O)C(F)(F)C(F)(F)C(F)(O)C(F)(F)C(F)(F)C(F)(F)C(F)(F)F</td>\n",
       "      <td>&lt;esol&gt;-5.4681</td>\n",
       "    </tr>\n",
       "    <tr>\n",
       "      <th>1</th>\n",
       "      <td>ON(O)C(F)(F)C(F)(F)C(F)(C)C(F)(F)C(F)(F)C(F)(F)C(F)(F)F</td>\n",
       "      <td>&lt;esol&gt;-6.852</td>\n",
       "    </tr>\n",
       "    <tr>\n",
       "      <th>2</th>\n",
       "      <td>OC(O)C(F)(F)C(F)(F)C(F)(F)C(F)(F)C(F)(F)C(F)(F)C(F)(F)F</td>\n",
       "      <td>&lt;esol&gt;-6.852</td>\n",
       "    </tr>\n",
       "    <tr>\n",
       "      <th>3</th>\n",
       "      <td>ON(O)C(F)(F)C(F)(F)C(F)(F)C(F)(F)C(F)(F)C(F)(F)C(F)(F)F</td>\n",
       "      <td>&lt;esol&gt;-6.852</td>\n",
       "    </tr>\n",
       "    <tr>\n",
       "      <th>4</th>\n",
       "      <td>OP(O)C(F)(F)C(F)(F)C(F)(F)C(F)(F)C(F)(F)F</td>\n",
       "      <td>&lt;esol&gt;-6.852</td>\n",
       "    </tr>\n",
       "    <tr>\n",
       "      <th>5</th>\n",
       "      <td>O=C(O)C(F)(F)C(F)(F)C(F)(F)C(F)(F)C(F)(F)C(F)(F)C(F)(F)I</td>\n",
       "      <td>&lt;esol&gt;-6.852</td>\n",
       "    </tr>\n",
       "    <tr>\n",
       "      <th>6</th>\n",
       "      <td>O=C(O)C(F)(F)C(F)(F)C(F)(F)C(O)(F)C(F)(F)C(F)(F)C(F)(F)F</td>\n",
       "      <td>&lt;esol&gt;-5.4681</td>\n",
       "    </tr>\n",
       "    <tr>\n",
       "      <th>7</th>\n",
       "      <td>O=C(O)C(F)(F)C(F)(F)C(F)(F)C(F)(O)C(F)(F)C(F)(F)C(F)(F)F</td>\n",
       "      <td>&lt;esol&gt;-5.4681</td>\n",
       "    </tr>\n",
       "    <tr>\n",
       "      <th>8</th>\n",
       "      <td>O=C(O)C(F)(F)C(F)(F)P(F)(F)C(F)(O)C(F)(F)C(F)(F)C(F)(F)F</td>\n",
       "      <td>&lt;esol&gt;-5.4681</td>\n",
       "    </tr>\n",
       "    <tr>\n",
       "      <th>9</th>\n",
       "      <td>O=C(O)S(F)(F)C(F)(F)C(F)(F)C(F)(F)C(F)(F)C(F)(F)C(F)(F)F</td>\n",
       "      <td>&lt;esol&gt;-5.5096</td>\n",
       "    </tr>\n",
       "  </tbody>\n",
       "</table>\n",
       "</div>"
      ],
      "text/plain": [
       "                                                          0              1\n",
       "0   OC(O)C(F)(F)C(F)(F)C(F)(O)C(F)(F)C(F)(F)C(F)(F)C(F)(F)F  <esol>-5.4681\n",
       "1   ON(O)C(F)(F)C(F)(F)C(F)(C)C(F)(F)C(F)(F)C(F)(F)C(F)(F)F   <esol>-6.852\n",
       "2   OC(O)C(F)(F)C(F)(F)C(F)(F)C(F)(F)C(F)(F)C(F)(F)C(F)(F)F   <esol>-6.852\n",
       "3   ON(O)C(F)(F)C(F)(F)C(F)(F)C(F)(F)C(F)(F)C(F)(F)C(F)(F)F   <esol>-6.852\n",
       "4                 OP(O)C(F)(F)C(F)(F)C(F)(F)C(F)(F)C(F)(F)F   <esol>-6.852\n",
       "5  O=C(O)C(F)(F)C(F)(F)C(F)(F)C(F)(F)C(F)(F)C(F)(F)C(F)(F)I   <esol>-6.852\n",
       "6  O=C(O)C(F)(F)C(F)(F)C(F)(F)C(O)(F)C(F)(F)C(F)(F)C(F)(F)F  <esol>-5.4681\n",
       "7  O=C(O)C(F)(F)C(F)(F)C(F)(F)C(F)(O)C(F)(F)C(F)(F)C(F)(F)F  <esol>-5.4681\n",
       "8  O=C(O)C(F)(F)C(F)(F)P(F)(F)C(F)(O)C(F)(F)C(F)(F)C(F)(F)F  <esol>-5.4681\n",
       "9  O=C(O)S(F)(F)C(F)(F)C(F)(F)C(F)(F)C(F)(F)C(F)(F)C(F)(F)F  <esol>-5.5096"
      ]
     },
     "metadata": {},
     "output_type": "display_data"
    },
    {
     "name": "stdout",
     "output_type": "stream",
     "text": [
      "Generating Molecules for O=C(O)C(F)(OC(F)(F)C(F)(F)C(F)(F)F)C(F)(F)F with soluability:-4.211602675454153\n"
     ]
    },
    {
     "data": {
      "application/vnd.jupyter.widget-view+json": {
       "model_id": "0abe5f1e96bb4f3e8c48c8533882f865",
       "version_major": 2,
       "version_minor": 0
      },
      "text/plain": [
       "Output()"
      ]
     },
     "metadata": {},
     "output_type": "display_data"
    },
    {
     "data": {
      "text/html": [
       "<div>\n",
       "<style scoped>\n",
       "    .dataframe tbody tr th:only-of-type {\n",
       "        vertical-align: middle;\n",
       "    }\n",
       "\n",
       "    .dataframe tbody tr th {\n",
       "        vertical-align: top;\n",
       "    }\n",
       "\n",
       "    .dataframe thead th {\n",
       "        text-align: right;\n",
       "    }\n",
       "</style>\n",
       "<table border=\"1\" class=\"dataframe\">\n",
       "  <thead>\n",
       "    <tr style=\"text-align: right;\">\n",
       "      <th></th>\n",
       "      <th>0</th>\n",
       "      <th>1</th>\n",
       "    </tr>\n",
       "  </thead>\n",
       "  <tbody>\n",
       "    <tr>\n",
       "      <th>0</th>\n",
       "      <td>O=C(O)C(F)(OC(F)(F)C(F)(F)C(F)(F)F)C(F)(F)C</td>\n",
       "      <td>&lt;esol&gt;-5.4819</td>\n",
       "    </tr>\n",
       "    <tr>\n",
       "      <th>1</th>\n",
       "      <td>O=C(O)C(F)(OC(F)(F)C(F)(F)C(F)(F)F)C(F)(F)Cl</td>\n",
       "      <td>&lt;esol&gt;-5.4681</td>\n",
       "    </tr>\n",
       "    <tr>\n",
       "      <th>2</th>\n",
       "      <td>O=C(O)C(F)(OC(F)(F)C(F)(F)C(F)(F)F)C(O)(F)F</td>\n",
       "      <td>&lt;esol&gt;-5.4681</td>\n",
       "    </tr>\n",
       "    <tr>\n",
       "      <th>3</th>\n",
       "      <td>O=C(O)C(F)(OC(F)(F)C(F)(F)C(F)(F)F)C(F)(F)Br</td>\n",
       "      <td>&lt;esol&gt;-5.4681</td>\n",
       "    </tr>\n",
       "    <tr>\n",
       "      <th>4</th>\n",
       "      <td>O=C(O)C(F)(OC(F)(F)C(F)(F)C(F)(F)F)C(N)(F)F</td>\n",
       "      <td>&lt;esol&gt;-5.4681</td>\n",
       "    </tr>\n",
       "    <tr>\n",
       "      <th>5</th>\n",
       "      <td>OC(O)C(F)(OC(F)(F)C(F)(F)C(F)(O)F)C(F)(F)F</td>\n",
       "      <td>&lt;esol&gt;-5.4681</td>\n",
       "    </tr>\n",
       "    <tr>\n",
       "      <th>6</th>\n",
       "      <td>OC(O)C(F)(OC(F)(F)C(F)(F)C(F)(F)F)C(F)(F)F</td>\n",
       "      <td>&lt;esol&gt;-5.4681</td>\n",
       "    </tr>\n",
       "    <tr>\n",
       "      <th>7</th>\n",
       "      <td>O=C(O)C(F)(OC(F)(Cl)C(F)(F)C(F)(F)F)C(F)(F)F</td>\n",
       "      <td>&lt;esol&gt;-5.4681</td>\n",
       "    </tr>\n",
       "    <tr>\n",
       "      <th>8</th>\n",
       "      <td>O=C(O)C(F)(OC(F)(O)C(F)(F)C(F)(F)F)C(F)(F)F</td>\n",
       "      <td>&lt;esol&gt;-5.4681</td>\n",
       "    </tr>\n",
       "    <tr>\n",
       "      <th>9</th>\n",
       "      <td>O=C(O)C(F)(OC(F)(F)C(F)(F)C(F)(F)F)C(F)(Cl)F</td>\n",
       "      <td>&lt;esol&gt;-5.4681</td>\n",
       "    </tr>\n",
       "  </tbody>\n",
       "</table>\n",
       "</div>"
      ],
      "text/plain": [
       "                                              0              1\n",
       "0   O=C(O)C(F)(OC(F)(F)C(F)(F)C(F)(F)F)C(F)(F)C  <esol>-5.4819\n",
       "1  O=C(O)C(F)(OC(F)(F)C(F)(F)C(F)(F)F)C(F)(F)Cl  <esol>-5.4681\n",
       "2   O=C(O)C(F)(OC(F)(F)C(F)(F)C(F)(F)F)C(O)(F)F  <esol>-5.4681\n",
       "3  O=C(O)C(F)(OC(F)(F)C(F)(F)C(F)(F)F)C(F)(F)Br  <esol>-5.4681\n",
       "4   O=C(O)C(F)(OC(F)(F)C(F)(F)C(F)(F)F)C(N)(F)F  <esol>-5.4681\n",
       "5    OC(O)C(F)(OC(F)(F)C(F)(F)C(F)(O)F)C(F)(F)F  <esol>-5.4681\n",
       "6    OC(O)C(F)(OC(F)(F)C(F)(F)C(F)(F)F)C(F)(F)F  <esol>-5.4681\n",
       "7  O=C(O)C(F)(OC(F)(Cl)C(F)(F)C(F)(F)F)C(F)(F)F  <esol>-5.4681\n",
       "8   O=C(O)C(F)(OC(F)(O)C(F)(F)C(F)(F)F)C(F)(F)F  <esol>-5.4681\n",
       "9  O=C(O)C(F)(OC(F)(F)C(F)(F)C(F)(F)F)C(F)(Cl)F  <esol>-5.4681"
      ]
     },
     "metadata": {},
     "output_type": "display_data"
    },
    {
     "name": "stdout",
     "output_type": "stream",
     "text": [
      "Generating Molecules for O=S(=O)(O)C(F)(F)C(F)(F)C(F)(F)C(F)(F)C(F)(F)C(F)(F)C(F)(F)C(F)(F)F with soluability:-6.612922026752669\n"
     ]
    },
    {
     "data": {
      "application/vnd.jupyter.widget-view+json": {
       "model_id": "0c34b34aa90640ffafaa8b895a17e613",
       "version_major": 2,
       "version_minor": 0
      },
      "text/plain": [
       "Output()"
      ]
     },
     "metadata": {},
     "output_type": "display_data"
    },
    {
     "data": {
      "text/html": [
       "<div>\n",
       "<style scoped>\n",
       "    .dataframe tbody tr th:only-of-type {\n",
       "        vertical-align: middle;\n",
       "    }\n",
       "\n",
       "    .dataframe tbody tr th {\n",
       "        vertical-align: top;\n",
       "    }\n",
       "\n",
       "    .dataframe thead th {\n",
       "        text-align: right;\n",
       "    }\n",
       "</style>\n",
       "<table border=\"1\" class=\"dataframe\">\n",
       "  <thead>\n",
       "    <tr style=\"text-align: right;\">\n",
       "      <th></th>\n",
       "      <th>0</th>\n",
       "      <th>1</th>\n",
       "    </tr>\n",
       "  </thead>\n",
       "  <tbody>\n",
       "    <tr>\n",
       "      <th>0</th>\n",
       "      <td>O=S(=O)(O)C(F)(F)C(F)(F)C(F)(C)C(F)(F)C(F)(F)C(F)(F)C(F)(F)C(F)(F)F</td>\n",
       "      <td>&lt;esol&gt;-6.8935</td>\n",
       "    </tr>\n",
       "    <tr>\n",
       "      <th>1</th>\n",
       "      <td>O=S(=O)(O)C(F)(F)C(F)(F)C(F)(O)C(F)(F)C(F)(F)C(F)(F)C(F)(F)C(F)(F)F</td>\n",
       "      <td>&lt;esol&gt;-6.852</td>\n",
       "    </tr>\n",
       "    <tr>\n",
       "      <th>2</th>\n",
       "      <td>O=S(=O)(O)C(F)(F)C(F)(F)C(F)(F)C(F)(O)C(F)(F)C(F)(F)C(F)(F)C(F)(F)F</td>\n",
       "      <td>&lt;esol&gt;-6.852</td>\n",
       "    </tr>\n",
       "    <tr>\n",
       "      <th>3</th>\n",
       "      <td>O=S(=O)(O)C(F)(F)C(F)(F)C(F)(N)C(F)(F)C(F)(F)C(F)(F)C(F)(F)C(F)(F)F</td>\n",
       "      <td>&lt;esol&gt;-6.852</td>\n",
       "    </tr>\n",
       "    <tr>\n",
       "      <th>4</th>\n",
       "      <td>O=S(=O)(O)C(F)(F)C(F)(F)C(Cl)(F)C(F)(F)C(F)(F)C(F)(F)C(F)(F)C(F)(F)F</td>\n",
       "      <td>&lt;esol&gt;-6.8935</td>\n",
       "    </tr>\n",
       "    <tr>\n",
       "      <th>5</th>\n",
       "      <td>N=S(=O)(O)C(F)(F)C(F)(F)C(Cl)(F)C(F)(F)C(F)(F)C(F)(F)C(F)(F)C(F)(F)F</td>\n",
       "      <td>&lt;esol&gt;-6.8935</td>\n",
       "    </tr>\n",
       "    <tr>\n",
       "      <th>6</th>\n",
       "      <td>C=S(=O)(O)C(F)(F)C(F)(F)C(F)(F)C(F)(F)C(F)(F)C(F)(F)C(F)(F)C(F)(F)F</td>\n",
       "      <td>&lt;esol&gt;-6.8935</td>\n",
       "    </tr>\n",
       "    <tr>\n",
       "      <th>7</th>\n",
       "      <td>S=S(=O)(O)C(F)(F)C(F)(F)C(F)(F)C(F)(F)C(F)(F)C(F)(F)C(F)(F)C(F)(F)F</td>\n",
       "      <td>&lt;esol&gt;-6.8935</td>\n",
       "    </tr>\n",
       "    <tr>\n",
       "      <th>8</th>\n",
       "      <td>O=S(=O)(O)C(F)(F)C(F)(F)C(F)(O)C(F)(F)C(F)(F)C(F)(F)C(F)(F)C(F)(F)F</td>\n",
       "      <td>&lt;esol&gt;-6.8935</td>\n",
       "    </tr>\n",
       "    <tr>\n",
       "      <th>9</th>\n",
       "      <td>O=S(=O)(O)C(F)(F)C(F)(F)C(F)(F)C(F)(F)C(F)(F)C(F)(F)C(F)(F)C(F)(O)F</td>\n",
       "      <td>&lt;esol&gt;-6.852</td>\n",
       "    </tr>\n",
       "  </tbody>\n",
       "</table>\n",
       "</div>"
      ],
      "text/plain": [
       "                                                                      0  \\\n",
       "0   O=S(=O)(O)C(F)(F)C(F)(F)C(F)(C)C(F)(F)C(F)(F)C(F)(F)C(F)(F)C(F)(F)F   \n",
       "1   O=S(=O)(O)C(F)(F)C(F)(F)C(F)(O)C(F)(F)C(F)(F)C(F)(F)C(F)(F)C(F)(F)F   \n",
       "2   O=S(=O)(O)C(F)(F)C(F)(F)C(F)(F)C(F)(O)C(F)(F)C(F)(F)C(F)(F)C(F)(F)F   \n",
       "3   O=S(=O)(O)C(F)(F)C(F)(F)C(F)(N)C(F)(F)C(F)(F)C(F)(F)C(F)(F)C(F)(F)F   \n",
       "4  O=S(=O)(O)C(F)(F)C(F)(F)C(Cl)(F)C(F)(F)C(F)(F)C(F)(F)C(F)(F)C(F)(F)F   \n",
       "5  N=S(=O)(O)C(F)(F)C(F)(F)C(Cl)(F)C(F)(F)C(F)(F)C(F)(F)C(F)(F)C(F)(F)F   \n",
       "6   C=S(=O)(O)C(F)(F)C(F)(F)C(F)(F)C(F)(F)C(F)(F)C(F)(F)C(F)(F)C(F)(F)F   \n",
       "7   S=S(=O)(O)C(F)(F)C(F)(F)C(F)(F)C(F)(F)C(F)(F)C(F)(F)C(F)(F)C(F)(F)F   \n",
       "8   O=S(=O)(O)C(F)(F)C(F)(F)C(F)(O)C(F)(F)C(F)(F)C(F)(F)C(F)(F)C(F)(F)F   \n",
       "9   O=S(=O)(O)C(F)(F)C(F)(F)C(F)(F)C(F)(F)C(F)(F)C(F)(F)C(F)(F)C(F)(O)F   \n",
       "\n",
       "               1  \n",
       "0  <esol>-6.8935  \n",
       "1   <esol>-6.852  \n",
       "2   <esol>-6.852  \n",
       "3   <esol>-6.852  \n",
       "4  <esol>-6.8935  \n",
       "5  <esol>-6.8935  \n",
       "6  <esol>-6.8935  \n",
       "7  <esol>-6.8935  \n",
       "8  <esol>-6.8935  \n",
       "9   <esol>-6.852  "
      ]
     },
     "metadata": {},
     "output_type": "display_data"
    },
    {
     "name": "stdout",
     "output_type": "stream",
     "text": [
      "Generating Molecules for O=S(=O)(O)C(F)(F)C(F)(F)C(F)(F)C(F)(F)C(F)(F)C(F)(F)F with soluability:-5.0159731222667325\n"
     ]
    },
    {
     "data": {
      "application/vnd.jupyter.widget-view+json": {
       "model_id": "38dd3a5c89d74543b568fee2ff677f3e",
       "version_major": 2,
       "version_minor": 0
      },
      "text/plain": [
       "Output()"
      ]
     },
     "metadata": {},
     "output_type": "display_data"
    },
    {
     "data": {
      "text/html": [
       "<div>\n",
       "<style scoped>\n",
       "    .dataframe tbody tr th:only-of-type {\n",
       "        vertical-align: middle;\n",
       "    }\n",
       "\n",
       "    .dataframe tbody tr th {\n",
       "        vertical-align: top;\n",
       "    }\n",
       "\n",
       "    .dataframe thead th {\n",
       "        text-align: right;\n",
       "    }\n",
       "</style>\n",
       "<table border=\"1\" class=\"dataframe\">\n",
       "  <thead>\n",
       "    <tr style=\"text-align: right;\">\n",
       "      <th></th>\n",
       "      <th>0</th>\n",
       "      <th>1</th>\n",
       "    </tr>\n",
       "  </thead>\n",
       "  <tbody>\n",
       "    <tr>\n",
       "      <th>0</th>\n",
       "      <td>O=S(=O)(O)C(F)(F)C(F)(F)C(F)(F)C(O)(F)C(F)(F)C(F)(F)F</td>\n",
       "      <td>&lt;esol&gt;-5.4681</td>\n",
       "    </tr>\n",
       "    <tr>\n",
       "      <th>1</th>\n",
       "      <td>O=S(=O)(O)C(F)(F)C(F)(F)C(F)(F)C(C)(F)C(F)(F)C(F)(F)F</td>\n",
       "      <td>&lt;esol&gt;-5.4681</td>\n",
       "    </tr>\n",
       "    <tr>\n",
       "      <th>2</th>\n",
       "      <td>O=S(=O)(O)C(F)(F)C(F)(F)C(F)C(CF)F</td>\n",
       "      <td>&lt;esol&gt;-5.4681</td>\n",
       "    </tr>\n",
       "    <tr>\n",
       "      <th>3</th>\n",
       "      <td>O=S(=O)(O)C(F)(F)C(F)C(F)(O)C(Cl)(F)C(F)(F)C(F)(F)F</td>\n",
       "      <td>&lt;esol&gt;-5.4681</td>\n",
       "    </tr>\n",
       "    <tr>\n",
       "      <th>4</th>\n",
       "      <td>OS(=O)(O)C(F)(F)C(F)(F)C(F)(F)C(F)(F)C(F)(F)C(F)(F)F</td>\n",
       "      <td>&lt;esol&gt;-5.4681</td>\n",
       "    </tr>\n",
       "    <tr>\n",
       "      <th>5</th>\n",
       "      <td>OC(=O)COC(F)(F)C(F)(F)C(F)(F)C(F)(F)C(F)(F)C(F)(F)F</td>\n",
       "      <td>&lt;esol&gt;-5.4681</td>\n",
       "    </tr>\n",
       "    <tr>\n",
       "      <th>6</th>\n",
       "      <td>O=S(=O)(O)C(F)(F)C(F)(F)C(F)(F)C(F)(F)C(F)(F)C(F)(F)</td>\n",
       "      <td>&lt;esol&gt;-5.4681</td>\n",
       "    </tr>\n",
       "    <tr>\n",
       "      <th>7</th>\n",
       "      <td>O=C(O)COC(F)(F)C(F)(F)C(F)(F)C(F)(F)C(F)(F)C(F)(F)F</td>\n",
       "      <td>&lt;esol&gt;-5.4681</td>\n",
       "    </tr>\n",
       "    <tr>\n",
       "      <th>8</th>\n",
       "      <td>O=S(=O)(O)C(F)(F)C(Cl)(F)C(F)(F)C(F)(F)C(F)(F)C(F)(F)F</td>\n",
       "      <td>&lt;esol&gt;-5.4681</td>\n",
       "    </tr>\n",
       "    <tr>\n",
       "      <th>9</th>\n",
       "      <td>O=S(=O)(O)C(F)(F)C(F)(F)C(F)(F)C(F)(F)C(F)(F)C(F)(F)Cl</td>\n",
       "      <td>&lt;esol&gt;-5.4681</td>\n",
       "    </tr>\n",
       "  </tbody>\n",
       "</table>\n",
       "</div>"
      ],
      "text/plain": [
       "                                                        0              1\n",
       "0   O=S(=O)(O)C(F)(F)C(F)(F)C(F)(F)C(O)(F)C(F)(F)C(F)(F)F  <esol>-5.4681\n",
       "1   O=S(=O)(O)C(F)(F)C(F)(F)C(F)(F)C(C)(F)C(F)(F)C(F)(F)F  <esol>-5.4681\n",
       "2                      O=S(=O)(O)C(F)(F)C(F)(F)C(F)C(CF)F  <esol>-5.4681\n",
       "3     O=S(=O)(O)C(F)(F)C(F)C(F)(O)C(Cl)(F)C(F)(F)C(F)(F)F  <esol>-5.4681\n",
       "4    OS(=O)(O)C(F)(F)C(F)(F)C(F)(F)C(F)(F)C(F)(F)C(F)(F)F  <esol>-5.4681\n",
       "5     OC(=O)COC(F)(F)C(F)(F)C(F)(F)C(F)(F)C(F)(F)C(F)(F)F  <esol>-5.4681\n",
       "6    O=S(=O)(O)C(F)(F)C(F)(F)C(F)(F)C(F)(F)C(F)(F)C(F)(F)  <esol>-5.4681\n",
       "7     O=C(O)COC(F)(F)C(F)(F)C(F)(F)C(F)(F)C(F)(F)C(F)(F)F  <esol>-5.4681\n",
       "8  O=S(=O)(O)C(F)(F)C(Cl)(F)C(F)(F)C(F)(F)C(F)(F)C(F)(F)F  <esol>-5.4681\n",
       "9  O=S(=O)(O)C(F)(F)C(F)(F)C(F)(F)C(F)(F)C(F)(F)C(F)(F)Cl  <esol>-5.4681"
      ]
     },
     "metadata": {},
     "output_type": "display_data"
    },
    {
     "name": "stdout",
     "output_type": "stream",
     "text": [
      "Generating Molecules for O=S(=O)([O-])C(F)(F)C(F)(F)C(F)(F)C(F)(F)C(F)(F)C(F)(F)F with soluability:-4.755208830342681\n"
     ]
    },
    {
     "data": {
      "application/vnd.jupyter.widget-view+json": {
       "model_id": "248fa2dc73d84b2a91b1ddbec1989e9d",
       "version_major": 2,
       "version_minor": 0
      },
      "text/plain": [
       "Output()"
      ]
     },
     "metadata": {},
     "output_type": "display_data"
    },
    {
     "data": {
      "text/html": [
       "<div>\n",
       "<style scoped>\n",
       "    .dataframe tbody tr th:only-of-type {\n",
       "        vertical-align: middle;\n",
       "    }\n",
       "\n",
       "    .dataframe tbody tr th {\n",
       "        vertical-align: top;\n",
       "    }\n",
       "\n",
       "    .dataframe thead th {\n",
       "        text-align: right;\n",
       "    }\n",
       "</style>\n",
       "<table border=\"1\" class=\"dataframe\">\n",
       "  <thead>\n",
       "    <tr style=\"text-align: right;\">\n",
       "      <th></th>\n",
       "      <th>0</th>\n",
       "      <th>1</th>\n",
       "    </tr>\n",
       "  </thead>\n",
       "  <tbody>\n",
       "    <tr>\n",
       "      <th>0</th>\n",
       "      <td>O=S(=O)([O-])C(F)CC[NH]C(F)(F)C(F)(F)C(F)(F)C(F)(F)C(F)(F)F</td>\n",
       "      <td>&lt;esol&gt;-5.5096</td>\n",
       "    </tr>\n",
       "    <tr>\n",
       "      <th>1</th>\n",
       "      <td>O=S(=O)C(F)(F)C(F)(F)C(F)(F)C(F)(F)C(F)(F)F</td>\n",
       "      <td>&lt;esol&gt;-5.5096</td>\n",
       "    </tr>\n",
       "    <tr>\n",
       "      <th>2</th>\n",
       "      <td>N=S(=S)([O-])C(F)(F)C(F)(F)C(F)(F)C(F)(F)C(F)(F)C(F)(F)F</td>\n",
       "      <td>&lt;esol&gt;-6.8935</td>\n",
       "    </tr>\n",
       "    <tr>\n",
       "      <th>3</th>\n",
       "      <td>O=S(=O)([O-])C(F)(F)C(F)(F)C(F)(F)C(F)(O)C(F)(F)C(F)(F)F</td>\n",
       "      <td>&lt;esol&gt;-5.4681</td>\n",
       "    </tr>\n",
       "    <tr>\n",
       "      <th>4</th>\n",
       "      <td>O=S(=S)([O-])C(F)(F)C(F)(F)C(F)(F)C(F)(F)C(O)(F)C(F)(F)F</td>\n",
       "      <td>&lt;esol&gt;-5.4681</td>\n",
       "    </tr>\n",
       "    <tr>\n",
       "      <th>5</th>\n",
       "      <td>O=S(=S)([O-])C(F)(F)C(F)(F)C(F)(F)C(F)(F)C(F)(F)C(F)(F)F</td>\n",
       "      <td>&lt;esol&gt;-6.8935</td>\n",
       "    </tr>\n",
       "    <tr>\n",
       "      <th>6</th>\n",
       "      <td>O=S(=O)([O-])C(F)(F)C(Cl)(F)C(F)(F)C(F)(F)C(F)(F)C(F)(F)F</td>\n",
       "      <td>&lt;esol&gt;-5.5096</td>\n",
       "    </tr>\n",
       "    <tr>\n",
       "      <th>7</th>\n",
       "      <td>O=S(=O)([O-])C(F)(F)C(C)(F)C(F)(F)C(F)(F)C(F)(F)C(F)(F)F</td>\n",
       "      <td>&lt;esol&gt;-5.5096</td>\n",
       "    </tr>\n",
       "    <tr>\n",
       "      <th>8</th>\n",
       "      <td>O=S(=O)([O-])C(F)(F)C(F)(F)C(O)(F)C(F)(F)C(F)(F)C(F)(F)F</td>\n",
       "      <td>&lt;esol&gt;-5.4681</td>\n",
       "    </tr>\n",
       "    <tr>\n",
       "      <th>9</th>\n",
       "      <td>O=S(=O)([O-])C(F)(F)C(F)(F)C(F)(O)C(F)(F)C(F)(F)C(F)(F)F</td>\n",
       "      <td>&lt;esol&gt;-5.4681</td>\n",
       "    </tr>\n",
       "  </tbody>\n",
       "</table>\n",
       "</div>"
      ],
      "text/plain": [
       "                                                             0              1\n",
       "0  O=S(=O)([O-])C(F)CC[NH]C(F)(F)C(F)(F)C(F)(F)C(F)(F)C(F)(F)F  <esol>-5.5096\n",
       "1                  O=S(=O)C(F)(F)C(F)(F)C(F)(F)C(F)(F)C(F)(F)F  <esol>-5.5096\n",
       "2     N=S(=S)([O-])C(F)(F)C(F)(F)C(F)(F)C(F)(F)C(F)(F)C(F)(F)F  <esol>-6.8935\n",
       "3     O=S(=O)([O-])C(F)(F)C(F)(F)C(F)(F)C(F)(O)C(F)(F)C(F)(F)F  <esol>-5.4681\n",
       "4     O=S(=S)([O-])C(F)(F)C(F)(F)C(F)(F)C(F)(F)C(O)(F)C(F)(F)F  <esol>-5.4681\n",
       "5     O=S(=S)([O-])C(F)(F)C(F)(F)C(F)(F)C(F)(F)C(F)(F)C(F)(F)F  <esol>-6.8935\n",
       "6    O=S(=O)([O-])C(F)(F)C(Cl)(F)C(F)(F)C(F)(F)C(F)(F)C(F)(F)F  <esol>-5.5096\n",
       "7     O=S(=O)([O-])C(F)(F)C(C)(F)C(F)(F)C(F)(F)C(F)(F)C(F)(F)F  <esol>-5.5096\n",
       "8     O=S(=O)([O-])C(F)(F)C(F)(F)C(O)(F)C(F)(F)C(F)(F)C(F)(F)F  <esol>-5.4681\n",
       "9     O=S(=O)([O-])C(F)(F)C(F)(F)C(F)(O)C(F)(F)C(F)(F)C(F)(F)F  <esol>-5.4681"
      ]
     },
     "metadata": {},
     "output_type": "display_data"
    }
   ],
   "source": [
    "mol_list = %openadd export molecules\n",
    "datasets = []\n",
    "for row in mol_list.to_dict(\"records\"):\n",
    "    MY_SMILES = row[\"canonical_smiles\"]\n",
    "    esol = float(row[\"esol\"])\n",
    "    MY_PARAMS = {\"fraction_to_mask\": 0.1, \"property_goal\": {\"<esol>\": esol}}\n",
    "    print(\"Generating Molecules for \" + MY_SMILES + \" with soluability:\" + str(row[\"esol\"]))\n",
    "    result = %openadd gen generate with RegressionTransformerMolecules data for $MY_SMILES sample 10 using(algorithm_version=solubility  search=sample temperature=1.5 tolerance=60.0 sampling_wrapper = \"$MY_PARAMS\" )\n",
    "    display(result)\n",
    "    datasets.append(result)"
   ]
  },
  {
   "cell_type": "markdown",
   "id": "79bbbac2-0f0a-47a3-8af5-6b42a0adc1f4",
   "metadata": {},
   "source": [
    "### Step 5 Now lets use Deep Search to search for patents that may contain some or all of these molecules "
   ]
  },
  {
   "cell_type": "code",
   "execution_count": 22,
   "id": "c2fee715-3ec5-4766-bea8-19f89cfe16e9",
   "metadata": {
    "execution": {
     "iopub.execute_input": "2025-02-05T04:24:30.752417Z",
     "iopub.status.busy": "2025-02-05T04:24:30.752223Z",
     "iopub.status.idle": "2025-02-05T04:24:47.373145Z",
     "shell.execute_reply": "2025-02-05T04:24:47.372507Z",
     "shell.execute_reply.started": "2025-02-05T04:24:30.752397Z"
    },
    "tags": []
   },
   "outputs": [
    {
     "data": {
      "text/plain": [
       "'[]'"
      ]
     },
     "execution_count": 22,
     "metadata": {},
     "output_type": "execute_result"
    }
   ],
   "source": [
    "x = 0\n",
    "patent_count = 0\n",
    "patents_to_search = []\n",
    "patented_molecules = []\n",
    "for result in datasets:\n",
    "    for mol in result[\"0\"].to_list():\n",
    "        x = %openadd search for patents containing molecule '{mol}'\n",
    "        if isinstance(x, DataFrame):\n",
    "            patents_to_search.extend(x[\"PATENT ID\"].to_list())\n",
    "            patented_molecules.append(mol)\n",
    "\n",
    "str(patents_to_search)"
   ]
  },
  {
   "cell_type": "markdown",
   "id": "56de6738-59a5-469b-83fb-0cdede1d0677",
   "metadata": {
    "execution": {
     "iopub.execute_input": "2024-05-14T03:57:35.526422Z",
     "iopub.status.busy": "2024-05-14T03:57:35.525909Z",
     "iopub.status.idle": "2024-05-14T03:57:35.531773Z",
     "shell.execute_reply": "2024-05-14T03:57:35.531012Z",
     "shell.execute_reply.started": "2024-05-14T03:57:35.526394Z"
    },
    "tags": []
   },
   "source": [
    "### Step 6: Add Patented Molecules and generate properties for new molecules"
   ]
  },
  {
   "cell_type": "code",
   "execution_count": 23,
   "id": "07c23766-a774-4342-a24d-c224f4e2a886",
   "metadata": {
    "execution": {
     "iopub.execute_input": "2025-02-05T04:24:47.377485Z",
     "iopub.status.busy": "2025-02-05T04:24:47.377182Z",
     "iopub.status.idle": "2025-02-05T04:24:48.305489Z",
     "shell.execute_reply": "2025-02-05T04:24:48.304817Z",
     "shell.execute_reply.started": "2025-02-05T04:24:47.377464Z"
    },
    "tags": []
   },
   "outputs": [
    {
     "data": {
      "text/markdown": [
       "<span style=\"color: #d00\">Unknown error</span> <br> \n",
       "<span style=\"color: #ccc\">'new_props'</span> <br> \n"
      ],
      "text/plain": [
       "<IPython.core.display.Markdown object>"
      ]
     },
     "metadata": {},
     "output_type": "display_data"
    },
    {
     "data": {
      "text/markdown": [
       "<span style=\"color: #090\">1/6 molecules in your working set have been enriched with the latest analysis results</span> <br> \n",
       "<span style=\"color: #ccc\">Run `show mols` to view the updated working set</span> <br> \n"
      ],
      "text/plain": [
       "<IPython.core.display.Markdown object>"
      ]
     },
     "execution_count": 23,
     "metadata": {},
     "output_type": "execute_result"
    }
   ],
   "source": [
    "properties_all = [\n",
    "    \"molecular_weight\",\n",
    "    \"number_of_aromatic_rings\",\n",
    "    \"number_of_h_acceptors\",\n",
    "    \"number_of_atoms\",\n",
    "    \"number_of_rings\",\n",
    "    \"number_of_rotatable_bonds\",\n",
    "    \"number_of_large_rings\",\n",
    "    \"number_of_heterocycles\",\n",
    "    \"number_of_stereocenters\",\n",
    "    \"is_scaffold\",\n",
    "    \"bertz\",\n",
    "    \"tpsa\",\n",
    "    \"logp\",\n",
    "    \"qed\",\n",
    "    \"plogp\",\n",
    "    \"penalized_logp\",\n",
    "    \"lipinski\",\n",
    "    \"sas\",\n",
    "    \"esol\",\n",
    "]\n",
    "\n",
    "new_props = %openadd propd get molecule property {properties_all} for {patented_molecules}\n",
    "\n",
    "for x in patented_molecules:\n",
    "    %openad add molecule {x} Force\n",
    "\n",
    "%openad merge molecules data using dataframe new_props\n",
    "%openad enrich molecules with analysis"
   ]
  },
  {
   "cell_type": "code",
   "execution_count": 24,
   "id": "670d2a53-a088-43d3-96fb-be5cc97e71ce",
   "metadata": {
    "execution": {
     "iopub.execute_input": "2025-02-05T04:24:48.306878Z",
     "iopub.status.busy": "2025-02-05T04:24:48.306575Z",
     "iopub.status.idle": "2025-02-05T04:24:48.396471Z",
     "shell.execute_reply": "2025-02-05T04:24:48.395682Z",
     "shell.execute_reply.started": "2025-02-05T04:24:48.306851Z"
    },
    "tags": []
   },
   "outputs": [
    {
     "data": {
      "text/html": [
       "\n",
       "            <style>\n",
       "                #btn-wrap-1738729488 { height:12px; right:20px; display:flex; flex-direction:row-reverse; position:relative }\n",
       "                #btn-wrap-1738729488 a { color:#393939; width:24px; height:24px; padding:4px; box-sizing:border-box; background:white }\n",
       "                #btn-wrap-1738729488 a:hover { color: #0f62fe }\n",
       "            </style>\n",
       "            <div id=\"btn-wrap-1738729488\"><a target=\"_blank\" href=\"http://127.0.0.1:8026/my-mols\"><svg width=\"16\" height=\"16\" viewBox=\"0 0 16 16\" fill=\"none\" xmlns=\"http://www.w3.org/2000/svg\"><path d=\"M13 14H3C2.73489 13.9996 2.48075 13.8942 2.29329 13.7067C2.10583 13.5193 2.00036 13.2651 2 13V3C2.00036 2.73489 2.10583 2.48075 2.29329 2.29329C2.48075 2.10583 2.73489 2.00036 3 2H8V3H3V13H13V8H14V13C13.9996 13.2651 13.8942 13.5193 13.7067 13.7067C13.5193 13.8942 13.2651 13.9996 13 14Z\" fill=\"currentColor\"/><path d=\"M10 1V2H13.293L9 6.293L9.707 7L14 2.707V6H15V1H10Z\" fill=\"currentColor\"/></svg></a><a href=\"#\" onclick=\"event.preventDefault(); document.querySelector('#btn-wrap-1738729488 + iframe').src=document.querySelector('#btn-wrap-1738729488 + iframe').src;\"><svg width=\"16\" height=\"16\" viewBox=\"0 0 16 16\" fill=\"none\" xmlns=\"http://www.w3.org/2000/svg\"><path d=\"M9 14C10.1867 14 11.3467 13.6481 12.3334 12.9888C13.3201 12.3295 14.0892 11.3925 14.5433 10.2961C14.9974 9.19975 15.1162 7.99335 14.8847 6.82946C14.6532 5.66558 14.0818 4.59648 13.2426 3.75736C12.4035 2.91825 11.3344 2.3468 10.1705 2.11529C9.00666 1.88378 7.80026 2.0026 6.7039 2.45673C5.60754 2.91085 4.67047 3.67989 4.01118 4.66658C3.35189 5.65328 3 6.81331 3 8V11.1L1.2 9.3L0.5 10L3.5 13L6.5 10L5.8 9.3L4 11.1V8C4 7.0111 4.29324 6.0444 4.84265 5.22215C5.39206 4.39991 6.17295 3.75904 7.08658 3.38061C8.00021 3.00217 9.00555 2.90315 9.97545 3.09608C10.9454 3.289 11.8363 3.76521 12.5355 4.46447C13.2348 5.16373 13.711 6.05465 13.9039 7.02455C14.0969 7.99446 13.9978 8.99979 13.6194 9.91342C13.241 10.8271 12.6001 11.6079 11.7779 12.1574C10.9556 12.7068 9.98891 13 9 13V14Z\" fill=\"currentColor\"/></svg></a></div><iframe src=\"http://127.0.0.1:8026/headless/my-mols\" crossorigin=\"anonymous\" width=\"100%\" height=\"700\" style=\"border:solid 1px #ddd;box-sizing:border-box;width:calc(100% + 20px)\"></iframe>"
      ],
      "text/plain": [
       "<IPython.core.display.HTML object>"
      ]
     },
     "metadata": {},
     "output_type": "display_data"
    }
   ],
   "source": [
    "\n",
    "%openad show molecules \n"
   ]
  },
  {
   "cell_type": "markdown",
   "id": "7eedefd6-a8c0-4ddb-a97d-237d64927df3",
   "metadata": {},
   "source": [
    "### Step 7: lets run retrosynthesis prediction against one of the molecules and display the molecule and what information we now know about it"
   ]
  },
  {
   "cell_type": "code",
   "execution_count": 25,
   "id": "4e447364-9493-40d6-94ba-dd8b26e73b5f",
   "metadata": {
    "execution": {
     "iopub.execute_input": "2025-02-05T04:24:48.398000Z",
     "iopub.status.busy": "2025-02-05T04:24:48.397337Z",
     "iopub.status.idle": "2025-02-05T04:25:04.823267Z",
     "shell.execute_reply": "2025-02-05T04:25:04.822640Z",
     "shell.execute_reply.started": "2025-02-05T04:24:48.397972Z"
    },
    "tags": []
   },
   "outputs": [
    {
     "data": {
      "application/vnd.jupyter.widget-view+json": {
       "model_id": "06ef0d150b9f4ec8a324609078d3aa7e",
       "version_major": 2,
       "version_minor": 0
      },
      "text/plain": [
       "Output()"
      ]
     },
     "metadata": {},
     "output_type": "display_data"
    },
    {
     "data": {
      "text/html": [
       "<div style=\"width:300px; height: 300px; margin: 30px 0; border: solid 1px #ddd; display: inline-block; padding: 32px; position: relative\"><div style=\"position: absolute; top: 8px; left: 8px; font-size: 12px; line-height: 12px; color: #999;\">INPUT MOLECULE</div><?xml version='1.0' encoding='iso-8859-1'?>\n",
       "<svg version='1.1' baseProfile='full'\n",
       "              xmlns='http://www.w3.org/2000/svg'\n",
       "                      xmlns:rdkit='http://www.rdkit.org/xml'\n",
       "                      xmlns:xlink='http://www.w3.org/1999/xlink'\n",
       "                  xml:space='preserve'\n",
       "width='300px' height='300px' viewBox='0 0 300 300'>\n",
       "<!-- END OF HEADER -->\n",
       "<rect style='opacity:1.0;fill:#FFFFFF;stroke:none' width='300.0' height='300.0' x='0.0' y='0.0'> </rect>\n",
       "<path class='bond-0 atom-0 atom-1' d='M 27.1,167.6 L 32.7,157.8' style='fill:none;fill-rule:evenodd;stroke:#FF0000;stroke-width:2.0px;stroke-linecap:butt;stroke-linejoin:miter;stroke-opacity:1' />\n",
       "<path class='bond-0 atom-0 atom-1' d='M 32.7,157.8 L 38.4,148.0' style='fill:none;fill-rule:evenodd;stroke:#000000;stroke-width:2.0px;stroke-linecap:butt;stroke-linejoin:miter;stroke-opacity:1' />\n",
       "<path class='bond-0 atom-0 atom-1' d='M 30.6,169.6 L 36.2,159.8' style='fill:none;fill-rule:evenodd;stroke:#FF0000;stroke-width:2.0px;stroke-linecap:butt;stroke-linejoin:miter;stroke-opacity:1' />\n",
       "<path class='bond-0 atom-0 atom-1' d='M 36.2,159.8 L 41.9,150.0' style='fill:none;fill-rule:evenodd;stroke:#000000;stroke-width:2.0px;stroke-linecap:butt;stroke-linejoin:miter;stroke-opacity:1' />\n",
       "<path class='bond-1 atom-1 atom-2' d='M 39.6,150.0 L 34.2,140.7' style='fill:none;fill-rule:evenodd;stroke:#000000;stroke-width:2.0px;stroke-linecap:butt;stroke-linejoin:miter;stroke-opacity:1' />\n",
       "<path class='bond-1 atom-1 atom-2' d='M 34.2,140.7 L 28.9,131.5' style='fill:none;fill-rule:evenodd;stroke:#FF0000;stroke-width:2.0px;stroke-linecap:butt;stroke-linejoin:miter;stroke-opacity:1' />\n",
       "<path class='bond-2 atom-1 atom-3' d='M 39.6,150.0 L 66.6,150.0' style='fill:none;fill-rule:evenodd;stroke:#000000;stroke-width:2.0px;stroke-linecap:butt;stroke-linejoin:miter;stroke-opacity:1' />\n",
       "<path class='bond-3 atom-3 atom-4' d='M 66.6,150.0 L 66.6,161.1' style='fill:none;fill-rule:evenodd;stroke:#000000;stroke-width:2.0px;stroke-linecap:butt;stroke-linejoin:miter;stroke-opacity:1' />\n",
       "<path class='bond-3 atom-3 atom-4' d='M 66.6,161.1 L 66.6,172.3' style='fill:none;fill-rule:evenodd;stroke:#33CCCC;stroke-width:2.0px;stroke-linecap:butt;stroke-linejoin:miter;stroke-opacity:1' />\n",
       "<path class='bond-4 atom-3 atom-5' d='M 66.6,150.0 L 66.6,138.9' style='fill:none;fill-rule:evenodd;stroke:#000000;stroke-width:2.0px;stroke-linecap:butt;stroke-linejoin:miter;stroke-opacity:1' />\n",
       "<path class='bond-4 atom-3 atom-5' d='M 66.6,138.9 L 66.6,127.7' style='fill:none;fill-rule:evenodd;stroke:#33CCCC;stroke-width:2.0px;stroke-linecap:butt;stroke-linejoin:miter;stroke-opacity:1' />\n",
       "<path class='bond-5 atom-3 atom-6' d='M 66.6,150.0 L 93.6,150.0' style='fill:none;fill-rule:evenodd;stroke:#000000;stroke-width:2.0px;stroke-linecap:butt;stroke-linejoin:miter;stroke-opacity:1' />\n",
       "<path class='bond-6 atom-6 atom-7' d='M 93.6,150.0 L 93.6,138.9' style='fill:none;fill-rule:evenodd;stroke:#000000;stroke-width:2.0px;stroke-linecap:butt;stroke-linejoin:miter;stroke-opacity:1' />\n",
       "<path class='bond-6 atom-6 atom-7' d='M 93.6,138.9 L 93.6,127.7' style='fill:none;fill-rule:evenodd;stroke:#33CCCC;stroke-width:2.0px;stroke-linecap:butt;stroke-linejoin:miter;stroke-opacity:1' />\n",
       "<path class='bond-7 atom-6 atom-8' d='M 93.6,150.0 L 93.6,161.1' style='fill:none;fill-rule:evenodd;stroke:#000000;stroke-width:2.0px;stroke-linecap:butt;stroke-linejoin:miter;stroke-opacity:1' />\n",
       "<path class='bond-7 atom-6 atom-8' d='M 93.6,161.1 L 93.6,172.3' style='fill:none;fill-rule:evenodd;stroke:#33CCCC;stroke-width:2.0px;stroke-linecap:butt;stroke-linejoin:miter;stroke-opacity:1' />\n",
       "<path class='bond-8 atom-6 atom-9' d='M 93.6,150.0 L 120.6,150.0' style='fill:none;fill-rule:evenodd;stroke:#000000;stroke-width:2.0px;stroke-linecap:butt;stroke-linejoin:miter;stroke-opacity:1' />\n",
       "<path class='bond-9 atom-9 atom-10' d='M 120.6,150.0 L 120.6,161.1' style='fill:none;fill-rule:evenodd;stroke:#000000;stroke-width:2.0px;stroke-linecap:butt;stroke-linejoin:miter;stroke-opacity:1' />\n",
       "<path class='bond-9 atom-9 atom-10' d='M 120.6,161.1 L 120.6,172.3' style='fill:none;fill-rule:evenodd;stroke:#33CCCC;stroke-width:2.0px;stroke-linecap:butt;stroke-linejoin:miter;stroke-opacity:1' />\n",
       "<path class='bond-10 atom-9 atom-11' d='M 120.6,150.0 L 120.6,138.9' style='fill:none;fill-rule:evenodd;stroke:#000000;stroke-width:2.0px;stroke-linecap:butt;stroke-linejoin:miter;stroke-opacity:1' />\n",
       "<path class='bond-10 atom-9 atom-11' d='M 120.6,138.9 L 120.6,127.7' style='fill:none;fill-rule:evenodd;stroke:#33CCCC;stroke-width:2.0px;stroke-linecap:butt;stroke-linejoin:miter;stroke-opacity:1' />\n",
       "<path class='bond-11 atom-9 atom-12' d='M 120.6,150.0 L 147.6,150.0' style='fill:none;fill-rule:evenodd;stroke:#000000;stroke-width:2.0px;stroke-linecap:butt;stroke-linejoin:miter;stroke-opacity:1' />\n",
       "<path class='bond-12 atom-12 atom-13' d='M 147.6,150.0 L 147.6,138.9' style='fill:none;fill-rule:evenodd;stroke:#000000;stroke-width:2.0px;stroke-linecap:butt;stroke-linejoin:miter;stroke-opacity:1' />\n",
       "<path class='bond-12 atom-12 atom-13' d='M 147.6,138.9 L 147.6,127.7' style='fill:none;fill-rule:evenodd;stroke:#33CCCC;stroke-width:2.0px;stroke-linecap:butt;stroke-linejoin:miter;stroke-opacity:1' />\n",
       "<path class='bond-13 atom-12 atom-14' d='M 147.6,150.0 L 147.6,161.1' style='fill:none;fill-rule:evenodd;stroke:#000000;stroke-width:2.0px;stroke-linecap:butt;stroke-linejoin:miter;stroke-opacity:1' />\n",
       "<path class='bond-13 atom-12 atom-14' d='M 147.6,161.1 L 147.6,172.3' style='fill:none;fill-rule:evenodd;stroke:#33CCCC;stroke-width:2.0px;stroke-linecap:butt;stroke-linejoin:miter;stroke-opacity:1' />\n",
       "<path class='bond-14 atom-12 atom-15' d='M 147.6,150.0 L 174.7,150.0' style='fill:none;fill-rule:evenodd;stroke:#000000;stroke-width:2.0px;stroke-linecap:butt;stroke-linejoin:miter;stroke-opacity:1' />\n",
       "<path class='bond-15 atom-15 atom-16' d='M 174.7,150.0 L 174.7,161.1' style='fill:none;fill-rule:evenodd;stroke:#000000;stroke-width:2.0px;stroke-linecap:butt;stroke-linejoin:miter;stroke-opacity:1' />\n",
       "<path class='bond-15 atom-15 atom-16' d='M 174.7,161.1 L 174.7,172.3' style='fill:none;fill-rule:evenodd;stroke:#33CCCC;stroke-width:2.0px;stroke-linecap:butt;stroke-linejoin:miter;stroke-opacity:1' />\n",
       "<path class='bond-16 atom-15 atom-17' d='M 174.7,150.0 L 174.7,138.9' style='fill:none;fill-rule:evenodd;stroke:#000000;stroke-width:2.0px;stroke-linecap:butt;stroke-linejoin:miter;stroke-opacity:1' />\n",
       "<path class='bond-16 atom-15 atom-17' d='M 174.7,138.9 L 174.7,127.7' style='fill:none;fill-rule:evenodd;stroke:#33CCCC;stroke-width:2.0px;stroke-linecap:butt;stroke-linejoin:miter;stroke-opacity:1' />\n",
       "<path class='bond-17 atom-15 atom-18' d='M 174.7,150.0 L 201.7,150.0' style='fill:none;fill-rule:evenodd;stroke:#000000;stroke-width:2.0px;stroke-linecap:butt;stroke-linejoin:miter;stroke-opacity:1' />\n",
       "<path class='bond-18 atom-18 atom-19' d='M 201.7,150.0 L 201.7,138.9' style='fill:none;fill-rule:evenodd;stroke:#000000;stroke-width:2.0px;stroke-linecap:butt;stroke-linejoin:miter;stroke-opacity:1' />\n",
       "<path class='bond-18 atom-18 atom-19' d='M 201.7,138.9 L 201.7,127.7' style='fill:none;fill-rule:evenodd;stroke:#33CCCC;stroke-width:2.0px;stroke-linecap:butt;stroke-linejoin:miter;stroke-opacity:1' />\n",
       "<path class='bond-19 atom-18 atom-20' d='M 201.7,150.0 L 201.7,161.1' style='fill:none;fill-rule:evenodd;stroke:#000000;stroke-width:2.0px;stroke-linecap:butt;stroke-linejoin:miter;stroke-opacity:1' />\n",
       "<path class='bond-19 atom-18 atom-20' d='M 201.7,161.1 L 201.7,172.3' style='fill:none;fill-rule:evenodd;stroke:#33CCCC;stroke-width:2.0px;stroke-linecap:butt;stroke-linejoin:miter;stroke-opacity:1' />\n",
       "<path class='bond-20 atom-18 atom-21' d='M 201.7,150.0 L 228.7,150.0' style='fill:none;fill-rule:evenodd;stroke:#000000;stroke-width:2.0px;stroke-linecap:butt;stroke-linejoin:miter;stroke-opacity:1' />\n",
       "<path class='bond-21 atom-21 atom-22' d='M 228.7,150.0 L 228.7,161.1' style='fill:none;fill-rule:evenodd;stroke:#000000;stroke-width:2.0px;stroke-linecap:butt;stroke-linejoin:miter;stroke-opacity:1' />\n",
       "<path class='bond-21 atom-21 atom-22' d='M 228.7,161.1 L 228.7,172.3' style='fill:none;fill-rule:evenodd;stroke:#33CCCC;stroke-width:2.0px;stroke-linecap:butt;stroke-linejoin:miter;stroke-opacity:1' />\n",
       "<path class='bond-22 atom-21 atom-23' d='M 228.7,150.0 L 228.7,138.9' style='fill:none;fill-rule:evenodd;stroke:#000000;stroke-width:2.0px;stroke-linecap:butt;stroke-linejoin:miter;stroke-opacity:1' />\n",
       "<path class='bond-22 atom-21 atom-23' d='M 228.7,138.9 L 228.7,127.7' style='fill:none;fill-rule:evenodd;stroke:#33CCCC;stroke-width:2.0px;stroke-linecap:butt;stroke-linejoin:miter;stroke-opacity:1' />\n",
       "<path class='bond-23 atom-21 atom-24' d='M 228.7,150.0 L 255.7,150.0' style='fill:none;fill-rule:evenodd;stroke:#000000;stroke-width:2.0px;stroke-linecap:butt;stroke-linejoin:miter;stroke-opacity:1' />\n",
       "<path class='bond-24 atom-24 atom-25' d='M 255.7,150.0 L 267.6,150.0' style='fill:none;fill-rule:evenodd;stroke:#000000;stroke-width:2.0px;stroke-linecap:butt;stroke-linejoin:miter;stroke-opacity:1' />\n",
       "<path class='bond-24 atom-24 atom-25' d='M 267.6,150.0 L 279.6,150.0' style='fill:none;fill-rule:evenodd;stroke:#33CCCC;stroke-width:2.0px;stroke-linecap:butt;stroke-linejoin:miter;stroke-opacity:1' />\n",
       "<path class='bond-25 atom-24 atom-26' d='M 255.7,150.0 L 255.7,138.9' style='fill:none;fill-rule:evenodd;stroke:#000000;stroke-width:2.0px;stroke-linecap:butt;stroke-linejoin:miter;stroke-opacity:1' />\n",
       "<path class='bond-25 atom-24 atom-26' d='M 255.7,138.9 L 255.7,127.7' style='fill:none;fill-rule:evenodd;stroke:#33CCCC;stroke-width:2.0px;stroke-linecap:butt;stroke-linejoin:miter;stroke-opacity:1' />\n",
       "<path class='bond-26 atom-24 atom-27' d='M 255.7,150.0 L 255.7,161.1' style='fill:none;fill-rule:evenodd;stroke:#000000;stroke-width:2.0px;stroke-linecap:butt;stroke-linejoin:miter;stroke-opacity:1' />\n",
       "<path class='bond-26 atom-24 atom-27' d='M 255.7,161.1 L 255.7,172.3' style='fill:none;fill-rule:evenodd;stroke:#33CCCC;stroke-width:2.0px;stroke-linecap:butt;stroke-linejoin:miter;stroke-opacity:1' />\n",
       "<path d='M 39.3,149.5 L 39.6,150.0 L 40.9,150.0' style='fill:none;stroke:#000000;stroke-width:2.0px;stroke-linecap:butt;stroke-linejoin:miter;stroke-opacity:1;' />\n",
       "<path class='atom-0' d='M 22.6 173.4\n",
       "Q 22.6 171.6, 23.5 170.6\n",
       "Q 24.4 169.5, 26.1 169.5\n",
       "Q 27.8 169.5, 28.7 170.6\n",
       "Q 29.6 171.6, 29.6 173.4\n",
       "Q 29.6 175.3, 28.7 176.3\n",
       "Q 27.7 177.4, 26.1 177.4\n",
       "Q 24.4 177.4, 23.5 176.3\n",
       "Q 22.6 175.3, 22.6 173.4\n",
       "M 26.1 176.5\n",
       "Q 27.2 176.5, 27.9 175.7\n",
       "Q 28.5 175.0, 28.5 173.4\n",
       "Q 28.5 171.9, 27.9 171.2\n",
       "Q 27.2 170.4, 26.1 170.4\n",
       "Q 24.9 170.4, 24.3 171.1\n",
       "Q 23.6 171.9, 23.6 173.4\n",
       "Q 23.6 175.0, 24.3 175.7\n",
       "Q 24.9 176.5, 26.1 176.5\n",
       "' fill='#FF0000'/>\n",
       "<path class='atom-2' d='M 15.0 122.8\n",
       "L 16.0 122.8\n",
       "L 16.0 126.1\n",
       "L 19.9 126.1\n",
       "L 19.9 122.8\n",
       "L 21.0 122.8\n",
       "L 21.0 130.5\n",
       "L 19.9 130.5\n",
       "L 19.9 126.9\n",
       "L 16.0 126.9\n",
       "L 16.0 130.5\n",
       "L 15.0 130.5\n",
       "L 15.0 122.8\n",
       "' fill='#FF0000'/>\n",
       "<path class='atom-2' d='M 22.6 126.6\n",
       "Q 22.6 124.8, 23.5 123.8\n",
       "Q 24.4 122.7, 26.1 122.7\n",
       "Q 27.8 122.7, 28.7 123.8\n",
       "Q 29.6 124.8, 29.6 126.6\n",
       "Q 29.6 128.5, 28.7 129.5\n",
       "Q 27.7 130.6, 26.1 130.6\n",
       "Q 24.4 130.6, 23.5 129.5\n",
       "Q 22.6 128.5, 22.6 126.6\n",
       "M 26.1 129.7\n",
       "Q 27.2 129.7, 27.9 128.9\n",
       "Q 28.5 128.2, 28.5 126.6\n",
       "Q 28.5 125.1, 27.9 124.4\n",
       "Q 27.2 123.6, 26.1 123.6\n",
       "Q 24.9 123.6, 24.3 124.4\n",
       "Q 23.6 125.1, 23.6 126.6\n",
       "Q 23.6 128.2, 24.3 128.9\n",
       "Q 24.9 129.7, 26.1 129.7\n",
       "' fill='#FF0000'/>\n",
       "<path class='atom-4' d='M 64.3 173.2\n",
       "L 68.9 173.2\n",
       "L 68.9 174.1\n",
       "L 65.3 174.1\n",
       "L 65.3 176.4\n",
       "L 68.5 176.4\n",
       "L 68.5 177.3\n",
       "L 65.3 177.3\n",
       "L 65.3 180.8\n",
       "L 64.3 180.8\n",
       "L 64.3 173.2\n",
       "' fill='#33CCCC'/>\n",
       "<path class='atom-5' d='M 64.3 119.2\n",
       "L 68.9 119.2\n",
       "L 68.9 120.0\n",
       "L 65.3 120.0\n",
       "L 65.3 122.4\n",
       "L 68.5 122.4\n",
       "L 68.5 123.2\n",
       "L 65.3 123.2\n",
       "L 65.3 126.8\n",
       "L 64.3 126.8\n",
       "L 64.3 119.2\n",
       "' fill='#33CCCC'/>\n",
       "<path class='atom-7' d='M 91.3 119.2\n",
       "L 95.9 119.2\n",
       "L 95.9 120.0\n",
       "L 92.4 120.0\n",
       "L 92.4 122.4\n",
       "L 95.5 122.4\n",
       "L 95.5 123.2\n",
       "L 92.4 123.2\n",
       "L 92.4 126.8\n",
       "L 91.3 126.8\n",
       "L 91.3 119.2\n",
       "' fill='#33CCCC'/>\n",
       "<path class='atom-8' d='M 91.3 173.2\n",
       "L 95.9 173.2\n",
       "L 95.9 174.1\n",
       "L 92.4 174.1\n",
       "L 92.4 176.4\n",
       "L 95.5 176.4\n",
       "L 95.5 177.3\n",
       "L 92.4 177.3\n",
       "L 92.4 180.8\n",
       "L 91.3 180.8\n",
       "L 91.3 173.2\n",
       "' fill='#33CCCC'/>\n",
       "<path class='atom-10' d='M 118.4 173.2\n",
       "L 122.9 173.2\n",
       "L 122.9 174.1\n",
       "L 119.4 174.1\n",
       "L 119.4 176.4\n",
       "L 122.5 176.4\n",
       "L 122.5 177.3\n",
       "L 119.4 177.3\n",
       "L 119.4 180.8\n",
       "L 118.4 180.8\n",
       "L 118.4 173.2\n",
       "' fill='#33CCCC'/>\n",
       "<path class='atom-11' d='M 118.4 119.2\n",
       "L 122.9 119.2\n",
       "L 122.9 120.0\n",
       "L 119.4 120.0\n",
       "L 119.4 122.4\n",
       "L 122.5 122.4\n",
       "L 122.5 123.2\n",
       "L 119.4 123.2\n",
       "L 119.4 126.8\n",
       "L 118.4 126.8\n",
       "L 118.4 119.2\n",
       "' fill='#33CCCC'/>\n",
       "<path class='atom-13' d='M 145.4 119.2\n",
       "L 149.9 119.2\n",
       "L 149.9 120.0\n",
       "L 146.4 120.0\n",
       "L 146.4 122.4\n",
       "L 149.5 122.4\n",
       "L 149.5 123.2\n",
       "L 146.4 123.2\n",
       "L 146.4 126.8\n",
       "L 145.4 126.8\n",
       "L 145.4 119.2\n",
       "' fill='#33CCCC'/>\n",
       "<path class='atom-14' d='M 145.4 173.2\n",
       "L 149.9 173.2\n",
       "L 149.9 174.1\n",
       "L 146.4 174.1\n",
       "L 146.4 176.4\n",
       "L 149.5 176.4\n",
       "L 149.5 177.3\n",
       "L 146.4 177.3\n",
       "L 146.4 180.8\n",
       "L 145.4 180.8\n",
       "L 145.4 173.2\n",
       "' fill='#33CCCC'/>\n",
       "<path class='atom-16' d='M 172.4 173.2\n",
       "L 176.9 173.2\n",
       "L 176.9 174.1\n",
       "L 173.4 174.1\n",
       "L 173.4 176.4\n",
       "L 176.5 176.4\n",
       "L 176.5 177.3\n",
       "L 173.4 177.3\n",
       "L 173.4 180.8\n",
       "L 172.4 180.8\n",
       "L 172.4 173.2\n",
       "' fill='#33CCCC'/>\n",
       "<path class='atom-17' d='M 172.4 119.2\n",
       "L 176.9 119.2\n",
       "L 176.9 120.0\n",
       "L 173.4 120.0\n",
       "L 173.4 122.4\n",
       "L 176.5 122.4\n",
       "L 176.5 123.2\n",
       "L 173.4 123.2\n",
       "L 173.4 126.8\n",
       "L 172.4 126.8\n",
       "L 172.4 119.2\n",
       "' fill='#33CCCC'/>\n",
       "<path class='atom-19' d='M 199.4 119.2\n",
       "L 204.0 119.2\n",
       "L 204.0 120.0\n",
       "L 200.4 120.0\n",
       "L 200.4 122.4\n",
       "L 203.6 122.4\n",
       "L 203.6 123.2\n",
       "L 200.4 123.2\n",
       "L 200.4 126.8\n",
       "L 199.4 126.8\n",
       "L 199.4 119.2\n",
       "' fill='#33CCCC'/>\n",
       "<path class='atom-20' d='M 199.4 173.2\n",
       "L 204.0 173.2\n",
       "L 204.0 174.1\n",
       "L 200.4 174.1\n",
       "L 200.4 176.4\n",
       "L 203.6 176.4\n",
       "L 203.6 177.3\n",
       "L 200.4 177.3\n",
       "L 200.4 180.8\n",
       "L 199.4 180.8\n",
       "L 199.4 173.2\n",
       "' fill='#33CCCC'/>\n",
       "<path class='atom-22' d='M 226.4 173.2\n",
       "L 231.0 173.2\n",
       "L 231.0 174.1\n",
       "L 227.4 174.1\n",
       "L 227.4 176.4\n",
       "L 230.6 176.4\n",
       "L 230.6 177.3\n",
       "L 227.4 177.3\n",
       "L 227.4 180.8\n",
       "L 226.4 180.8\n",
       "L 226.4 173.2\n",
       "' fill='#33CCCC'/>\n",
       "<path class='atom-23' d='M 226.4 119.2\n",
       "L 231.0 119.2\n",
       "L 231.0 120.0\n",
       "L 227.4 120.0\n",
       "L 227.4 122.4\n",
       "L 230.6 122.4\n",
       "L 230.6 123.2\n",
       "L 227.4 123.2\n",
       "L 227.4 126.8\n",
       "L 226.4 126.8\n",
       "L 226.4 119.2\n",
       "' fill='#33CCCC'/>\n",
       "<path class='atom-25' d='M 280.5 146.2\n",
       "L 285.0 146.2\n",
       "L 285.0 147.0\n",
       "L 281.5 147.0\n",
       "L 281.5 149.4\n",
       "L 284.6 149.4\n",
       "L 284.6 150.3\n",
       "L 281.5 150.3\n",
       "L 281.5 153.8\n",
       "L 280.5 153.8\n",
       "L 280.5 146.2\n",
       "' fill='#33CCCC'/>\n",
       "<path class='atom-26' d='M 253.4 119.2\n",
       "L 258.0 119.2\n",
       "L 258.0 120.0\n",
       "L 254.5 120.0\n",
       "L 254.5 122.4\n",
       "L 257.6 122.4\n",
       "L 257.6 123.2\n",
       "L 254.5 123.2\n",
       "L 254.5 126.8\n",
       "L 253.4 126.8\n",
       "L 253.4 119.2\n",
       "' fill='#33CCCC'/>\n",
       "<path class='atom-27' d='M 253.4 173.2\n",
       "L 258.0 173.2\n",
       "L 258.0 174.1\n",
       "L 254.5 174.1\n",
       "L 254.5 176.4\n",
       "L 257.6 176.4\n",
       "L 257.6 177.3\n",
       "L 254.5 177.3\n",
       "L 254.5 180.8\n",
       "L 253.4 180.8\n",
       "L 253.4 173.2\n",
       "' fill='#33CCCC'/>\n",
       "</svg>\n",
       "</div>"
      ],
      "text/plain": [
       "<IPython.core.display.HTML object>"
      ]
     },
     "metadata": {},
     "output_type": "display_data"
    },
    {
     "data": {
      "text/html": [
       "\n",
       "<h1>Reaction Path #1</h1>\n",
       "<div style='border: solid 1px #ccc; padding: 12px 16px'>\n",
       "<div style='color:#090'><span style='color: #ccc'>+ </span>O=C(O)C(F)(F)C(F)(F)C(F)(F)C(F)(F)C(F)(F)C(F)(F)C(F)(F)C(F)(F)F</div>\n",
       "<div style='border: solid 1px #ccc; padding: 12px 16px'>\n",
       "<div><span style='color: #ccc'>+ </span>CC(C)=O</div>\n",
       "<div><span style='color: #ccc'>+ </span>CC(C)=O.O=S(=O)(O)O.O=[Cr](=O)=O</div>\n",
       "<div><span style='color: #ccc'>+ </span>OCC(F)(F)C(F)(F)C(F)(F)C(F)(F)C(F)(F)C(F)(F)C(F)(F)C(F)(F)F</div>\n",
       "<br><div style='width:300px;height:5px;background:#eee;'><div style='background:#090;width:285.6px;height:100%;'></div></div><span style='color:#090'>95.2%</span> <span style='color:#ccc'>confidence</span>\n",
       "</div>\n",
       "</div>\n",
       "\n",
       "<h1>Reaction Path #2</h1>\n",
       "<div style='border: solid 1px #ccc; padding: 12px 16px'>\n",
       "<div style='color:#090'><span style='color: #ccc'>+ </span>O=C(O)C(F)(F)C(F)(F)C(F)(F)C(F)(F)C(F)(F)C(F)(F)C(F)(F)C(F)(F)F</div>\n",
       "<div style='border: solid 1px #ccc; padding: 12px 16px'>\n",
       "<div style='color:#090'><span style='color: #ccc'>+ </span>N#CC(F)(F)C(F)(F)C(F)(F)C(F)(F)C(F)(F)C(F)(F)C(F)(F)C(F)(F)F</div>\n",
       "<div style='border: solid 1px #ccc; padding: 12px 16px'>\n",
       "<div style='color:#090'><span style='color: #ccc'>+ </span>NC(=O)C(F)(F)C(F)(F)C(F)(F)C(F)(F)C(F)(F)C(F)(F)C(F)(F)C(F)(F)F</div>\n",
       "<div style='border: solid 1px #ccc; padding: 12px 16px'>\n",
       "<div><span style='color: #ccc'>+ </span>COC(=O)C(F)(F)C(F)(F)C(F)(F)C(F)(F)C(F)(F)C(F)(F)C(F)(F)C(F)(F)F</div>\n",
       "<div><span style='color: #ccc'>+ </span>[NH4+].[OH-]</div>\n",
       "<br><div style='width:300px;height:5px;background:#eee;'><div style='background:#090;width:292.79999999999995px;height:100%;'></div></div><span style='color:#090'>97.6%</span> <span style='color:#ccc'>confidence</span>\n",
       "</div>\n",
       "<div><span style='color: #ccc'>+ </span>O.O</div>\n",
       "<div><span style='color: #ccc'>+ </span>O=P(Cl)(Cl)Cl</div>\n",
       "<br><div style='width:300px;height:5px;background:#eee;'><div style='background:#090;width:278.1px;height:100%;'></div></div><span style='color:#090'>92.7%</span> <span style='color:#ccc'>confidence</span>\n",
       "</div>\n",
       "<div><span style='color: #ccc'>+ </span>O</div>\n",
       "<div><span style='color: #ccc'>+ </span>O=S(=O)(O)O</div>\n",
       "<br><div style='width:300px;height:5px;background:#eee;'><div style='background:#090;width:279.6px;height:100%;'></div></div><span style='color:#090'>93.2%</span> <span style='color:#ccc'>confidence</span>\n",
       "</div>\n",
       "</div>\n",
       "\n",
       "<h1>Reaction Path #3</h1>\n",
       "<div style='border: solid 1px #ccc; padding: 12px 16px'>\n",
       "<div style='color:#090'><span style='color: #ccc'>+ </span>O=C(O)C(F)(F)C(F)(F)C(F)(F)C(F)(F)C(F)(F)C(F)(F)C(F)(F)C(F)(F)F</div>\n",
       "<div style='border: solid 1px #ccc; padding: 12px 16px'>\n",
       "<div style='color:#090'><span style='color: #ccc'>+ </span>N#CC(F)(F)C(F)(F)C(F)(F)C(F)(F)C(F)(F)C(F)(F)C(F)(F)C(F)(F)F</div>\n",
       "<div style='border: solid 1px #ccc; padding: 12px 16px'>\n",
       "<div style='color:#090'><span style='color: #ccc'>+ </span>NC(=O)C(F)(F)C(F)(F)C(F)(F)C(F)(F)C(F)(F)C(F)(F)C(F)(F)C(F)(F)F</div>\n",
       "<div style='border: solid 1px #ccc; padding: 12px 16px'>\n",
       "<div><span style='color: #ccc'>+ </span>CCOC(=O)C(F)(F)C(F)(F)C(F)(F)C(F)(F)C(F)(F)C(F)(F)C(F)(F)C(F)(F)F</div>\n",
       "<div><span style='color: #ccc'>+ </span>N</div>\n",
       "<br><div style='width:300px;height:5px;background:#eee;'><div style='background:#090;width:291.6px;height:100%;'></div></div><span style='color:#090'>97.2%</span> <span style='color:#ccc'>confidence</span>\n",
       "</div>\n",
       "<div><span style='color: #ccc'>+ </span>O.O</div>\n",
       "<div><span style='color: #ccc'>+ </span>O=P(Cl)(Cl)Cl</div>\n",
       "<br><div style='width:300px;height:5px;background:#eee;'><div style='background:#090;width:278.1px;height:100%;'></div></div><span style='color:#090'>92.7%</span> <span style='color:#ccc'>confidence</span>\n",
       "</div>\n",
       "<div><span style='color: #ccc'>+ </span>O</div>\n",
       "<div><span style='color: #ccc'>+ </span>O=S(=O)(O)O</div>\n",
       "<br><div style='width:300px;height:5px;background:#eee;'><div style='background:#090;width:279.6px;height:100%;'></div></div><span style='color:#090'>93.2%</span> <span style='color:#ccc'>confidence</span>\n",
       "</div>\n",
       "</div>\n",
       "\n",
       "<h1>Reaction Path #4</h1>\n",
       "<div style='border: solid 1px #ccc; padding: 12px 16px'>\n",
       "<div style='color:#090'><span style='color: #ccc'>+ </span>O=C(O)C(F)(F)C(F)(F)C(F)(F)C(F)(F)C(F)(F)C(F)(F)C(F)(F)C(F)(F)F</div>\n",
       "<div style='border: solid 1px #ccc; padding: 12px 16px'>\n",
       "<div style='color:#090'><span style='color: #ccc'>+ </span>N#CC(F)(F)C(F)(F)C(F)(F)C(F)(F)C(F)(F)C(F)(F)C(F)(F)C(F)(F)F</div>\n",
       "<div style='border: solid 1px #ccc; padding: 12px 16px'>\n",
       "<div style='color:#090'><span style='color: #ccc'>+ </span>NC(=O)C(F)(F)C(F)(F)C(F)(F)C(F)(F)C(F)(F)C(F)(F)C(F)(F)C(F)(F)F</div>\n",
       "<div style='border: solid 1px #ccc; padding: 12px 16px'>\n",
       "<div><span style='color: #ccc'>+ </span>COC(=O)C(F)(F)C(F)(F)C(F)(F)C(F)(F)C(F)(F)C(F)(F)C(F)(F)C(F)(F)F</div>\n",
       "<div><span style='color: #ccc'>+ </span>N</div>\n",
       "<br><div style='width:300px;height:5px;background:#eee;'><div style='background:#090;width:291.6px;height:100%;'></div></div><span style='color:#090'>97.2%</span> <span style='color:#ccc'>confidence</span>\n",
       "</div>\n",
       "<div><span style='color: #ccc'>+ </span>O.O</div>\n",
       "<div><span style='color: #ccc'>+ </span>O=P(Cl)(Cl)Cl</div>\n",
       "<br><div style='width:300px;height:5px;background:#eee;'><div style='background:#090;width:278.1px;height:100%;'></div></div><span style='color:#090'>92.7%</span> <span style='color:#ccc'>confidence</span>\n",
       "</div>\n",
       "<div><span style='color: #ccc'>+ </span>O</div>\n",
       "<div><span style='color: #ccc'>+ </span>O=S(=O)(O)O</div>\n",
       "<br><div style='width:300px;height:5px;background:#eee;'><div style='background:#090;width:279.6px;height:100%;'></div></div><span style='color:#090'>93.2%</span> <span style='color:#ccc'>confidence</span>\n",
       "</div>\n",
       "</div>\n",
       "\n",
       "<h1>Reaction Path #5</h1>\n",
       "<div style='border: solid 1px #ccc; padding: 12px 16px'>\n",
       "<div style='color:#090'><span style='color: #ccc'>+ </span>O=C(O)C(F)(F)C(F)(F)C(F)(F)C(F)(F)C(F)(F)C(F)(F)C(F)(F)C(F)(F)F</div>\n",
       "<div style='border: solid 1px #ccc; padding: 12px 16px'>\n",
       "<div style='color:#090'><span style='color: #ccc'>+ </span>N#CC(F)(F)C(F)(F)C(F)(F)C(F)(F)C(F)(F)C(F)(F)C(F)(F)C(F)(F)F</div>\n",
       "<div style='border: solid 1px #ccc; padding: 12px 16px'>\n",
       "<div style='color:#090'><span style='color: #ccc'>+ </span>NC(=O)C(F)(F)C(F)(F)C(F)(F)C(F)(F)C(F)(F)C(F)(F)C(F)(F)C(F)(F)F</div>\n",
       "<div style='border: solid 1px #ccc; padding: 12px 16px'>\n",
       "<div><span style='color: #ccc'>+ </span>CO.N</div>\n",
       "<div><span style='color: #ccc'>+ </span>COC(=O)C(F)(F)C(F)(F)C(F)(F)C(F)(F)C(F)(F)C(F)(F)C(F)(F)C(F)(F)F</div>\n",
       "<br><div style='width:300px;height:5px;background:#eee;'><div style='background:#090;width:291.29999999999995px;height:100%;'></div></div><span style='color:#090'>97.1%</span> <span style='color:#ccc'>confidence</span>\n",
       "</div>\n",
       "<div><span style='color: #ccc'>+ </span>O.O</div>\n",
       "<div><span style='color: #ccc'>+ </span>O=P(Cl)(Cl)Cl</div>\n",
       "<br><div style='width:300px;height:5px;background:#eee;'><div style='background:#090;width:278.1px;height:100%;'></div></div><span style='color:#090'>92.7%</span> <span style='color:#ccc'>confidence</span>\n",
       "</div>\n",
       "<div><span style='color: #ccc'>+ </span>O</div>\n",
       "<div><span style='color: #ccc'>+ </span>O=S(=O)(O)O</div>\n",
       "<br><div style='width:300px;height:5px;background:#eee;'><div style='background:#090;width:279.6px;height:100%;'></div></div><span style='color:#090'>93.2%</span> <span style='color:#ccc'>confidence</span>\n",
       "</div>\n",
       "</div>\n",
       "\n",
       "<h1>Reaction Path #6</h1>\n",
       "<div style='border: solid 1px #ccc; padding: 12px 16px'>\n",
       "<div style='color:#dc0'><span style='color: #ccc'>+ </span>O=C(O)C(F)(F)C(F)(F)C(F)(F)C(F)(F)C(F)(F)C(F)(F)C(F)(F)C(F)(F)F</div>\n",
       "<div style='border: solid 1px #ccc; padding: 12px 16px'>\n",
       "<div><span style='color: #ccc'>+ </span>CO</div>\n",
       "<div><span style='color: #ccc'>+ </span>COC(=O)C(F)(F)C(F)(F)C(F)(F)C(F)(F)C(F)(F)C(F)(F)C(F)(F)C(F)(F)F</div>\n",
       "<div><span style='color: #ccc'>+ </span>O</div>\n",
       "<div><span style='color: #ccc'>+ </span>O[Na]</div>\n",
       "<br><div style='width:300px;height:5px;background:#eee;'><div style='background:#dc0;width:249.29999999999998px;height:100%;'></div></div><span style='color:#dc0'>83.1%</span> <span style='color:#ccc'>confidence</span>\n",
       "</div>\n",
       "</div>\n",
       "\n",
       "<h1>Reaction Path #7</h1>\n",
       "<div style='border: solid 1px #ccc; padding: 12px 16px'>\n",
       "<div style='color:#090'><span style='color: #ccc'>+ </span>O=C(O)C(F)(F)C(F)(F)C(F)(F)C(F)(F)C(F)(F)C(F)(F)C(F)(F)C(F)(F)F</div>\n",
       "<div style='border: solid 1px #ccc; padding: 12px 16px'>\n",
       "<div style='color:#090'><span style='color: #ccc'>+ </span>N#CC(F)(F)C(F)(F)C(F)(F)C(F)(F)C(F)(F)C(F)(F)C(F)(F)C(F)(F)F</div>\n",
       "<div style='border: solid 1px #ccc; padding: 12px 16px'>\n",
       "<div style='color:#090'><span style='color: #ccc'>+ </span>NC(=O)C(F)(F)C(F)(F)C(F)(F)C(F)(F)C(F)(F)C(F)(F)C(F)(F)C(F)(F)F</div>\n",
       "<div style='border: solid 1px #ccc; padding: 12px 16px'>\n",
       "<div><span style='color: #ccc'>+ </span>CO</div>\n",
       "<div><span style='color: #ccc'>+ </span>COC(=O)C(F)(F)C(F)(F)C(F)(F)C(F)(F)C(F)(F)C(F)(F)C(F)(F)C(F)(F)F</div>\n",
       "<div><span style='color: #ccc'>+ </span>N</div>\n",
       "<br><div style='width:300px;height:5px;background:#eee;'><div style='background:#090;width:279.6px;height:100%;'></div></div><span style='color:#090'>93.2%</span> <span style='color:#ccc'>confidence</span>\n",
       "</div>\n",
       "<div><span style='color: #ccc'>+ </span>O.O</div>\n",
       "<div><span style='color: #ccc'>+ </span>O=P(Cl)(Cl)Cl</div>\n",
       "<br><div style='width:300px;height:5px;background:#eee;'><div style='background:#090;width:278.1px;height:100%;'></div></div><span style='color:#090'>92.7%</span> <span style='color:#ccc'>confidence</span>\n",
       "</div>\n",
       "<div><span style='color: #ccc'>+ </span>O</div>\n",
       "<div><span style='color: #ccc'>+ </span>O=S(=O)(O)O</div>\n",
       "<br><div style='width:300px;height:5px;background:#eee;'><div style='background:#090;width:279.6px;height:100%;'></div></div><span style='color:#090'>93.2%</span> <span style='color:#ccc'>confidence</span>\n",
       "</div>\n",
       "</div>\n",
       "\n",
       "<h1>Reaction Path #8</h1>\n",
       "<div style='border: solid 1px #ccc; padding: 12px 16px'>\n",
       "<div style='color:#dc0'><span style='color: #ccc'>+ </span>O=C(O)C(F)(F)C(F)(F)C(F)(F)C(F)(F)C(F)(F)C(F)(F)C(F)(F)C(F)(F)F</div>\n",
       "<div style='border: solid 1px #ccc; padding: 12px 16px'>\n",
       "<div><span style='color: #ccc'>+ </span>CCOC(=O)C(F)(F)C(F)(F)C(F)(F)C(F)(F)C(F)(F)C(F)(F)C(F)(F)C(F)(F)F</div>\n",
       "<div><span style='color: #ccc'>+ </span>CO</div>\n",
       "<div><span style='color: #ccc'>+ </span>O</div>\n",
       "<div><span style='color: #ccc'>+ </span>O[K]</div>\n",
       "<br><div style='width:300px;height:5px;background:#eee;'><div style='background:#dc0;width:226.5px;height:100%;'></div></div><span style='color:#dc0'>75.5%</span> <span style='color:#ccc'>confidence</span>\n",
       "</div>\n",
       "</div>\n",
       "\n",
       "<h1>Reaction Path #9</h1>\n",
       "<div style='border: solid 1px #ccc; padding: 12px 16px'>\n",
       "<div style='color:#090'><span style='color: #ccc'>+ </span>O=C(O)C(F)(F)C(F)(F)C(F)(F)C(F)(F)C(F)(F)C(F)(F)C(F)(F)C(F)(F)F</div>\n",
       "<div style='border: solid 1px #ccc; padding: 12px 16px'>\n",
       "<div style='color:#090'><span style='color: #ccc'>+ </span>N#CC(F)(F)C(F)(F)C(F)(F)C(F)(F)C(F)(F)C(F)(F)C(F)(F)C(F)(F)F</div>\n",
       "<div style='border: solid 1px #ccc; padding: 12px 16px'>\n",
       "<div style='color:#090'><span style='color: #ccc'>+ </span>NC(=O)C(F)(F)C(F)(F)C(F)(F)C(F)(F)C(F)(F)C(F)(F)C(F)(F)C(F)(F)F</div>\n",
       "<div style='border: solid 1px #ccc; padding: 12px 16px'>\n",
       "<div style='color:#090'><span style='color: #ccc'>+ </span>O=C(F)C(F)(F)C(F)(F)C(F)(F)C(F)(F)C(F)(F)C(F)(F)C(F)(F)C(F)(F)F</div>\n",
       "<div style='border: solid 1px #ccc; padding: 12px 16px'>\n",
       "<div><span style='color: #ccc'>+ </span>O=C(Cl)C(F)(F)C(F)(F)C(F)(F)C(F)(F)C(F)(F)C(F)(F)C(F)(F)C(F)(F)F</div>\n",
       "<div><span style='color: #ccc'>+ </span>[F-].[K+]</div>\n",
       "<br><div style='width:300px;height:5px;background:#eee;'><div style='background:#090;width:274.5px;height:100%;'></div></div><span style='color:#090'>91.5%</span> <span style='color:#ccc'>confidence</span>\n",
       "</div>\n",
       "<div><span style='color: #ccc'>+ </span>[NH4+].[OH-]</div>\n",
       "<br><div style='width:300px;height:5px;background:#eee;'><div style='background:#090;width:280.79999999999995px;height:100%;'></div></div><span style='color:#090'>93.6%</span> <span style='color:#ccc'>confidence</span>\n",
       "</div>\n",
       "<div><span style='color: #ccc'>+ </span>O.O</div>\n",
       "<div><span style='color: #ccc'>+ </span>O=P(Cl)(Cl)Cl</div>\n",
       "<br><div style='width:300px;height:5px;background:#eee;'><div style='background:#090;width:278.1px;height:100%;'></div></div><span style='color:#090'>92.7%</span> <span style='color:#ccc'>confidence</span>\n",
       "</div>\n",
       "<div><span style='color: #ccc'>+ </span>O</div>\n",
       "<div><span style='color: #ccc'>+ </span>O=S(=O)(O)O</div>\n",
       "<br><div style='width:300px;height:5px;background:#eee;'><div style='background:#090;width:279.6px;height:100%;'></div></div><span style='color:#090'>93.2%</span> <span style='color:#ccc'>confidence</span>\n",
       "</div>\n",
       "</div>\n",
       "\n",
       "<h1>Reaction Path #10</h1>\n",
       "<div style='border: solid 1px #ccc; padding: 12px 16px'>\n",
       "<div style='color:#dc0'><span style='color: #ccc'>+ </span>O=C(O)C(F)(F)C(F)(F)C(F)(F)C(F)(F)C(F)(F)C(F)(F)C(F)(F)C(F)(F)F</div>\n",
       "<div style='border: solid 1px #ccc; padding: 12px 16px'>\n",
       "<div><span style='color: #ccc'>+ </span>CO</div>\n",
       "<div><span style='color: #ccc'>+ </span>COC(=O)C(F)(F)C(F)(F)C(F)(F)C(F)(F)C(F)(F)C(F)(F)C(F)(F)C(F)(F)F</div>\n",
       "<div><span style='color: #ccc'>+ </span>O[Na]</div>\n",
       "<br><div style='width:300px;height:5px;background:#eee;'><div style='background:#dc0;width:216.0px;height:100%;'></div></div><span style='color:#dc0'>72.0%</span> <span style='color:#ccc'>confidence</span>\n",
       "</div>\n",
       "</div>\n",
       "\n",
       "<h1>Reaction Path #11</h1>\n",
       "<div style='border: solid 1px #ccc; padding: 12px 16px'>\n",
       "<div style='color:#dc0'><span style='color: #ccc'>+ </span>O=C(O)C(F)(F)C(F)(F)C(F)(F)C(F)(F)C(F)(F)C(F)(F)C(F)(F)C(F)(F)F</div>\n",
       "<div style='border: solid 1px #ccc; padding: 12px 16px'>\n",
       "<div><span style='color: #ccc'>+ </span>CO</div>\n",
       "<div><span style='color: #ccc'>+ </span>COC(=O)C(F)(F)C(F)(F)C(F)(F)C(F)(F)C(F)(F)C(F)(F)C(F)(F)C(F)(F)F</div>\n",
       "<div><span style='color: #ccc'>+ </span>O</div>\n",
       "<div><span style='color: #ccc'>+ </span>O[K]</div>\n",
       "<br><div style='width:300px;height:5px;background:#eee;'><div style='background:#dc0;width:215.10000000000002px;height:100%;'></div></div><span style='color:#dc0'>71.7%</span> <span style='color:#ccc'>confidence</span>\n",
       "</div>\n",
       "</div>\n",
       "\n",
       "<h1>Reaction Path #12</h1>\n",
       "<div style='border: solid 1px #ccc; padding: 12px 16px'>\n",
       "<div style='color:#090'><span style='color: #ccc'>+ </span>O=C(O)C(F)(F)C(F)(F)C(F)(F)C(F)(F)C(F)(F)C(F)(F)C(F)(F)C(F)(F)F</div>\n",
       "<div style='border: solid 1px #ccc; padding: 12px 16px'>\n",
       "<div style='color:#090'><span style='color: #ccc'>+ </span>N#CC(F)(F)C(F)(F)C(F)(F)C(F)(F)C(F)(F)C(F)(F)C(F)(F)C(F)(F)F</div>\n",
       "<div style='border: solid 1px #ccc; padding: 12px 16px'>\n",
       "<div style='color:#dc0'><span style='color: #ccc'>+ </span>NC(=O)C(F)(F)C(F)(F)C(F)(F)C(F)(F)C(F)(F)C(F)(F)C(F)(F)C(F)(F)F</div>\n",
       "<div style='border: solid 1px #ccc; padding: 12px 16px'>\n",
       "<div><span style='color: #ccc'>+ </span>N</div>\n",
       "<div><span style='color: #ccc'>+ </span>O=C(Cl)C(F)(F)C(F)(F)C(F)(F)C(F)(F)C(F)(F)C(F)(F)C(F)(F)C(F)(F)F</div>\n",
       "<br><div style='width:300px;height:5px;background:#eee;'><div style='background:#dc0;width:248.70000000000002px;height:100%;'></div></div><span style='color:#dc0'>82.9%</span> <span style='color:#ccc'>confidence</span>\n",
       "</div>\n",
       "<div><span style='color: #ccc'>+ </span>O.O</div>\n",
       "<div><span style='color: #ccc'>+ </span>O=P(Cl)(Cl)Cl</div>\n",
       "<br><div style='width:300px;height:5px;background:#eee;'><div style='background:#090;width:278.1px;height:100%;'></div></div><span style='color:#090'>92.7%</span> <span style='color:#ccc'>confidence</span>\n",
       "</div>\n",
       "<div><span style='color: #ccc'>+ </span>O</div>\n",
       "<div><span style='color: #ccc'>+ </span>O=S(=O)(O)O</div>\n",
       "<br><div style='width:300px;height:5px;background:#eee;'><div style='background:#090;width:279.6px;height:100%;'></div></div><span style='color:#090'>93.2%</span> <span style='color:#ccc'>confidence</span>\n",
       "</div>\n",
       "</div>\n",
       "\n",
       "<h1>Reaction Path #13</h1>\n",
       "<div style='border: solid 1px #ccc; padding: 12px 16px'>\n",
       "<div style='color:#090'><span style='color: #ccc'>+ </span>O=C(O)C(F)(F)C(F)(F)C(F)(F)C(F)(F)C(F)(F)C(F)(F)C(F)(F)C(F)(F)F</div>\n",
       "<div style='border: solid 1px #ccc; padding: 12px 16px'>\n",
       "<div style='color:#090'><span style='color: #ccc'>+ </span>N#CC(F)(F)C(F)(F)C(F)(F)C(F)(F)C(F)(F)C(F)(F)C(F)(F)C(F)(F)F</div>\n",
       "<div style='border: solid 1px #ccc; padding: 12px 16px'>\n",
       "<div style='color:#090'><span style='color: #ccc'>+ </span>NC(=O)C(F)(F)C(F)(F)C(F)(F)C(F)(F)C(F)(F)C(F)(F)C(F)(F)C(F)(F)F</div>\n",
       "<div style='border: solid 1px #ccc; padding: 12px 16px'>\n",
       "<div style='color:#dc0'><span style='color: #ccc'>+ </span>O=C(F)C(F)(F)C(F)(F)C(F)(F)C(F)(F)C(F)(F)C(F)(F)C(F)(F)C(F)(F)F</div>\n",
       "<div style='border: solid 1px #ccc; padding: 12px 16px'>\n",
       "<div><span style='color: #ccc'>+ </span>COC(=O)C(F)(F)C(F)(F)C(F)(F)C(F)(F)C(F)(F)C(F)(F)C(F)(F)C(F)(F)F</div>\n",
       "<div><span style='color: #ccc'>+ </span>F[K]</div>\n",
       "<br><div style='width:300px;height:5px;background:#eee;'><div style='background:#dc0;width:261.9px;height:100%;'></div></div><span style='color:#dc0'>87.3%</span> <span style='color:#ccc'>confidence</span>\n",
       "</div>\n",
       "<div><span style='color: #ccc'>+ </span>[NH4+].[OH-]</div>\n",
       "<br><div style='width:300px;height:5px;background:#eee;'><div style='background:#090;width:280.79999999999995px;height:100%;'></div></div><span style='color:#090'>93.6%</span> <span style='color:#ccc'>confidence</span>\n",
       "</div>\n",
       "<div><span style='color: #ccc'>+ </span>O.O</div>\n",
       "<div><span style='color: #ccc'>+ </span>O=P(Cl)(Cl)Cl</div>\n",
       "<br><div style='width:300px;height:5px;background:#eee;'><div style='background:#090;width:278.1px;height:100%;'></div></div><span style='color:#090'>92.7%</span> <span style='color:#ccc'>confidence</span>\n",
       "</div>\n",
       "<div><span style='color: #ccc'>+ </span>O</div>\n",
       "<div><span style='color: #ccc'>+ </span>O=S(=O)(O)O</div>\n",
       "<br><div style='width:300px;height:5px;background:#eee;'><div style='background:#090;width:279.6px;height:100%;'></div></div><span style='color:#090'>93.2%</span> <span style='color:#ccc'>confidence</span>\n",
       "</div>\n",
       "</div>\n",
       "\n",
       "<h1>Reaction Path #14</h1>\n",
       "<div style='border: solid 1px #ccc; padding: 12px 16px'>\n",
       "<div style='color:#090'><span style='color: #ccc'>+ </span>O=C(O)C(F)(F)C(F)(F)C(F)(F)C(F)(F)C(F)(F)C(F)(F)C(F)(F)C(F)(F)F</div>\n",
       "<div style='border: solid 1px #ccc; padding: 12px 16px'>\n",
       "<div style='color:#dc0'><span style='color: #ccc'>+ </span>N#CC(F)(F)C(F)(F)C(F)(F)C(F)(F)C(F)(F)C(F)(F)C(F)(F)C(F)(F)F</div>\n",
       "<div style='border: solid 1px #ccc; padding: 12px 16px'>\n",
       "<div><span style='color: #ccc'>+ </span>CN(C)C=O</div>\n",
       "<div><span style='color: #ccc'>+ </span>FC(F)(F)C(F)(F)C(F)(F)C(F)(F)C(F)(F)C(F)(F)C(F)(F)C(F)(F)I</div>\n",
       "<div><span style='color: #ccc'>+ </span>[C-]#N.[C-]#N.[Cu+2]</div>\n",
       "<br><div style='width:300px;height:5px;background:#eee;'><div style='background:#dc0;width:211.5px;height:100%;'></div></div><span style='color:#dc0'>70.5%</span> <span style='color:#ccc'>confidence</span>\n",
       "</div>\n",
       "<div><span style='color: #ccc'>+ </span>O</div>\n",
       "<div><span style='color: #ccc'>+ </span>O=S(=O)(O)O</div>\n",
       "<br><div style='width:300px;height:5px;background:#eee;'><div style='background:#090;width:279.6px;height:100%;'></div></div><span style='color:#090'>93.2%</span> <span style='color:#ccc'>confidence</span>\n",
       "</div>\n",
       "</div>\n",
       "\n",
       "<h1>Reaction Path #15</h1>\n",
       "<div style='border: solid 1px #ccc; padding: 12px 16px'>\n",
       "<div style='color:#090'><span style='color: #ccc'>+ </span>O=C(O)C(F)(F)C(F)(F)C(F)(F)C(F)(F)C(F)(F)C(F)(F)C(F)(F)C(F)(F)F</div>\n",
       "<div style='border: solid 1px #ccc; padding: 12px 16px'>\n",
       "<div style='color:#090'><span style='color: #ccc'>+ </span>N#CC(F)(F)C(F)(F)C(F)(F)C(F)(F)C(F)(F)C(F)(F)C(F)(F)C(F)(F)F</div>\n",
       "<div style='border: solid 1px #ccc; padding: 12px 16px'>\n",
       "<div style='color:#090'><span style='color: #ccc'>+ </span>NC(=O)C(F)(F)C(F)(F)C(F)(F)C(F)(F)C(F)(F)C(F)(F)C(F)(F)C(F)(F)F</div>\n",
       "<div style='border: solid 1px #ccc; padding: 12px 16px'>\n",
       "<div style='color:#dc0'><span style='color: #ccc'>+ </span>O=C(F)C(F)(F)C(F)(F)C(F)(F)C(F)(F)C(F)(F)C(F)(F)C(F)(F)C(F)(F)F</div>\n",
       "<div style='border: solid 1px #ccc; padding: 12px 16px'>\n",
       "<div><span style='color: #ccc'>+ </span>F[K]</div>\n",
       "<div><span style='color: #ccc'>+ </span>O=C(Cl)C(F)(F)C(F)(F)C(F)(F)C(F)(F)C(F)(F)C(F)(F)C(F)(F)F</div>\n",
       "<br><div style='width:300px;height:5px;background:#eee;'><div style='background:#dc0;width:209.39999999999998px;height:100%;'></div></div><span style='color:#dc0'>69.8%</span> <span style='color:#ccc'>confidence</span>\n",
       "</div>\n",
       "<div><span style='color: #ccc'>+ </span>[NH4+].[OH-]</div>\n",
       "<br><div style='width:300px;height:5px;background:#eee;'><div style='background:#090;width:280.79999999999995px;height:100%;'></div></div><span style='color:#090'>93.6%</span> <span style='color:#ccc'>confidence</span>\n",
       "</div>\n",
       "<div><span style='color: #ccc'>+ </span>O.O</div>\n",
       "<div><span style='color: #ccc'>+ </span>O=P(Cl)(Cl)Cl</div>\n",
       "<br><div style='width:300px;height:5px;background:#eee;'><div style='background:#090;width:278.1px;height:100%;'></div></div><span style='color:#090'>92.7%</span> <span style='color:#ccc'>confidence</span>\n",
       "</div>\n",
       "<div><span style='color: #ccc'>+ </span>O</div>\n",
       "<div><span style='color: #ccc'>+ </span>O=S(=O)(O)O</div>\n",
       "<br><div style='width:300px;height:5px;background:#eee;'><div style='background:#090;width:279.6px;height:100%;'></div></div><span style='color:#090'>93.2%</span> <span style='color:#ccc'>confidence</span>\n",
       "</div>\n",
       "</div>\n",
       "\n",
       "<h1>Reaction Path #16</h1>\n",
       "<div style='border: solid 1px #ccc; padding: 12px 16px'>\n",
       "<div style='color:#090'><span style='color: #ccc'>+ </span>O=C(O)C(F)(F)C(F)(F)C(F)(F)C(F)(F)C(F)(F)C(F)(F)C(F)(F)C(F)(F)F</div>\n",
       "<div style='border: solid 1px #ccc; padding: 12px 16px'>\n",
       "<div style='color:#090'><span style='color: #ccc'>+ </span>N#CC(F)(F)C(F)(F)C(F)(F)C(F)(F)C(F)(F)C(F)(F)C(F)(F)C(F)(F)F</div>\n",
       "<div style='border: solid 1px #ccc; padding: 12px 16px'>\n",
       "<div style='color:#090'><span style='color: #ccc'>+ </span>NC(=O)C(F)(F)C(F)(F)C(F)(F)C(F)(F)C(F)(F)C(F)(F)C(F)(F)C(F)(F)F</div>\n",
       "<div style='border: solid 1px #ccc; padding: 12px 16px'>\n",
       "<div style='color:#dc0'><span style='color: #ccc'>+ </span>O=C(F)C(F)(F)C(F)(F)C(F)(F)C(F)(F)C(F)(F)C(F)(F)C(F)(F)C(F)(F)F</div>\n",
       "<div style='border: solid 1px #ccc; padding: 12px 16px'>\n",
       "<div><span style='color: #ccc'>+ </span>COC(=O)C(F)(F)C(F)(F)C(F)(F)C(F)(F)C(F)(F)C(F)(F)C(F)(F)C(F)(F)F</div>\n",
       "<div><span style='color: #ccc'>+ </span>F</div>\n",
       "<br><div style='width:300px;height:5px;background:#eee;'><div style='background:#dc0;width:201.60000000000002px;height:100%;'></div></div><span style='color:#dc0'>67.2%</span> <span style='color:#ccc'>confidence</span>\n",
       "</div>\n",
       "<div><span style='color: #ccc'>+ </span>[NH4+].[OH-]</div>\n",
       "<br><div style='width:300px;height:5px;background:#eee;'><div style='background:#090;width:280.79999999999995px;height:100%;'></div></div><span style='color:#090'>93.6%</span> <span style='color:#ccc'>confidence</span>\n",
       "</div>\n",
       "<div><span style='color: #ccc'>+ </span>O.O</div>\n",
       "<div><span style='color: #ccc'>+ </span>O=P(Cl)(Cl)Cl</div>\n",
       "<br><div style='width:300px;height:5px;background:#eee;'><div style='background:#090;width:278.1px;height:100%;'></div></div><span style='color:#090'>92.7%</span> <span style='color:#ccc'>confidence</span>\n",
       "</div>\n",
       "<div><span style='color: #ccc'>+ </span>O</div>\n",
       "<div><span style='color: #ccc'>+ </span>O=S(=O)(O)O</div>\n",
       "<br><div style='width:300px;height:5px;background:#eee;'><div style='background:#090;width:279.6px;height:100%;'></div></div><span style='color:#090'>93.2%</span> <span style='color:#ccc'>confidence</span>\n",
       "</div>\n",
       "</div>"
      ],
      "text/plain": [
       "<IPython.core.display.HTML object>"
      ]
     },
     "metadata": {},
     "output_type": "display_data"
    },
    {
     "data": {
      "text/markdown": [
       "<span style=\"color: #d00\">No matching analysis results found for any of the molecules in your working set</span> <br> \n"
      ],
      "text/plain": [
       "<IPython.core.display.Markdown object>"
      ]
     },
     "execution_count": 25,
     "metadata": {},
     "output_type": "execute_result"
    }
   ],
   "source": [
    "%openad rxn predict retrosynthesis  'O=C(O)C(F)(F)C(F)(F)C(F)(F)C(F)(F)C(F)(F)C(F)(F)C(F)(F)C(F)(F)F'\n",
    "%openad enrich molecules with analysis"
   ]
  },
  {
   "cell_type": "code",
   "execution_count": 26,
   "id": "211cdf90-874e-4153-8fd9-e1c9b34e3ce1",
   "metadata": {
    "execution": {
     "iopub.execute_input": "2025-02-05T04:25:04.829090Z",
     "iopub.status.busy": "2025-02-05T04:25:04.828774Z",
     "iopub.status.idle": "2025-02-05T04:25:04.980240Z",
     "shell.execute_reply": "2025-02-05T04:25:04.979415Z",
     "shell.execute_reply.started": "2025-02-05T04:25:04.829065Z"
    },
    "tags": []
   },
   "outputs": [
    {
     "data": {
      "application/3dmoljs_load.v0": "<div id=\"3dmolviewer_1738729504955255\"  style=\"position: relative; width: 700px; height: 500px;\">\n        <p id=\"3dmolwarning_1738729504955255\" style=\"background-color:#ffcccc;color:black\">3Dmol.js failed to load for some reason.  Please check your browser console for error messages.<br></p>\n        </div>\n<script>\n\nvar loadScriptAsync = function(uri){\n  return new Promise((resolve, reject) => {\n    //this is to ignore the existence of requirejs amd\n    var savedexports, savedmodule;\n    if (typeof exports !== 'undefined') savedexports = exports;\n    else exports = {}\n    if (typeof module !== 'undefined') savedmodule = module;\n    else module = {}\n\n    var tag = document.createElement('script');\n    tag.src = uri;\n    tag.async = true;\n    tag.onload = () => {\n        exports = savedexports;\n        module = savedmodule;\n        resolve();\n    };\n  var firstScriptTag = document.getElementsByTagName('script')[0];\n  firstScriptTag.parentNode.insertBefore(tag, firstScriptTag);\n});\n};\n\nif(typeof $3Dmolpromise === 'undefined') {\n$3Dmolpromise = null;\n  $3Dmolpromise = loadScriptAsync('https://cdnjs.cloudflare.com/ajax/libs/3Dmol/2.4.0/3Dmol-min.js');\n}\n\nvar viewer_1738729504955255 = null;\nvar warn = document.getElementById(\"3dmolwarning_1738729504955255\");\nif(warn) {\n    warn.parentNode.removeChild(warn);\n}\n$3Dmolpromise.then(function() {\nviewer_1738729504955255 = $3Dmol.createViewer(document.getElementById(\"3dmolviewer_1738729504955255\"),{backgroundColor:\"white\"});\nviewer_1738729504955255.zoomTo();\n\tviewer_1738729504955255.addModel(\"\\n     RDKit          3D\\n\\n 29 28  0  0  0  0  0  0  0  0999 V2000\\n    5.0047    1.1926    1.3668 O   0  0  0  0  0  0  0  0  0  0  0  0\\n    4.5422    0.9041    0.2723 C   0  0  0  0  0  0  0  0  0  0  0  0\\n    5.3843    0.6844   -0.7639 O   0  0  0  0  0  0  0  0  0  0  0  0\\n    3.0725    0.7512   -0.0779 C   0  0  0  0  0  0  0  0  0  0  0  0\\n    2.8440    0.9056   -1.4148 F   0  0  0  0  0  0  0  0  0  0  0  0\\n    2.3217    1.7093    0.5365 F   0  0  0  0  0  0  0  0  0  0  0  0\\n    2.6319   -0.6274    0.3691 C   0  0  0  0  0  0  0  0  0  0  0  0\\n    2.6600   -0.7103    1.7309 F   0  0  0  0  0  0  0  0  0  0  0  0\\n    3.5384   -1.5621   -0.0623 F   0  0  0  0  0  0  0  0  0  0  0  0\\n    1.2610   -1.0429   -0.1405 C   0  0  0  0  0  0  0  0  0  0  0  0\\n    1.2886   -1.1657   -1.4982 F   0  0  0  0  0  0  0  0  0  0  0  0\\n    1.0117   -2.3053    0.3267 F   0  0  0  0  0  0  0  0  0  0  0  0\\n    0.1264   -0.1211    0.2667 C   0  0  0  0  0  0  0  0  0  0  0  0\\n    0.1899    0.1284    1.6011 F   0  0  0  0  0  0  0  0  0  0  0  0\\n    0.2710    1.0809   -0.3519 F   0  0  0  0  0  0  0  0  0  0  0  0\\n   -1.2271   -0.7149   -0.0916 C   0  0  0  0  0  0  0  0  0  0  0  0\\n   -1.2722   -0.9918   -1.4229 F   0  0  0  0  0  0  0  0  0  0  0  0\\n   -1.3977   -1.9043    0.5465 F   0  0  0  0  0  0  0  0  0  0  0  0\\n   -2.3555    0.2317    0.2788 C   0  0  0  0  0  0  0  0  0  0  0  0\\n   -2.3027    0.5157    1.6087 F   0  0  0  0  0  0  0  0  0  0  0  0\\n   -2.1928    1.4208   -0.3627 F   0  0  0  0  0  0  0  0  0  0  0  0\\n   -3.6997   -0.3643   -0.0710 C   0  0  0  0  0  0  0  0  0  0  0  0\\n   -3.8785   -1.5524    0.5733 F   0  0  0  0  0  0  0  0  0  0  0  0\\n   -3.7641   -0.6488   -1.4028 F   0  0  0  0  0  0  0  0  0  0  0  0\\n   -4.8033    0.6035    0.3080 C   0  0  0  0  0  0  0  0  0  0  0  0\\n   -6.0254    0.0968    0.0066 F   0  0  0  0  0  0  0  0  0  0  0  0\\n   -4.7002    1.7838   -0.3459 F   0  0  0  0  0  0  0  0  0  0  0  0\\n   -4.8132    0.8798    1.6327 F   0  0  0  0  0  0  0  0  0  0  0  0\\n    6.2843    0.8227   -0.3964 H   0  0  0  0  0  0  0  0  0  0  0  0\\n  1  2  2  0\\n  2  3  1  0\\n  2  4  1  0\\n  4  5  1  0\\n  4  6  1  0\\n  4  7  1  0\\n  7  8  1  0\\n  7  9  1  0\\n  7 10  1  0\\n 10 11  1  0\\n 10 12  1  0\\n 10 13  1  0\\n 13 14  1  0\\n 13 15  1  0\\n 13 16  1  0\\n 16 17  1  0\\n 16 18  1  0\\n 16 19  1  0\\n 19 20  1  0\\n 19 21  1  0\\n 19 22  1  0\\n 22 23  1  0\\n 22 24  1  0\\n 22 25  1  0\\n 25 26  1  0\\n 25 27  1  0\\n 25 28  1  0\\n  3 29  1  0\\nM  END\\n\",\"mol\");\n\tviewer_1738729504955255.setStyle({\"stick\": {\"model\": -1}});\n\tviewer_1738729504955255.zoomTo();\n\tviewer_1738729504955255.animate({\"loop\": \"forward\"});\nviewer_1738729504955255.render();\n});\n</script>",
      "text/html": [
       "<div id=\"3dmolviewer_1738729504955255\"  style=\"position: relative; width: 700px; height: 500px;\">\n",
       "        <p id=\"3dmolwarning_1738729504955255\" style=\"background-color:#ffcccc;color:black\">3Dmol.js failed to load for some reason.  Please check your browser console for error messages.<br></p>\n",
       "        </div>\n",
       "<script>\n",
       "\n",
       "var loadScriptAsync = function(uri){\n",
       "  return new Promise((resolve, reject) => {\n",
       "    //this is to ignore the existence of requirejs amd\n",
       "    var savedexports, savedmodule;\n",
       "    if (typeof exports !== 'undefined') savedexports = exports;\n",
       "    else exports = {}\n",
       "    if (typeof module !== 'undefined') savedmodule = module;\n",
       "    else module = {}\n",
       "\n",
       "    var tag = document.createElement('script');\n",
       "    tag.src = uri;\n",
       "    tag.async = true;\n",
       "    tag.onload = () => {\n",
       "        exports = savedexports;\n",
       "        module = savedmodule;\n",
       "        resolve();\n",
       "    };\n",
       "  var firstScriptTag = document.getElementsByTagName('script')[0];\n",
       "  firstScriptTag.parentNode.insertBefore(tag, firstScriptTag);\n",
       "});\n",
       "};\n",
       "\n",
       "if(typeof $3Dmolpromise === 'undefined') {\n",
       "$3Dmolpromise = null;\n",
       "  $3Dmolpromise = loadScriptAsync('https://cdnjs.cloudflare.com/ajax/libs/3Dmol/2.4.0/3Dmol-min.js');\n",
       "}\n",
       "\n",
       "var viewer_1738729504955255 = null;\n",
       "var warn = document.getElementById(\"3dmolwarning_1738729504955255\");\n",
       "if(warn) {\n",
       "    warn.parentNode.removeChild(warn);\n",
       "}\n",
       "$3Dmolpromise.then(function() {\n",
       "viewer_1738729504955255 = $3Dmol.createViewer(document.getElementById(\"3dmolviewer_1738729504955255\"),{backgroundColor:\"white\"});\n",
       "viewer_1738729504955255.zoomTo();\n",
       "\tviewer_1738729504955255.addModel(\"\\n     RDKit          3D\\n\\n 29 28  0  0  0  0  0  0  0  0999 V2000\\n    5.0047    1.1926    1.3668 O   0  0  0  0  0  0  0  0  0  0  0  0\\n    4.5422    0.9041    0.2723 C   0  0  0  0  0  0  0  0  0  0  0  0\\n    5.3843    0.6844   -0.7639 O   0  0  0  0  0  0  0  0  0  0  0  0\\n    3.0725    0.7512   -0.0779 C   0  0  0  0  0  0  0  0  0  0  0  0\\n    2.8440    0.9056   -1.4148 F   0  0  0  0  0  0  0  0  0  0  0  0\\n    2.3217    1.7093    0.5365 F   0  0  0  0  0  0  0  0  0  0  0  0\\n    2.6319   -0.6274    0.3691 C   0  0  0  0  0  0  0  0  0  0  0  0\\n    2.6600   -0.7103    1.7309 F   0  0  0  0  0  0  0  0  0  0  0  0\\n    3.5384   -1.5621   -0.0623 F   0  0  0  0  0  0  0  0  0  0  0  0\\n    1.2610   -1.0429   -0.1405 C   0  0  0  0  0  0  0  0  0  0  0  0\\n    1.2886   -1.1657   -1.4982 F   0  0  0  0  0  0  0  0  0  0  0  0\\n    1.0117   -2.3053    0.3267 F   0  0  0  0  0  0  0  0  0  0  0  0\\n    0.1264   -0.1211    0.2667 C   0  0  0  0  0  0  0  0  0  0  0  0\\n    0.1899    0.1284    1.6011 F   0  0  0  0  0  0  0  0  0  0  0  0\\n    0.2710    1.0809   -0.3519 F   0  0  0  0  0  0  0  0  0  0  0  0\\n   -1.2271   -0.7149   -0.0916 C   0  0  0  0  0  0  0  0  0  0  0  0\\n   -1.2722   -0.9918   -1.4229 F   0  0  0  0  0  0  0  0  0  0  0  0\\n   -1.3977   -1.9043    0.5465 F   0  0  0  0  0  0  0  0  0  0  0  0\\n   -2.3555    0.2317    0.2788 C   0  0  0  0  0  0  0  0  0  0  0  0\\n   -2.3027    0.5157    1.6087 F   0  0  0  0  0  0  0  0  0  0  0  0\\n   -2.1928    1.4208   -0.3627 F   0  0  0  0  0  0  0  0  0  0  0  0\\n   -3.6997   -0.3643   -0.0710 C   0  0  0  0  0  0  0  0  0  0  0  0\\n   -3.8785   -1.5524    0.5733 F   0  0  0  0  0  0  0  0  0  0  0  0\\n   -3.7641   -0.6488   -1.4028 F   0  0  0  0  0  0  0  0  0  0  0  0\\n   -4.8033    0.6035    0.3080 C   0  0  0  0  0  0  0  0  0  0  0  0\\n   -6.0254    0.0968    0.0066 F   0  0  0  0  0  0  0  0  0  0  0  0\\n   -4.7002    1.7838   -0.3459 F   0  0  0  0  0  0  0  0  0  0  0  0\\n   -4.8132    0.8798    1.6327 F   0  0  0  0  0  0  0  0  0  0  0  0\\n    6.2843    0.8227   -0.3964 H   0  0  0  0  0  0  0  0  0  0  0  0\\n  1  2  2  0\\n  2  3  1  0\\n  2  4  1  0\\n  4  5  1  0\\n  4  6  1  0\\n  4  7  1  0\\n  7  8  1  0\\n  7  9  1  0\\n  7 10  1  0\\n 10 11  1  0\\n 10 12  1  0\\n 10 13  1  0\\n 13 14  1  0\\n 13 15  1  0\\n 13 16  1  0\\n 16 17  1  0\\n 16 18  1  0\\n 16 19  1  0\\n 19 20  1  0\\n 19 21  1  0\\n 19 22  1  0\\n 22 23  1  0\\n 22 24  1  0\\n 22 25  1  0\\n 25 26  1  0\\n 25 27  1  0\\n 25 28  1  0\\n  3 29  1  0\\nM  END\\n\",\"mol\");\n",
       "\tviewer_1738729504955255.setStyle({\"stick\": {\"model\": -1}});\n",
       "\tviewer_1738729504955255.zoomTo();\n",
       "\tviewer_1738729504955255.animate({\"loop\": \"forward\"});\n",
       "viewer_1738729504955255.render();\n",
       "});\n",
       "</script>"
      ]
     },
     "metadata": {},
     "output_type": "display_data"
    },
    {
     "data": {
      "text/html": [
       "<pre><h1>Unknown molecule</h1><br><span style=color:#cccccc;white-space=pre>name:</span> <span style=color:#cccccc;white-space=pre>-</span><br><span style=color:#00AAAA;white-space=pre>inchi:</span> InChI=1S/C9HF17O2/c10-2(11,1(27)28)3(12,13)4(14,15)5(16,17)6(18,19)7(20,21)8(22,23)9(24,25)26/h(H,27,28)<br><span style=color:#00AAAA;white-space=pre>inchikey:</span> UZUFPBIDKMEQEQ-UHFFFAOYSA-N<br><span style=color:#00AAAA;white-space=pre>canonical_smiles:</span> O=C(O)C(F)(F)C(F)(F)C(F)(F)C(F)(F)C(F)(F)C(F)(F)C(F)(F)C(F)(F)F<br><span style=color:#00AAAA;white-space=pre>isomeric_smiles:</span> O=C(O)C(F)(F)C(F)(F)C(F)(F)C(F)(F)C(F)(F)C(F)(F)C(F)(F)C(F)(F)F<br><span style=color:#cccccc;white-space=pre>smiles:</span> <span style=color:#cccccc;white-space=pre>-</span><br><span style=color:#00AAAA;white-space=pre>molecular_formula:</span> C9HF17O2<br><span style=color:#cccccc;white-space=pre>cid:</span> <span style=color:#cccccc;white-space=pre>-</span><br><br><h1>Synonyms:</h1><br><br><span style=color:#cccccc;white-space=pre>No synonyms found.</span><br><br><h1>Properties:</h1><br><span style=color:#00AAAA;white-space=pre>molecular_weight:</span><span style=color:#cccccc;white-space=pre>.</span>464.07099999999986    <span style=color:#00AAAA;white-space=pre>hydrogen bond acceptor count:</span><span style=color:#cccccc;white-space=pre>...</span>19.0    <span style=color:#00AAAA;white-space=pre>covalently-bonded unit count:</span><span style=color:#cccccc;white-space=pre>....</span>1.0    <br><span style=color:#00AAAA;white-space=pre>cid:</span><span style=color:#cccccc;white-space=pre>...........................</span>67821    <span style=color:#00AAAA;white-space=pre>rotatable bond count:</span><span style=color:#cccccc;white-space=pre>............</span>7.0    <span style=color:#00AAAA;white-space=pre>compound is canonicalized:</span><span style=color:#cccccc;white-space=pre>.......</span>Yes    <br><span style=color:#00AAAA;white-space=pre>cas_number</span>:<span style=color:#cccccc;white-space=pre>.........................</span>    <span style=color:#00AAAA;white-space=pre>exact mass:</span><span style=color:#cccccc;white-space=pre>...............</span>463.970508    <span style=color:#00AAAA;white-space=pre>bertz:</span><span style=color:#cccccc;white-space=pre>.............</span>614.6078197327042    <br><span style=color:#cccccc;white-space=pre>...........</span>4149-60-4 (ammonium salt)    <span style=color:#00AAAA;white-space=pre>monoisotopic mass:</span><span style=color:#cccccc;white-space=pre>........</span>463.970508    <span style=color:#00AAAA;white-space=pre>esol:</span><span style=color:#cccccc;white-space=pre>............</span>-6.5519409880260815    <br><span style=color:#00AAAA;white-space=pre>ec_number:</span><span style=color:#cccccc;white-space=pre>.................</span>206-801-3    <span style=color:#00AAAA;white-space=pre>topological polar surface area:</span><span style=color:#cccccc;white-space=pre>.</span>37.3    <span style=color:#00AAAA;white-space=pre>is_scaffold:</span><span style=color:#cccccc;white-space=pre>.....................</span>0.0    <br><span style=color:#00AAAA;white-space=pre>SMILES</span>:<span style=color:#cccccc;white-space=pre>.............................</span>    <span style=color:#00AAAA;white-space=pre>heavy atom count:</span><span style=color:#cccccc;white-space=pre>...............</span>28.0    <span style=color:#00AAAA;white-space=pre>lipinski:</span><span style=color:#cccccc;white-space=pre>........................</span>0.0    <br><span style=color:#cccccc;white-space=pre></span>C(=O)(C(C(C(C(C(C(C(C(F)(F)F)(F)F...    <span style=color:#00AAAA;white-space=pre>formal charge:</span><span style=color:#cccccc;white-space=pre>...................</span>0.0    <span style=color:#00AAAA;white-space=pre>logp:</span><span style=color:#cccccc;white-space=pre>.........................</span>5.0804    <br><span style=color:#00AAAA;white-space=pre>chemical_name</span>:<span style=color:#cccccc;white-space=pre>......................</span>    <span style=color:#00AAAA;white-space=pre>complexity:</span><span style=color:#cccccc;white-space=pre>....................</span>615.0    <span style=color:#00AAAA;white-space=pre>penalized_logp:</span><span style=color:#cccccc;white-space=pre>....</span>2.392226727625192    <br><span style=color:#cccccc;white-space=pre>..............</span>Perfluorononanoic acid    <span style=color:#00AAAA;white-space=pre>isotope atom count:</span><span style=color:#cccccc;white-space=pre>..............</span>0.0    <span style=color:#00AAAA;white-space=pre>plogp:</span><span style=color:#cccccc;white-space=pre>.............</span>2.392226727625192    <br><span style=color:#00AAAA;white-space=pre>molecular weight:</span><span style=color:#cccccc;white-space=pre>.............</span>464.08    <span style=color:#00AAAA;white-space=pre>defined atom stereocenter count:</span><span style=color:#cccccc;white-space=pre>.</span>0.0    <span style=color:#00AAAA;white-space=pre>qed:</span><span style=color:#cccccc;white-space=pre>..............</span>0.5343316726116679    <br><span style=color:#00AAAA;white-space=pre>xlogp3:</span><span style=color:#cccccc;white-space=pre>..........................</span>5.6    <span style=color:#00AAAA;white-space=pre>undefined atom stereocenter count</span>:<span style=color:#cccccc;white-space=pre>..</span>    <span style=color:#00AAAA;white-space=pre>sas:</span><span style=color:#cccccc;white-space=pre>...............</span>2.688173272374808    <br><span style=color:#00AAAA;white-space=pre>hydrogen bond donor count:</span><span style=color:#cccccc;white-space=pre>.......</span>1.0    <span style=color:#cccccc;white-space=pre>.................................</span>0.0    <span style=color:#00AAAA;white-space=pre>tpsa:</span><span style=color:#cccccc;white-space=pre>...........................</span>37.3    <br><br><br><h1>Analysis:</h1><br><span style=color:#00AAAA;white-space=pre>Toolkit:</span> rxn <span style=color:#cccccc;white-space=pre>/</span> <span style=color:#00AAAA;white-space=pre>Function:</span> predict_retrosynthesis <span style=color:#cccccc;white-space=pre>/</span> <span style=color:#00AAAA;white-space=pre>Smiles:</span> O=C(O)C(F)(F)C(F)(F)C(F)(F)C(F)(F)C(F)(F)C(F)(F)C(F)(F)C(F)(F)F <span style=color:#cccccc;white-space=pre>/</span> <span style=color:#00AAAA;white-space=pre>Parameters:</span> {'availability_pricing_threshold': 0, 'available_smiles': None, 'exclude_smiles': None, 'exclude_substructures': None, 'exclude_target_molecule': True, 'fap': 0.6, 'max_steps': 5, 'nbeams': 10, 'pruning_steps': 2, 'ai_model': '2020-07-01'}<br><br><span style=color:#cccccc;white-space=pre>Result #0</span>  <span style=color:#00AAAA;white-space=pre>value:</span> O=C(O)C(F)(F)C(F)(F)C(F)(F)C(F)(F)C(F)(F)C(F)(F)C(F)(F)C(F)(F)F<br>  <span style=color:#00AAAA;white-space=pre>_confidence:</span> 0.952<br>  <span style=color:#00AAAA;white-space=pre>children:</span> ['CC(C)=O', 'CC(C)=O.O=S(=O)(O)O.O=[Cr](=O)=O', 'OCC(F)(F)C(F)(F)C(F)(F)C(F)(F)C(F)(F)C(F)(F)C(F)(F)C(F)(F)F']<br><br><span style=color:#cccccc;white-space=pre>Result #1</span>  <span style=color:#00AAAA;white-space=pre>value:</span> O=C(O)C(F)(F)C(F)(F)C(F)(F)C(F)(F)C(F)(F)C(F)(F)C(F)(F)C(F)(F)F<br>  <span style=color:#00AAAA;white-space=pre>_confidence:</span> 0.932<br>  <span style=color:#00AAAA;white-space=pre>children:</span> [{'value': 'N#CC(F)(F)C(F)(F)C(F)(F)C(F)(F)C(F)(F)C(F)(F)C(F)(F)C(F)(F)F', '_confidence': 0.927, 'children': [{'value': 'NC(=O)C(F)(F)C(F)(F)C(F)(F)C(F)(F)C(F)(F)C(F)(F)C(F)(F)C(F)(F)F', '_confidence': 0.976, 'children': ['COC(=O)C(F)(F)C(F)(F)C(F)(F)C(F)(F)C(F)(F)C(F)(F)C(F)(F)C(F)(F)F', '[NH4+].[OH-]']}, 'O.O', 'O=P(Cl)(Cl)Cl']}, 'O', 'O=S(=O)(O)O']...<br><br><span style=color:#cccccc;white-space=pre>Result #2</span>  <span style=color:#00AAAA;white-space=pre>value:</span> O=C(O)C(F)(F)C(F)(F)C(F)(F)C(F)(F)C(F)(F)C(F)(F)C(F)(F)C(F)(F)F<br>  <span style=color:#00AAAA;white-space=pre>_confidence:</span> 0.932<br>  <span style=color:#00AAAA;white-space=pre>children:</span> [{'value': 'N#CC(F)(F)C(F)(F)C(F)(F)C(F)(F)C(F)(F)C(F)(F)C(F)(F)C(F)(F)F', '_confidence': 0.927, 'children': [{'value': 'NC(=O)C(F)(F)C(F)(F)C(F)(F)C(F)(F)C(F)(F)C(F)(F)C(F)(F)C(F)(F)F', '_confidence': 0.972, 'children': ['CCOC(=O)C(F)(F)C(F)(F)C(F)(F)C(F)(F)C(F)(F)C(F)(F)C(F)(F)C(F)(F)F', 'N']}, 'O.O', 'O=P(Cl)(Cl)Cl']}, 'O', 'O=S(=O)(O)O']...<br><br><span style=color:#cccccc;white-space=pre>Result #3</span>  <span style=color:#00AAAA;white-space=pre>value:</span> O=C(O)C(F)(F)C(F)(F)C(F)(F)C(F)(F)C(F)(F)C(F)(F)C(F)(F)C(F)(F)F<br>  <span style=color:#00AAAA;white-space=pre>_confidence:</span> 0.932<br>  <span style=color:#00AAAA;white-space=pre>children:</span> [{'value': 'N#CC(F)(F)C(F)(F)C(F)(F)C(F)(F)C(F)(F)C(F)(F)C(F)(F)C(F)(F)F', '_confidence': 0.927, 'children': [{'value': 'NC(=O)C(F)(F)C(F)(F)C(F)(F)C(F)(F)C(F)(F)C(F)(F)C(F)(F)C(F)(F)F', '_confidence': 0.972, 'children': ['COC(=O)C(F)(F)C(F)(F)C(F)(F)C(F)(F)C(F)(F)C(F)(F)C(F)(F)C(F)(F)F', 'N']}, 'O.O', 'O=P(Cl)(Cl)Cl']}, 'O', 'O=S(=O)(O)O']...<br><br><span style=color:#cccccc;white-space=pre>Result #4</span>  <span style=color:#00AAAA;white-space=pre>value:</span> O=C(O)C(F)(F)C(F)(F)C(F)(F)C(F)(F)C(F)(F)C(F)(F)C(F)(F)C(F)(F)F<br>  <span style=color:#00AAAA;white-space=pre>_confidence:</span> 0.932<br>  <span style=color:#00AAAA;white-space=pre>children:</span> [{'value': 'N#CC(F)(F)C(F)(F)C(F)(F)C(F)(F)C(F)(F)C(F)(F)C(F)(F)C(F)(F)F', '_confidence': 0.927, 'children': [{'value': 'NC(=O)C(F)(F)C(F)(F)C(F)(F)C(F)(F)C(F)(F)C(F)(F)C(F)(F)C(F)(F)F', '_confidence': 0.971, 'children': ['CO.N', 'COC(=O)C(F)(F)C(F)(F)C(F)(F)C(F)(F)C(F)(F)C(F)(F)C(F)(F)C(F)(F)F']}, 'O.O', 'O=P(Cl)(Cl)Cl']}, 'O', 'O=S(=O)(O)O']...<br><br><span style=color:#cccccc;white-space=pre>Result #5</span>  <span style=color:#00AAAA;white-space=pre>value:</span> O=C(O)C(F)(F)C(F)(F)C(F)(F)C(F)(F)C(F)(F)C(F)(F)C(F)(F)C(F)(F)F<br>  <span style=color:#00AAAA;white-space=pre>_confidence:</span> 0.831<br>  <span style=color:#00AAAA;white-space=pre>children:</span> ['CO', 'COC(=O)C(F)(F)C(F)(F)C(F)(F)C(F)(F)C(F)(F)C(F)(F)C(F)(F)C(F)(F)F', 'O', 'O[Na]']<br><br><span style=color:#cccccc;white-space=pre>Result #6</span>  <span style=color:#00AAAA;white-space=pre>value:</span> O=C(O)C(F)(F)C(F)(F)C(F)(F)C(F)(F)C(F)(F)C(F)(F)C(F)(F)C(F)(F)F<br>  <span style=color:#00AAAA;white-space=pre>_confidence:</span> 0.932<br>  <span style=color:#00AAAA;white-space=pre>children:</span> [{'value': 'N#CC(F)(F)C(F)(F)C(F)(F)C(F)(F)C(F)(F)C(F)(F)C(F)(F)C(F)(F)F', '_confidence': 0.927, 'children': [{'value': 'NC(=O)C(F)(F)C(F)(F)C(F)(F)C(F)(F)C(F)(F)C(F)(F)C(F)(F)C(F)(F)F', '_confidence': 0.932, 'children': ['CO', 'COC(=O)C(F)(F)C(F)(F)C(F)(F)C(F)(F)C(F)(F)C(F)(F)C(F)(F)C(F)(F)F', 'N']}, 'O.O', 'O=P(Cl)(Cl)Cl']}, 'O', 'O=S(=O)(O)O']...<br><br><span style=color:#cccccc;white-space=pre>Result #7</span>  <span style=color:#00AAAA;white-space=pre>value:</span> O=C(O)C(F)(F)C(F)(F)C(F)(F)C(F)(F)C(F)(F)C(F)(F)C(F)(F)C(F)(F)F<br>  <span style=color:#00AAAA;white-space=pre>_confidence:</span> 0.755<br>  <span style=color:#00AAAA;white-space=pre>children:</span> ['CCOC(=O)C(F)(F)C(F)(F)C(F)(F)C(F)(F)C(F)(F)C(F)(F)C(F)(F)C(F)(F)F', 'CO', 'O', 'O[K]']<br><br><span style=color:#cccccc;white-space=pre>Result #8</span>  <span style=color:#00AAAA;white-space=pre>value:</span> O=C(O)C(F)(F)C(F)(F)C(F)(F)C(F)(F)C(F)(F)C(F)(F)C(F)(F)C(F)(F)F<br>  <span style=color:#00AAAA;white-space=pre>_confidence:</span> 0.932<br>  <span style=color:#00AAAA;white-space=pre>children:</span> [{'value': 'N#CC(F)(F)C(F)(F)C(F)(F)C(F)(F)C(F)(F)C(F)(F)C(F)(F)C(F)(F)F', '_confidence': 0.927, 'children': [{'value': 'NC(=O)C(F)(F)C(F)(F)C(F)(F)C(F)(F)C(F)(F)C(F)(F)C(F)(F)C(F)(F)F', '_confidence': 0.936, 'children': [{'value': 'O=C(F)C(F)(F)C(F)(F)C(F)(F)C(F)(F)C(F)(F)C(F)(F)C(F)(F)C(F)(F)F', '_confidence': 0.915, 'children': ['O=C(Cl)C(F)(F)C(F)(F)C(F)(F)C(F)(F)C(F)(F)C(F)(F)C(F)(F)C(F)(F)F', '[F-].[K+]']}, '[NH4+].[OH-]']}, 'O.O', 'O=P(Cl)(Cl)Cl']}, 'O', 'O=S(=O)(O)O']...<br><br><span style=color:#cccccc;white-space=pre>Result #9</span>  <span style=color:#00AAAA;white-space=pre>value:</span> O=C(O)C(F)(F)C(F)(F)C(F)(F)C(F)(F)C(F)(F)C(F)(F)C(F)(F)C(F)(F)F<br>  <span style=color:#00AAAA;white-space=pre>_confidence:</span> 0.72<br>  <span style=color:#00AAAA;white-space=pre>children:</span> ['CO', 'COC(=O)C(F)(F)C(F)(F)C(F)(F)C(F)(F)C(F)(F)C(F)(F)C(F)(F)C(F)(F)F', 'O[Na]']<br><br><span style=color:#cccccc;white-space=pre>Result #10</span>  <span style=color:#00AAAA;white-space=pre>value:</span> O=C(O)C(F)(F)C(F)(F)C(F)(F)C(F)(F)C(F)(F)C(F)(F)C(F)(F)C(F)(F)F<br>  <span style=color:#00AAAA;white-space=pre>_confidence:</span> 0.717<br>  <span style=color:#00AAAA;white-space=pre>children:</span> ['CO', 'COC(=O)C(F)(F)C(F)(F)C(F)(F)C(F)(F)C(F)(F)C(F)(F)C(F)(F)C(F)(F)F', 'O', 'O[K]']<br><br><span style=color:#cccccc;white-space=pre>Result #11</span>  <span style=color:#00AAAA;white-space=pre>value:</span> O=C(O)C(F)(F)C(F)(F)C(F)(F)C(F)(F)C(F)(F)C(F)(F)C(F)(F)C(F)(F)F<br>  <span style=color:#00AAAA;white-space=pre>_confidence:</span> 0.932<br>  <span style=color:#00AAAA;white-space=pre>children:</span> [{'value': 'N#CC(F)(F)C(F)(F)C(F)(F)C(F)(F)C(F)(F)C(F)(F)C(F)(F)C(F)(F)F', '_confidence': 0.927, 'children': [{'value': 'NC(=O)C(F)(F)C(F)(F)C(F)(F)C(F)(F)C(F)(F)C(F)(F)C(F)(F)C(F)(F)F', '_confidence': 0.829, 'children': ['N', 'O=C(Cl)C(F)(F)C(F)(F)C(F)(F)C(F)(F)C(F)(F)C(F)(F)C(F)(F)C(F)(F)F']}, 'O.O', 'O=P(Cl)(Cl)Cl']}, 'O', 'O=S(=O)(O)O']...<br><br><span style=color:#cccccc;white-space=pre>Result #12</span>  <span style=color:#00AAAA;white-space=pre>value:</span> O=C(O)C(F)(F)C(F)(F)C(F)(F)C(F)(F)C(F)(F)C(F)(F)C(F)(F)C(F)(F)F<br>  <span style=color:#00AAAA;white-space=pre>_confidence:</span> 0.932<br>  <span style=color:#00AAAA;white-space=pre>children:</span> [{'value': 'N#CC(F)(F)C(F)(F)C(F)(F)C(F)(F)C(F)(F)C(F)(F)C(F)(F)C(F)(F)F', '_confidence': 0.927, 'children': [{'value': 'NC(=O)C(F)(F)C(F)(F)C(F)(F)C(F)(F)C(F)(F)C(F)(F)C(F)(F)C(F)(F)F', '_confidence': 0.936, 'children': [{'value': 'O=C(F)C(F)(F)C(F)(F)C(F)(F)C(F)(F)C(F)(F)C(F)(F)C(F)(F)C(F)(F)F', '_confidence': 0.873, 'children': ['COC(=O)C(F)(F)C(F)(F)C(F)(F)C(F)(F)C(F)(F)C(F)(F)C(F)(F)C(F)(F)F', 'F[K]']}, '[NH4+].[OH-]']}, 'O.O', 'O=P(Cl)(Cl)Cl']}, 'O', 'O=S(=O)(O)O']...<br><br><span style=color:#cccccc;white-space=pre>Result #13</span>  <span style=color:#00AAAA;white-space=pre>value:</span> O=C(O)C(F)(F)C(F)(F)C(F)(F)C(F)(F)C(F)(F)C(F)(F)C(F)(F)C(F)(F)F<br>  <span style=color:#00AAAA;white-space=pre>_confidence:</span> 0.932<br>  <span style=color:#00AAAA;white-space=pre>children:</span> [{'value': 'N#CC(F)(F)C(F)(F)C(F)(F)C(F)(F)C(F)(F)C(F)(F)C(F)(F)C(F)(F)F', '_confidence': 0.705, 'children': ['CN(C)C=O', 'FC(F)(F)C(F)(F)C(F)(F)C(F)(F)C(F)(F)C(F)(F)C(F)(F)C(F)(F)I', '[C-]#N.[C-]#N.[Cu+2]']}, 'O', 'O=S(=O)(O)O']...<br><br><span style=color:#cccccc;white-space=pre>Result #14</span>  <span style=color:#00AAAA;white-space=pre>value:</span> O=C(O)C(F)(F)C(F)(F)C(F)(F)C(F)(F)C(F)(F)C(F)(F)C(F)(F)C(F)(F)F<br>  <span style=color:#00AAAA;white-space=pre>_confidence:</span> 0.932<br>  <span style=color:#00AAAA;white-space=pre>children:</span> [{'value': 'N#CC(F)(F)C(F)(F)C(F)(F)C(F)(F)C(F)(F)C(F)(F)C(F)(F)C(F)(F)F', '_confidence': 0.927, 'children': [{'value': 'NC(=O)C(F)(F)C(F)(F)C(F)(F)C(F)(F)C(F)(F)C(F)(F)C(F)(F)C(F)(F)F', '_confidence': 0.936, 'children': [{'value': 'O=C(F)C(F)(F)C(F)(F)C(F)(F)C(F)(F)C(F)(F)C(F)(F)C(F)(F)C(F)(F)F', '_confidence': 0.698, 'children': ['F[K]', 'O=C(Cl)C(F)(F)C(F)(F)C(F)(F)C(F)(F)C(F)(F)C(F)(F)C(F)(F)F']}, '[NH4+].[OH-]']}, 'O.O', 'O=P(Cl)(Cl)Cl']}, 'O', 'O=S(=O)(O)O']...<br><br><span style=color:#cccccc;white-space=pre>Result #15</span>  <span style=color:#00AAAA;white-space=pre>value:</span> O=C(O)C(F)(F)C(F)(F)C(F)(F)C(F)(F)C(F)(F)C(F)(F)C(F)(F)C(F)(F)F<br>  <span style=color:#00AAAA;white-space=pre>_confidence:</span> 0.932<br>  <span style=color:#00AAAA;white-space=pre>children:</span> [{'value': 'N#CC(F)(F)C(F)(F)C(F)(F)C(F)(F)C(F)(F)C(F)(F)C(F)(F)C(F)(F)F', '_confidence': 0.927, 'children': [{'value': 'NC(=O)C(F)(F)C(F)(F)C(F)(F)C(F)(F)C(F)(F)C(F)(F)C(F)(F)C(F)(F)F', '_confidence': 0.936, 'children': [{'value': 'O=C(F)C(F)(F)C(F)(F)C(F)(F)C(F)(F)C(F)(F)C(F)(F)C(F)(F)C(F)(F)F', '_confidence': 0.672, 'children': ['COC(=O)C(F)(F)C(F)(F)C(F)(F)C(F)(F)C(F)(F)C(F)(F)C(F)(F)C(F)(F)F', 'F']}, '[NH4+].[OH-]']}, 'O.O', 'O=P(Cl)(Cl)Cl']}, 'O', 'O=S(=O)(O)O']...</pre>"
      ],
      "text/plain": [
       "<IPython.core.display.HTML object>"
      ]
     },
     "metadata": {},
     "output_type": "display_data"
    }
   ],
   "source": [
    "%openad display molecule 'O=C(O)C(F)(F)C(F)(F)C(F)(F)C(F)(F)C(F)(F)C(F)(F)C(F)(F)C(F)(F)F'"
   ]
  },
  {
   "cell_type": "code",
   "execution_count": null,
   "id": "b370cb01-f9ac-4b76-a552-3455a84f4893",
   "metadata": {},
   "outputs": [],
   "source": []
  }
 ],
 "metadata": {
  "kernelspec": {
   "display_name": "ad-venv",
   "language": "python",
   "name": "ad-venv"
  },
  "language_info": {
   "codemirror_mode": {
    "name": "ipython",
    "version": 3
   },
   "file_extension": ".py",
   "mimetype": "text/x-python",
   "name": "python",
   "nbconvert_exporter": "python",
   "pygments_lexer": "ipython3",
   "version": "3.10.14"
  }
 },
 "nbformat": 4,
 "nbformat_minor": 5
}
